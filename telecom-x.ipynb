{
 "cells": [
  {
   "cell_type": "markdown",
   "id": "0a66f0d1",
   "metadata": {},
   "source": [
    "# Desafío Telecom X parte 2\n",
    "\n",
    "## Objetivos del desafío\n",
    "- Preparar los datos para el modelado (tratamiento, codificación, normalización).\n",
    "- Realizar análisis de correlación y selección de variables.\n",
    "- Entrenar dos o más modelos de clasificación.\n",
    "- Evaluar el rendimiento de los modelos con métricas.\n",
    "- Interpretar los resultados, incluyendo la importancia de las variables.\n",
    "- Crear una conclusión estratégica señalando los principales factores que influyen en la cancelación.\n",
    "\n",
    "## Qué se pondrá en práctica\n",
    "- Preprocesamiento de datos para Machine Learning\n",
    "- Construcción y evaluación de modelos predictivos\n",
    "- Interpretación de resultados y entrega de insights\n",
    "- Comunicación técnica con enfoque estratégico"
   ]
  },
  {
   "cell_type": "markdown",
   "id": "83ffe773",
   "metadata": {},
   "source": [
    "> **Nota:** Este notebook sigue el flujo típico de un proyecto de clasificación en Data Science, desde la exploración de datos hasta la evaluación y optimización de modelos. Se incluyen comentarios en las celdas clave para guiar al usuario."
   ]
  },
  {
   "cell_type": "markdown",
   "id": "45e3a60e",
   "metadata": {},
   "source": [
    "# Eliminación de columnas irrelevantes"
   ]
  },
  {
   "cell_type": "code",
   "execution_count": 1418,
   "id": "5d3eb28e",
   "metadata": {},
   "outputs": [],
   "source": [
    "import pandas as pd"
   ]
  },
  {
   "cell_type": "markdown",
   "id": "52f3a33f",
   "metadata": {},
   "source": [
    "> Importamos las librerías principales para manipulación de datos y visualización."
   ]
  },
  {
   "cell_type": "code",
   "execution_count": 1419,
   "id": "15d89eec",
   "metadata": {},
   "outputs": [
    {
     "data": {
      "text/html": [
       "<div>\n",
       "<style scoped>\n",
       "    .dataframe tbody tr th:only-of-type {\n",
       "        vertical-align: middle;\n",
       "    }\n",
       "\n",
       "    .dataframe tbody tr th {\n",
       "        vertical-align: top;\n",
       "    }\n",
       "\n",
       "    .dataframe thead th {\n",
       "        text-align: right;\n",
       "    }\n",
       "</style>\n",
       "<table border=\"1\" class=\"dataframe\">\n",
       "  <thead>\n",
       "    <tr style=\"text-align: right;\">\n",
       "      <th></th>\n",
       "      <th>customerID</th>\n",
       "      <th>Churn</th>\n",
       "      <th>gender</th>\n",
       "      <th>SeniorCitizen</th>\n",
       "      <th>Partner</th>\n",
       "      <th>Dependents</th>\n",
       "      <th>tenure</th>\n",
       "      <th>PhoneService</th>\n",
       "      <th>MultipleLines</th>\n",
       "      <th>InternetService</th>\n",
       "      <th>...</th>\n",
       "      <th>PhoneService_bin</th>\n",
       "      <th>MultipleLines_bin</th>\n",
       "      <th>InternetService_bin</th>\n",
       "      <th>OnlineSecurity_bin</th>\n",
       "      <th>OnlineBackup_bin</th>\n",
       "      <th>DeviceProtection_bin</th>\n",
       "      <th>TechSupport_bin</th>\n",
       "      <th>StreamingTV_bin</th>\n",
       "      <th>StreamingMovies_bin</th>\n",
       "      <th>servicios_contratados</th>\n",
       "    </tr>\n",
       "  </thead>\n",
       "  <tbody>\n",
       "    <tr>\n",
       "      <th>0</th>\n",
       "      <td>0002-ORFBO</td>\n",
       "      <td>0</td>\n",
       "      <td>Female</td>\n",
       "      <td>0</td>\n",
       "      <td>1</td>\n",
       "      <td>1</td>\n",
       "      <td>9</td>\n",
       "      <td>1</td>\n",
       "      <td>No</td>\n",
       "      <td>DSL</td>\n",
       "      <td>...</td>\n",
       "      <td>0</td>\n",
       "      <td>0</td>\n",
       "      <td>0</td>\n",
       "      <td>0</td>\n",
       "      <td>1</td>\n",
       "      <td>0</td>\n",
       "      <td>1</td>\n",
       "      <td>1</td>\n",
       "      <td>0</td>\n",
       "      <td>3</td>\n",
       "    </tr>\n",
       "    <tr>\n",
       "      <th>1</th>\n",
       "      <td>0003-MKNFE</td>\n",
       "      <td>0</td>\n",
       "      <td>Male</td>\n",
       "      <td>0</td>\n",
       "      <td>0</td>\n",
       "      <td>0</td>\n",
       "      <td>9</td>\n",
       "      <td>1</td>\n",
       "      <td>Yes</td>\n",
       "      <td>DSL</td>\n",
       "      <td>...</td>\n",
       "      <td>0</td>\n",
       "      <td>1</td>\n",
       "      <td>0</td>\n",
       "      <td>0</td>\n",
       "      <td>0</td>\n",
       "      <td>0</td>\n",
       "      <td>0</td>\n",
       "      <td>0</td>\n",
       "      <td>1</td>\n",
       "      <td>2</td>\n",
       "    </tr>\n",
       "    <tr>\n",
       "      <th>2</th>\n",
       "      <td>0004-TLHLJ</td>\n",
       "      <td>1</td>\n",
       "      <td>Male</td>\n",
       "      <td>0</td>\n",
       "      <td>0</td>\n",
       "      <td>0</td>\n",
       "      <td>4</td>\n",
       "      <td>1</td>\n",
       "      <td>No</td>\n",
       "      <td>Fiber optic</td>\n",
       "      <td>...</td>\n",
       "      <td>0</td>\n",
       "      <td>0</td>\n",
       "      <td>0</td>\n",
       "      <td>0</td>\n",
       "      <td>0</td>\n",
       "      <td>1</td>\n",
       "      <td>0</td>\n",
       "      <td>0</td>\n",
       "      <td>0</td>\n",
       "      <td>1</td>\n",
       "    </tr>\n",
       "    <tr>\n",
       "      <th>3</th>\n",
       "      <td>0011-IGKFF</td>\n",
       "      <td>1</td>\n",
       "      <td>Male</td>\n",
       "      <td>1</td>\n",
       "      <td>1</td>\n",
       "      <td>0</td>\n",
       "      <td>13</td>\n",
       "      <td>1</td>\n",
       "      <td>No</td>\n",
       "      <td>Fiber optic</td>\n",
       "      <td>...</td>\n",
       "      <td>0</td>\n",
       "      <td>0</td>\n",
       "      <td>0</td>\n",
       "      <td>0</td>\n",
       "      <td>1</td>\n",
       "      <td>1</td>\n",
       "      <td>0</td>\n",
       "      <td>1</td>\n",
       "      <td>1</td>\n",
       "      <td>4</td>\n",
       "    </tr>\n",
       "    <tr>\n",
       "      <th>4</th>\n",
       "      <td>0013-EXCHZ</td>\n",
       "      <td>1</td>\n",
       "      <td>Female</td>\n",
       "      <td>1</td>\n",
       "      <td>1</td>\n",
       "      <td>0</td>\n",
       "      <td>3</td>\n",
       "      <td>1</td>\n",
       "      <td>No</td>\n",
       "      <td>Fiber optic</td>\n",
       "      <td>...</td>\n",
       "      <td>0</td>\n",
       "      <td>0</td>\n",
       "      <td>0</td>\n",
       "      <td>0</td>\n",
       "      <td>0</td>\n",
       "      <td>0</td>\n",
       "      <td>1</td>\n",
       "      <td>1</td>\n",
       "      <td>0</td>\n",
       "      <td>2</td>\n",
       "    </tr>\n",
       "  </tbody>\n",
       "</table>\n",
       "<p>5 rows × 33 columns</p>\n",
       "</div>"
      ],
      "text/plain": [
       "   customerID  Churn  gender  SeniorCitizen  Partner  Dependents  tenure  \\\n",
       "0  0002-ORFBO      0  Female              0        1           1       9   \n",
       "1  0003-MKNFE      0    Male              0        0           0       9   \n",
       "2  0004-TLHLJ      1    Male              0        0           0       4   \n",
       "3  0011-IGKFF      1    Male              1        1           0      13   \n",
       "4  0013-EXCHZ      1  Female              1        1           0       3   \n",
       "\n",
       "   PhoneService MultipleLines InternetService  ... PhoneService_bin  \\\n",
       "0             1            No             DSL  ...                0   \n",
       "1             1           Yes             DSL  ...                0   \n",
       "2             1            No     Fiber optic  ...                0   \n",
       "3             1            No     Fiber optic  ...                0   \n",
       "4             1            No     Fiber optic  ...                0   \n",
       "\n",
       "  MultipleLines_bin InternetService_bin OnlineSecurity_bin OnlineBackup_bin  \\\n",
       "0                 0                   0                  0                1   \n",
       "1                 1                   0                  0                0   \n",
       "2                 0                   0                  0                0   \n",
       "3                 0                   0                  0                1   \n",
       "4                 0                   0                  0                0   \n",
       "\n",
       "  DeviceProtection_bin TechSupport_bin  StreamingTV_bin StreamingMovies_bin  \\\n",
       "0                    0               1                1                   0   \n",
       "1                    0               0                0                   1   \n",
       "2                    1               0                0                   0   \n",
       "3                    1               0                1                   1   \n",
       "4                    0               1                1                   0   \n",
       "\n",
       "   servicios_contratados  \n",
       "0                      3  \n",
       "1                      2  \n",
       "2                      1  \n",
       "3                      4  \n",
       "4                      2  \n",
       "\n",
       "[5 rows x 33 columns]"
      ]
     },
     "execution_count": 1419,
     "metadata": {},
     "output_type": "execute_result"
    }
   ],
   "source": [
    "datos = pd.read_csv('data/datos_tratados.csv')\n",
    "datos.head()"
   ]
  },
  {
   "cell_type": "code",
   "execution_count": 1420,
   "id": "b92b7b91",
   "metadata": {},
   "outputs": [
    {
     "name": "stdout",
     "output_type": "stream",
     "text": [
      "<class 'pandas.core.frame.DataFrame'>\n",
      "RangeIndex: 7043 entries, 0 to 7042\n",
      "Data columns (total 33 columns):\n",
      " #   Column                 Non-Null Count  Dtype  \n",
      "---  ------                 --------------  -----  \n",
      " 0   customerID             7043 non-null   object \n",
      " 1   Churn                  7043 non-null   int64  \n",
      " 2   gender                 7043 non-null   object \n",
      " 3   SeniorCitizen          7043 non-null   int64  \n",
      " 4   Partner                7043 non-null   int64  \n",
      " 5   Dependents             7043 non-null   int64  \n",
      " 6   tenure                 7043 non-null   int64  \n",
      " 7   PhoneService           7043 non-null   int64  \n",
      " 8   MultipleLines          7043 non-null   object \n",
      " 9   InternetService        7043 non-null   object \n",
      " 10  OnlineSecurity         7043 non-null   object \n",
      " 11  OnlineBackup           7043 non-null   object \n",
      " 12  DeviceProtection       7043 non-null   object \n",
      " 13  TechSupport            7043 non-null   object \n",
      " 14  StreamingTV            7043 non-null   object \n",
      " 15  StreamingMovies        7043 non-null   object \n",
      " 16  Contract               7043 non-null   object \n",
      " 17  PaperlessBilling       7043 non-null   int64  \n",
      " 18  PaymentMethod          7043 non-null   object \n",
      " 19  Charges.Monthly        7043 non-null   float64\n",
      " 20  Charges.Total          7043 non-null   float64\n",
      " 21  Cuentas_Diarias        7043 non-null   float64\n",
      " 22  gender_encoded         7043 non-null   int64  \n",
      " 23  PhoneService_bin       7043 non-null   int64  \n",
      " 24  MultipleLines_bin      7043 non-null   int64  \n",
      " 25  InternetService_bin    7043 non-null   int64  \n",
      " 26  OnlineSecurity_bin     7043 non-null   int64  \n",
      " 27  OnlineBackup_bin       7043 non-null   int64  \n",
      " 28  DeviceProtection_bin   7043 non-null   int64  \n",
      " 29  TechSupport_bin        7043 non-null   int64  \n",
      " 30  StreamingTV_bin        7043 non-null   int64  \n",
      " 31  StreamingMovies_bin    7043 non-null   int64  \n",
      " 32  servicios_contratados  7043 non-null   int64  \n",
      "dtypes: float64(3), int64(18), object(12)\n",
      "memory usage: 1.8+ MB\n"
     ]
    }
   ],
   "source": [
    "datos.info()"
   ]
  },
  {
   "cell_type": "code",
   "execution_count": 1421,
   "id": "6fcc42d4",
   "metadata": {},
   "outputs": [
    {
     "data": {
      "text/html": [
       "<div>\n",
       "<style scoped>\n",
       "    .dataframe tbody tr th:only-of-type {\n",
       "        vertical-align: middle;\n",
       "    }\n",
       "\n",
       "    .dataframe tbody tr th {\n",
       "        vertical-align: top;\n",
       "    }\n",
       "\n",
       "    .dataframe thead th {\n",
       "        text-align: right;\n",
       "    }\n",
       "</style>\n",
       "<table border=\"1\" class=\"dataframe\">\n",
       "  <thead>\n",
       "    <tr style=\"text-align: right;\">\n",
       "      <th></th>\n",
       "      <th>Churn</th>\n",
       "      <th>SeniorCitizen</th>\n",
       "      <th>Partner</th>\n",
       "      <th>Dependents</th>\n",
       "      <th>tenure</th>\n",
       "      <th>PhoneService</th>\n",
       "      <th>PaperlessBilling</th>\n",
       "      <th>Charges.Monthly</th>\n",
       "      <th>Charges.Total</th>\n",
       "      <th>Cuentas_Diarias</th>\n",
       "      <th>...</th>\n",
       "      <th>PhoneService_bin</th>\n",
       "      <th>MultipleLines_bin</th>\n",
       "      <th>InternetService_bin</th>\n",
       "      <th>OnlineSecurity_bin</th>\n",
       "      <th>OnlineBackup_bin</th>\n",
       "      <th>DeviceProtection_bin</th>\n",
       "      <th>TechSupport_bin</th>\n",
       "      <th>StreamingTV_bin</th>\n",
       "      <th>StreamingMovies_bin</th>\n",
       "      <th>servicios_contratados</th>\n",
       "    </tr>\n",
       "  </thead>\n",
       "  <tbody>\n",
       "    <tr>\n",
       "      <th>count</th>\n",
       "      <td>7043.000000</td>\n",
       "      <td>7043.000000</td>\n",
       "      <td>7043.000000</td>\n",
       "      <td>7043.000000</td>\n",
       "      <td>7043.000000</td>\n",
       "      <td>7043.000000</td>\n",
       "      <td>7043.000000</td>\n",
       "      <td>7043.000000</td>\n",
       "      <td>7043.000000</td>\n",
       "      <td>7043.000000</td>\n",
       "      <td>...</td>\n",
       "      <td>7043.0</td>\n",
       "      <td>7043.000000</td>\n",
       "      <td>7043.0</td>\n",
       "      <td>7043.000000</td>\n",
       "      <td>7043.000000</td>\n",
       "      <td>7043.000000</td>\n",
       "      <td>7043.000000</td>\n",
       "      <td>7043.000000</td>\n",
       "      <td>7043.000000</td>\n",
       "      <td>7043.000000</td>\n",
       "    </tr>\n",
       "    <tr>\n",
       "      <th>mean</th>\n",
       "      <td>0.265370</td>\n",
       "      <td>0.162147</td>\n",
       "      <td>0.483033</td>\n",
       "      <td>0.299588</td>\n",
       "      <td>32.371149</td>\n",
       "      <td>0.903166</td>\n",
       "      <td>0.592219</td>\n",
       "      <td>64.761692</td>\n",
       "      <td>2279.734304</td>\n",
       "      <td>2.158675</td>\n",
       "      <td>...</td>\n",
       "      <td>0.0</td>\n",
       "      <td>0.421837</td>\n",
       "      <td>0.0</td>\n",
       "      <td>0.286668</td>\n",
       "      <td>0.344881</td>\n",
       "      <td>0.343888</td>\n",
       "      <td>0.290217</td>\n",
       "      <td>0.384353</td>\n",
       "      <td>0.387903</td>\n",
       "      <td>2.459747</td>\n",
       "    </tr>\n",
       "    <tr>\n",
       "      <th>std</th>\n",
       "      <td>0.441561</td>\n",
       "      <td>0.368612</td>\n",
       "      <td>0.499748</td>\n",
       "      <td>0.458110</td>\n",
       "      <td>24.559481</td>\n",
       "      <td>0.295752</td>\n",
       "      <td>0.491457</td>\n",
       "      <td>30.090047</td>\n",
       "      <td>2266.794470</td>\n",
       "      <td>1.003088</td>\n",
       "      <td>...</td>\n",
       "      <td>0.0</td>\n",
       "      <td>0.493888</td>\n",
       "      <td>0.0</td>\n",
       "      <td>0.452237</td>\n",
       "      <td>0.475363</td>\n",
       "      <td>0.475038</td>\n",
       "      <td>0.453895</td>\n",
       "      <td>0.486477</td>\n",
       "      <td>0.487307</td>\n",
       "      <td>2.045539</td>\n",
       "    </tr>\n",
       "    <tr>\n",
       "      <th>min</th>\n",
       "      <td>0.000000</td>\n",
       "      <td>0.000000</td>\n",
       "      <td>0.000000</td>\n",
       "      <td>0.000000</td>\n",
       "      <td>0.000000</td>\n",
       "      <td>0.000000</td>\n",
       "      <td>0.000000</td>\n",
       "      <td>18.250000</td>\n",
       "      <td>0.000000</td>\n",
       "      <td>0.610000</td>\n",
       "      <td>...</td>\n",
       "      <td>0.0</td>\n",
       "      <td>0.000000</td>\n",
       "      <td>0.0</td>\n",
       "      <td>0.000000</td>\n",
       "      <td>0.000000</td>\n",
       "      <td>0.000000</td>\n",
       "      <td>0.000000</td>\n",
       "      <td>0.000000</td>\n",
       "      <td>0.000000</td>\n",
       "      <td>0.000000</td>\n",
       "    </tr>\n",
       "    <tr>\n",
       "      <th>25%</th>\n",
       "      <td>0.000000</td>\n",
       "      <td>0.000000</td>\n",
       "      <td>0.000000</td>\n",
       "      <td>0.000000</td>\n",
       "      <td>9.000000</td>\n",
       "      <td>1.000000</td>\n",
       "      <td>0.000000</td>\n",
       "      <td>35.500000</td>\n",
       "      <td>398.550000</td>\n",
       "      <td>1.180000</td>\n",
       "      <td>...</td>\n",
       "      <td>0.0</td>\n",
       "      <td>0.000000</td>\n",
       "      <td>0.0</td>\n",
       "      <td>0.000000</td>\n",
       "      <td>0.000000</td>\n",
       "      <td>0.000000</td>\n",
       "      <td>0.000000</td>\n",
       "      <td>0.000000</td>\n",
       "      <td>0.000000</td>\n",
       "      <td>1.000000</td>\n",
       "    </tr>\n",
       "    <tr>\n",
       "      <th>50%</th>\n",
       "      <td>0.000000</td>\n",
       "      <td>0.000000</td>\n",
       "      <td>0.000000</td>\n",
       "      <td>0.000000</td>\n",
       "      <td>29.000000</td>\n",
       "      <td>1.000000</td>\n",
       "      <td>1.000000</td>\n",
       "      <td>70.350000</td>\n",
       "      <td>1394.550000</td>\n",
       "      <td>2.340000</td>\n",
       "      <td>...</td>\n",
       "      <td>0.0</td>\n",
       "      <td>0.000000</td>\n",
       "      <td>0.0</td>\n",
       "      <td>0.000000</td>\n",
       "      <td>0.000000</td>\n",
       "      <td>0.000000</td>\n",
       "      <td>0.000000</td>\n",
       "      <td>0.000000</td>\n",
       "      <td>0.000000</td>\n",
       "      <td>2.000000</td>\n",
       "    </tr>\n",
       "    <tr>\n",
       "      <th>75%</th>\n",
       "      <td>1.000000</td>\n",
       "      <td>0.000000</td>\n",
       "      <td>1.000000</td>\n",
       "      <td>1.000000</td>\n",
       "      <td>55.000000</td>\n",
       "      <td>1.000000</td>\n",
       "      <td>1.000000</td>\n",
       "      <td>89.850000</td>\n",
       "      <td>3786.600000</td>\n",
       "      <td>2.990000</td>\n",
       "      <td>...</td>\n",
       "      <td>0.0</td>\n",
       "      <td>1.000000</td>\n",
       "      <td>0.0</td>\n",
       "      <td>1.000000</td>\n",
       "      <td>1.000000</td>\n",
       "      <td>1.000000</td>\n",
       "      <td>1.000000</td>\n",
       "      <td>1.000000</td>\n",
       "      <td>1.000000</td>\n",
       "      <td>4.000000</td>\n",
       "    </tr>\n",
       "    <tr>\n",
       "      <th>max</th>\n",
       "      <td>1.000000</td>\n",
       "      <td>1.000000</td>\n",
       "      <td>1.000000</td>\n",
       "      <td>1.000000</td>\n",
       "      <td>72.000000</td>\n",
       "      <td>1.000000</td>\n",
       "      <td>1.000000</td>\n",
       "      <td>118.750000</td>\n",
       "      <td>8684.800000</td>\n",
       "      <td>3.960000</td>\n",
       "      <td>...</td>\n",
       "      <td>0.0</td>\n",
       "      <td>1.000000</td>\n",
       "      <td>0.0</td>\n",
       "      <td>1.000000</td>\n",
       "      <td>1.000000</td>\n",
       "      <td>1.000000</td>\n",
       "      <td>1.000000</td>\n",
       "      <td>1.000000</td>\n",
       "      <td>1.000000</td>\n",
       "      <td>7.000000</td>\n",
       "    </tr>\n",
       "  </tbody>\n",
       "</table>\n",
       "<p>8 rows × 21 columns</p>\n",
       "</div>"
      ],
      "text/plain": [
       "             Churn  SeniorCitizen      Partner   Dependents       tenure  \\\n",
       "count  7043.000000    7043.000000  7043.000000  7043.000000  7043.000000   \n",
       "mean      0.265370       0.162147     0.483033     0.299588    32.371149   \n",
       "std       0.441561       0.368612     0.499748     0.458110    24.559481   \n",
       "min       0.000000       0.000000     0.000000     0.000000     0.000000   \n",
       "25%       0.000000       0.000000     0.000000     0.000000     9.000000   \n",
       "50%       0.000000       0.000000     0.000000     0.000000    29.000000   \n",
       "75%       1.000000       0.000000     1.000000     1.000000    55.000000   \n",
       "max       1.000000       1.000000     1.000000     1.000000    72.000000   \n",
       "\n",
       "       PhoneService  PaperlessBilling  Charges.Monthly  Charges.Total  \\\n",
       "count   7043.000000       7043.000000      7043.000000    7043.000000   \n",
       "mean       0.903166          0.592219        64.761692    2279.734304   \n",
       "std        0.295752          0.491457        30.090047    2266.794470   \n",
       "min        0.000000          0.000000        18.250000       0.000000   \n",
       "25%        1.000000          0.000000        35.500000     398.550000   \n",
       "50%        1.000000          1.000000        70.350000    1394.550000   \n",
       "75%        1.000000          1.000000        89.850000    3786.600000   \n",
       "max        1.000000          1.000000       118.750000    8684.800000   \n",
       "\n",
       "       Cuentas_Diarias  ...  PhoneService_bin  MultipleLines_bin  \\\n",
       "count      7043.000000  ...            7043.0        7043.000000   \n",
       "mean          2.158675  ...               0.0           0.421837   \n",
       "std           1.003088  ...               0.0           0.493888   \n",
       "min           0.610000  ...               0.0           0.000000   \n",
       "25%           1.180000  ...               0.0           0.000000   \n",
       "50%           2.340000  ...               0.0           0.000000   \n",
       "75%           2.990000  ...               0.0           1.000000   \n",
       "max           3.960000  ...               0.0           1.000000   \n",
       "\n",
       "       InternetService_bin  OnlineSecurity_bin  OnlineBackup_bin  \\\n",
       "count               7043.0         7043.000000       7043.000000   \n",
       "mean                   0.0            0.286668          0.344881   \n",
       "std                    0.0            0.452237          0.475363   \n",
       "min                    0.0            0.000000          0.000000   \n",
       "25%                    0.0            0.000000          0.000000   \n",
       "50%                    0.0            0.000000          0.000000   \n",
       "75%                    0.0            1.000000          1.000000   \n",
       "max                    0.0            1.000000          1.000000   \n",
       "\n",
       "       DeviceProtection_bin  TechSupport_bin  StreamingTV_bin  \\\n",
       "count           7043.000000      7043.000000      7043.000000   \n",
       "mean               0.343888         0.290217         0.384353   \n",
       "std                0.475038         0.453895         0.486477   \n",
       "min                0.000000         0.000000         0.000000   \n",
       "25%                0.000000         0.000000         0.000000   \n",
       "50%                0.000000         0.000000         0.000000   \n",
       "75%                1.000000         1.000000         1.000000   \n",
       "max                1.000000         1.000000         1.000000   \n",
       "\n",
       "       StreamingMovies_bin  servicios_contratados  \n",
       "count          7043.000000            7043.000000  \n",
       "mean              0.387903               2.459747  \n",
       "std               0.487307               2.045539  \n",
       "min               0.000000               0.000000  \n",
       "25%               0.000000               1.000000  \n",
       "50%               0.000000               2.000000  \n",
       "75%               1.000000               4.000000  \n",
       "max               1.000000               7.000000  \n",
       "\n",
       "[8 rows x 21 columns]"
      ]
     },
     "execution_count": 1421,
     "metadata": {},
     "output_type": "execute_result"
    }
   ],
   "source": [
    "datos.describe()"
   ]
  },
  {
   "cell_type": "code",
   "execution_count": 1422,
   "id": "b8db6714",
   "metadata": {},
   "outputs": [
    {
     "data": {
      "text/html": [
       "<div>\n",
       "<style scoped>\n",
       "    .dataframe tbody tr th:only-of-type {\n",
       "        vertical-align: middle;\n",
       "    }\n",
       "\n",
       "    .dataframe tbody tr th {\n",
       "        vertical-align: top;\n",
       "    }\n",
       "\n",
       "    .dataframe thead th {\n",
       "        text-align: right;\n",
       "    }\n",
       "</style>\n",
       "<table border=\"1\" class=\"dataframe\">\n",
       "  <thead>\n",
       "    <tr style=\"text-align: right;\">\n",
       "      <th></th>\n",
       "      <th>customerID</th>\n",
       "      <th>gender</th>\n",
       "      <th>MultipleLines</th>\n",
       "      <th>InternetService</th>\n",
       "      <th>OnlineSecurity</th>\n",
       "      <th>OnlineBackup</th>\n",
       "      <th>DeviceProtection</th>\n",
       "      <th>TechSupport</th>\n",
       "      <th>StreamingTV</th>\n",
       "      <th>StreamingMovies</th>\n",
       "      <th>Contract</th>\n",
       "      <th>PaymentMethod</th>\n",
       "    </tr>\n",
       "  </thead>\n",
       "  <tbody>\n",
       "    <tr>\n",
       "      <th>count</th>\n",
       "      <td>7043</td>\n",
       "      <td>7043</td>\n",
       "      <td>7043</td>\n",
       "      <td>7043</td>\n",
       "      <td>7043</td>\n",
       "      <td>7043</td>\n",
       "      <td>7043</td>\n",
       "      <td>7043</td>\n",
       "      <td>7043</td>\n",
       "      <td>7043</td>\n",
       "      <td>7043</td>\n",
       "      <td>7043</td>\n",
       "    </tr>\n",
       "    <tr>\n",
       "      <th>unique</th>\n",
       "      <td>7043</td>\n",
       "      <td>2</td>\n",
       "      <td>3</td>\n",
       "      <td>3</td>\n",
       "      <td>3</td>\n",
       "      <td>3</td>\n",
       "      <td>3</td>\n",
       "      <td>3</td>\n",
       "      <td>3</td>\n",
       "      <td>3</td>\n",
       "      <td>3</td>\n",
       "      <td>4</td>\n",
       "    </tr>\n",
       "    <tr>\n",
       "      <th>top</th>\n",
       "      <td>0002-ORFBO</td>\n",
       "      <td>Male</td>\n",
       "      <td>No</td>\n",
       "      <td>Fiber optic</td>\n",
       "      <td>No</td>\n",
       "      <td>No</td>\n",
       "      <td>No</td>\n",
       "      <td>No</td>\n",
       "      <td>No</td>\n",
       "      <td>No</td>\n",
       "      <td>Month-to-month</td>\n",
       "      <td>Electronic check</td>\n",
       "    </tr>\n",
       "    <tr>\n",
       "      <th>freq</th>\n",
       "      <td>1</td>\n",
       "      <td>3555</td>\n",
       "      <td>3390</td>\n",
       "      <td>3096</td>\n",
       "      <td>3498</td>\n",
       "      <td>3088</td>\n",
       "      <td>3095</td>\n",
       "      <td>3473</td>\n",
       "      <td>2810</td>\n",
       "      <td>2785</td>\n",
       "      <td>3875</td>\n",
       "      <td>2365</td>\n",
       "    </tr>\n",
       "  </tbody>\n",
       "</table>\n",
       "</div>"
      ],
      "text/plain": [
       "        customerID gender MultipleLines InternetService OnlineSecurity  \\\n",
       "count         7043   7043          7043            7043           7043   \n",
       "unique        7043      2             3               3              3   \n",
       "top     0002-ORFBO   Male            No     Fiber optic             No   \n",
       "freq             1   3555          3390            3096           3498   \n",
       "\n",
       "       OnlineBackup DeviceProtection TechSupport StreamingTV StreamingMovies  \\\n",
       "count          7043             7043        7043        7043            7043   \n",
       "unique            3                3           3           3               3   \n",
       "top              No               No          No          No              No   \n",
       "freq           3088             3095        3473        2810            2785   \n",
       "\n",
       "              Contract     PaymentMethod  \n",
       "count             7043              7043  \n",
       "unique               3                 4  \n",
       "top     Month-to-month  Electronic check  \n",
       "freq              3875              2365  "
      ]
     },
     "execution_count": 1422,
     "metadata": {},
     "output_type": "execute_result"
    }
   ],
   "source": [
    "datos.describe(include='O')"
   ]
  },
  {
   "cell_type": "code",
   "execution_count": 1423,
   "id": "0567e2ac",
   "metadata": {},
   "outputs": [
    {
     "data": {
      "text/html": [
       "<div>\n",
       "<style scoped>\n",
       "    .dataframe tbody tr th:only-of-type {\n",
       "        vertical-align: middle;\n",
       "    }\n",
       "\n",
       "    .dataframe tbody tr th {\n",
       "        vertical-align: top;\n",
       "    }\n",
       "\n",
       "    .dataframe thead th {\n",
       "        text-align: right;\n",
       "    }\n",
       "</style>\n",
       "<table border=\"1\" class=\"dataframe\">\n",
       "  <thead>\n",
       "    <tr style=\"text-align: right;\">\n",
       "      <th></th>\n",
       "      <th>Churn</th>\n",
       "      <th>gender</th>\n",
       "      <th>SeniorCitizen</th>\n",
       "      <th>Partner</th>\n",
       "      <th>Dependents</th>\n",
       "      <th>tenure</th>\n",
       "      <th>PhoneService</th>\n",
       "      <th>MultipleLines</th>\n",
       "      <th>InternetService</th>\n",
       "      <th>OnlineSecurity</th>\n",
       "      <th>...</th>\n",
       "      <th>PhoneService_bin</th>\n",
       "      <th>MultipleLines_bin</th>\n",
       "      <th>InternetService_bin</th>\n",
       "      <th>OnlineSecurity_bin</th>\n",
       "      <th>OnlineBackup_bin</th>\n",
       "      <th>DeviceProtection_bin</th>\n",
       "      <th>TechSupport_bin</th>\n",
       "      <th>StreamingTV_bin</th>\n",
       "      <th>StreamingMovies_bin</th>\n",
       "      <th>servicios_contratados</th>\n",
       "    </tr>\n",
       "  </thead>\n",
       "  <tbody>\n",
       "    <tr>\n",
       "      <th>0</th>\n",
       "      <td>0</td>\n",
       "      <td>Female</td>\n",
       "      <td>0</td>\n",
       "      <td>1</td>\n",
       "      <td>1</td>\n",
       "      <td>9</td>\n",
       "      <td>1</td>\n",
       "      <td>No</td>\n",
       "      <td>DSL</td>\n",
       "      <td>No</td>\n",
       "      <td>...</td>\n",
       "      <td>0</td>\n",
       "      <td>0</td>\n",
       "      <td>0</td>\n",
       "      <td>0</td>\n",
       "      <td>1</td>\n",
       "      <td>0</td>\n",
       "      <td>1</td>\n",
       "      <td>1</td>\n",
       "      <td>0</td>\n",
       "      <td>3</td>\n",
       "    </tr>\n",
       "    <tr>\n",
       "      <th>1</th>\n",
       "      <td>0</td>\n",
       "      <td>Male</td>\n",
       "      <td>0</td>\n",
       "      <td>0</td>\n",
       "      <td>0</td>\n",
       "      <td>9</td>\n",
       "      <td>1</td>\n",
       "      <td>Yes</td>\n",
       "      <td>DSL</td>\n",
       "      <td>No</td>\n",
       "      <td>...</td>\n",
       "      <td>0</td>\n",
       "      <td>1</td>\n",
       "      <td>0</td>\n",
       "      <td>0</td>\n",
       "      <td>0</td>\n",
       "      <td>0</td>\n",
       "      <td>0</td>\n",
       "      <td>0</td>\n",
       "      <td>1</td>\n",
       "      <td>2</td>\n",
       "    </tr>\n",
       "    <tr>\n",
       "      <th>2</th>\n",
       "      <td>1</td>\n",
       "      <td>Male</td>\n",
       "      <td>0</td>\n",
       "      <td>0</td>\n",
       "      <td>0</td>\n",
       "      <td>4</td>\n",
       "      <td>1</td>\n",
       "      <td>No</td>\n",
       "      <td>Fiber optic</td>\n",
       "      <td>No</td>\n",
       "      <td>...</td>\n",
       "      <td>0</td>\n",
       "      <td>0</td>\n",
       "      <td>0</td>\n",
       "      <td>0</td>\n",
       "      <td>0</td>\n",
       "      <td>1</td>\n",
       "      <td>0</td>\n",
       "      <td>0</td>\n",
       "      <td>0</td>\n",
       "      <td>1</td>\n",
       "    </tr>\n",
       "    <tr>\n",
       "      <th>3</th>\n",
       "      <td>1</td>\n",
       "      <td>Male</td>\n",
       "      <td>1</td>\n",
       "      <td>1</td>\n",
       "      <td>0</td>\n",
       "      <td>13</td>\n",
       "      <td>1</td>\n",
       "      <td>No</td>\n",
       "      <td>Fiber optic</td>\n",
       "      <td>No</td>\n",
       "      <td>...</td>\n",
       "      <td>0</td>\n",
       "      <td>0</td>\n",
       "      <td>0</td>\n",
       "      <td>0</td>\n",
       "      <td>1</td>\n",
       "      <td>1</td>\n",
       "      <td>0</td>\n",
       "      <td>1</td>\n",
       "      <td>1</td>\n",
       "      <td>4</td>\n",
       "    </tr>\n",
       "    <tr>\n",
       "      <th>4</th>\n",
       "      <td>1</td>\n",
       "      <td>Female</td>\n",
       "      <td>1</td>\n",
       "      <td>1</td>\n",
       "      <td>0</td>\n",
       "      <td>3</td>\n",
       "      <td>1</td>\n",
       "      <td>No</td>\n",
       "      <td>Fiber optic</td>\n",
       "      <td>No</td>\n",
       "      <td>...</td>\n",
       "      <td>0</td>\n",
       "      <td>0</td>\n",
       "      <td>0</td>\n",
       "      <td>0</td>\n",
       "      <td>0</td>\n",
       "      <td>0</td>\n",
       "      <td>1</td>\n",
       "      <td>1</td>\n",
       "      <td>0</td>\n",
       "      <td>2</td>\n",
       "    </tr>\n",
       "  </tbody>\n",
       "</table>\n",
       "<p>5 rows × 32 columns</p>\n",
       "</div>"
      ],
      "text/plain": [
       "   Churn  gender  SeniorCitizen  Partner  Dependents  tenure  PhoneService  \\\n",
       "0      0  Female              0        1           1       9             1   \n",
       "1      0    Male              0        0           0       9             1   \n",
       "2      1    Male              0        0           0       4             1   \n",
       "3      1    Male              1        1           0      13             1   \n",
       "4      1  Female              1        1           0       3             1   \n",
       "\n",
       "  MultipleLines InternetService OnlineSecurity  ... PhoneService_bin  \\\n",
       "0            No             DSL             No  ...                0   \n",
       "1           Yes             DSL             No  ...                0   \n",
       "2            No     Fiber optic             No  ...                0   \n",
       "3            No     Fiber optic             No  ...                0   \n",
       "4            No     Fiber optic             No  ...                0   \n",
       "\n",
       "  MultipleLines_bin InternetService_bin OnlineSecurity_bin OnlineBackup_bin  \\\n",
       "0                 0                   0                  0                1   \n",
       "1                 1                   0                  0                0   \n",
       "2                 0                   0                  0                0   \n",
       "3                 0                   0                  0                1   \n",
       "4                 0                   0                  0                0   \n",
       "\n",
       "  DeviceProtection_bin  TechSupport_bin StreamingTV_bin  StreamingMovies_bin  \\\n",
       "0                    0                1               1                    0   \n",
       "1                    0                0               0                    1   \n",
       "2                    1                0               0                    0   \n",
       "3                    1                0               1                    1   \n",
       "4                    0                1               1                    0   \n",
       "\n",
       "   servicios_contratados  \n",
       "0                      3  \n",
       "1                      2  \n",
       "2                      1  \n",
       "3                      4  \n",
       "4                      2  \n",
       "\n",
       "[5 rows x 32 columns]"
      ]
     },
     "execution_count": 1423,
     "metadata": {},
     "output_type": "execute_result"
    }
   ],
   "source": [
    "datos = datos.drop(columns='customerID')\n",
    "datos.head()"
   ]
  },
  {
   "cell_type": "markdown",
   "id": "e66d31e9",
   "metadata": {},
   "source": [
    "# Encoding\n",
    "> Transformación de variables categóricas a formato numérico"
   ]
  },
  {
   "cell_type": "code",
   "execution_count": 1424,
   "id": "30bf638c",
   "metadata": {},
   "outputs": [
    {
     "data": {
      "text/html": [
       "<div>\n",
       "<style scoped>\n",
       "    .dataframe tbody tr th:only-of-type {\n",
       "        vertical-align: middle;\n",
       "    }\n",
       "\n",
       "    .dataframe tbody tr th {\n",
       "        vertical-align: top;\n",
       "    }\n",
       "\n",
       "    .dataframe thead th {\n",
       "        text-align: right;\n",
       "    }\n",
       "</style>\n",
       "<table border=\"1\" class=\"dataframe\">\n",
       "  <thead>\n",
       "    <tr style=\"text-align: right;\">\n",
       "      <th></th>\n",
       "      <th>Churn</th>\n",
       "      <th>SeniorCitizen</th>\n",
       "      <th>Partner</th>\n",
       "      <th>Dependents</th>\n",
       "      <th>tenure</th>\n",
       "      <th>PhoneService</th>\n",
       "      <th>PaperlessBilling</th>\n",
       "      <th>Charges.Monthly</th>\n",
       "      <th>Charges.Total</th>\n",
       "      <th>Cuentas_Diarias</th>\n",
       "      <th>...</th>\n",
       "      <th>StreamingMovies_No</th>\n",
       "      <th>StreamingMovies_No internet service</th>\n",
       "      <th>StreamingMovies_Yes</th>\n",
       "      <th>Contract_Month-to-month</th>\n",
       "      <th>Contract_One year</th>\n",
       "      <th>Contract_Two year</th>\n",
       "      <th>PaymentMethod_Bank transfer (automatic)</th>\n",
       "      <th>PaymentMethod_Credit card (automatic)</th>\n",
       "      <th>PaymentMethod_Electronic check</th>\n",
       "      <th>PaymentMethod_Mailed check</th>\n",
       "    </tr>\n",
       "  </thead>\n",
       "  <tbody>\n",
       "    <tr>\n",
       "      <th>0</th>\n",
       "      <td>0</td>\n",
       "      <td>0</td>\n",
       "      <td>1</td>\n",
       "      <td>1</td>\n",
       "      <td>9</td>\n",
       "      <td>1</td>\n",
       "      <td>1</td>\n",
       "      <td>65.6</td>\n",
       "      <td>593.30</td>\n",
       "      <td>2.19</td>\n",
       "      <td>...</td>\n",
       "      <td>1</td>\n",
       "      <td>0</td>\n",
       "      <td>0</td>\n",
       "      <td>0</td>\n",
       "      <td>1</td>\n",
       "      <td>0</td>\n",
       "      <td>0</td>\n",
       "      <td>0</td>\n",
       "      <td>0</td>\n",
       "      <td>1</td>\n",
       "    </tr>\n",
       "    <tr>\n",
       "      <th>1</th>\n",
       "      <td>0</td>\n",
       "      <td>0</td>\n",
       "      <td>0</td>\n",
       "      <td>0</td>\n",
       "      <td>9</td>\n",
       "      <td>1</td>\n",
       "      <td>0</td>\n",
       "      <td>59.9</td>\n",
       "      <td>542.40</td>\n",
       "      <td>2.00</td>\n",
       "      <td>...</td>\n",
       "      <td>0</td>\n",
       "      <td>0</td>\n",
       "      <td>1</td>\n",
       "      <td>1</td>\n",
       "      <td>0</td>\n",
       "      <td>0</td>\n",
       "      <td>0</td>\n",
       "      <td>0</td>\n",
       "      <td>0</td>\n",
       "      <td>1</td>\n",
       "    </tr>\n",
       "    <tr>\n",
       "      <th>2</th>\n",
       "      <td>1</td>\n",
       "      <td>0</td>\n",
       "      <td>0</td>\n",
       "      <td>0</td>\n",
       "      <td>4</td>\n",
       "      <td>1</td>\n",
       "      <td>1</td>\n",
       "      <td>73.9</td>\n",
       "      <td>280.85</td>\n",
       "      <td>2.46</td>\n",
       "      <td>...</td>\n",
       "      <td>1</td>\n",
       "      <td>0</td>\n",
       "      <td>0</td>\n",
       "      <td>1</td>\n",
       "      <td>0</td>\n",
       "      <td>0</td>\n",
       "      <td>0</td>\n",
       "      <td>0</td>\n",
       "      <td>1</td>\n",
       "      <td>0</td>\n",
       "    </tr>\n",
       "    <tr>\n",
       "      <th>3</th>\n",
       "      <td>1</td>\n",
       "      <td>1</td>\n",
       "      <td>1</td>\n",
       "      <td>0</td>\n",
       "      <td>13</td>\n",
       "      <td>1</td>\n",
       "      <td>1</td>\n",
       "      <td>98.0</td>\n",
       "      <td>1237.85</td>\n",
       "      <td>3.27</td>\n",
       "      <td>...</td>\n",
       "      <td>0</td>\n",
       "      <td>0</td>\n",
       "      <td>1</td>\n",
       "      <td>1</td>\n",
       "      <td>0</td>\n",
       "      <td>0</td>\n",
       "      <td>0</td>\n",
       "      <td>0</td>\n",
       "      <td>1</td>\n",
       "      <td>0</td>\n",
       "    </tr>\n",
       "    <tr>\n",
       "      <th>4</th>\n",
       "      <td>1</td>\n",
       "      <td>1</td>\n",
       "      <td>1</td>\n",
       "      <td>0</td>\n",
       "      <td>3</td>\n",
       "      <td>1</td>\n",
       "      <td>1</td>\n",
       "      <td>83.9</td>\n",
       "      <td>267.40</td>\n",
       "      <td>2.80</td>\n",
       "      <td>...</td>\n",
       "      <td>1</td>\n",
       "      <td>0</td>\n",
       "      <td>0</td>\n",
       "      <td>1</td>\n",
       "      <td>0</td>\n",
       "      <td>0</td>\n",
       "      <td>0</td>\n",
       "      <td>0</td>\n",
       "      <td>0</td>\n",
       "      <td>1</td>\n",
       "    </tr>\n",
       "  </tbody>\n",
       "</table>\n",
       "<p>5 rows × 54 columns</p>\n",
       "</div>"
      ],
      "text/plain": [
       "   Churn  SeniorCitizen  Partner  Dependents  tenure  PhoneService  \\\n",
       "0      0              0        1           1       9             1   \n",
       "1      0              0        0           0       9             1   \n",
       "2      1              0        0           0       4             1   \n",
       "3      1              1        1           0      13             1   \n",
       "4      1              1        1           0       3             1   \n",
       "\n",
       "   PaperlessBilling  Charges.Monthly  Charges.Total  Cuentas_Diarias  ...  \\\n",
       "0                 1             65.6         593.30             2.19  ...   \n",
       "1                 0             59.9         542.40             2.00  ...   \n",
       "2                 1             73.9         280.85             2.46  ...   \n",
       "3                 1             98.0        1237.85             3.27  ...   \n",
       "4                 1             83.9         267.40             2.80  ...   \n",
       "\n",
       "   StreamingMovies_No  StreamingMovies_No internet service  \\\n",
       "0                   1                                    0   \n",
       "1                   0                                    0   \n",
       "2                   1                                    0   \n",
       "3                   0                                    0   \n",
       "4                   1                                    0   \n",
       "\n",
       "   StreamingMovies_Yes  Contract_Month-to-month  Contract_One year  \\\n",
       "0                    0                        0                  1   \n",
       "1                    1                        1                  0   \n",
       "2                    0                        1                  0   \n",
       "3                    1                        1                  0   \n",
       "4                    0                        1                  0   \n",
       "\n",
       "   Contract_Two year  PaymentMethod_Bank transfer (automatic)  \\\n",
       "0                  0                                        0   \n",
       "1                  0                                        0   \n",
       "2                  0                                        0   \n",
       "3                  0                                        0   \n",
       "4                  0                                        0   \n",
       "\n",
       "   PaymentMethod_Credit card (automatic)  PaymentMethod_Electronic check  \\\n",
       "0                                      0                               0   \n",
       "1                                      0                               0   \n",
       "2                                      0                               1   \n",
       "3                                      0                               1   \n",
       "4                                      0                               0   \n",
       "\n",
       "   PaymentMethod_Mailed check  \n",
       "0                           1  \n",
       "1                           1  \n",
       "2                           0  \n",
       "3                           0  \n",
       "4                           1  \n",
       "\n",
       "[5 rows x 54 columns]"
      ]
     },
     "execution_count": 1424,
     "metadata": {},
     "output_type": "execute_result"
    }
   ],
   "source": [
    "categoricas = [\n",
    "    \"gender\",\n",
    "    \"MultipleLines\",\n",
    "    \"InternetService\",\n",
    "    \"OnlineSecurity\",\n",
    "    \"OnlineBackup\",\n",
    "    \"DeviceProtection\",\n",
    "    \"TechSupport\",\n",
    "    \"StreamingTV\",\n",
    "    \"StreamingMovies\",\n",
    "    \"Contract\",\n",
    "    \"PaymentMethod\",\n",
    "]\n",
    "\n",
    "datos_encoded = pd.get_dummies(data=datos, columns=categoricas, dtype=int)\n",
    "datos_encoded.head()"
   ]
  },
  {
   "cell_type": "markdown",
   "id": "b1a17244",
   "metadata": {},
   "source": [
    "> Convertimos variables categóricas a variables numéricas mediante one-hot encoding para que puedan ser utilizadas por los modelos de machine learning."
   ]
  },
  {
   "cell_type": "markdown",
   "id": "a985123b",
   "metadata": {},
   "source": [
    "# Verificar Proporción de Cancelación (Churn)"
   ]
  },
  {
   "cell_type": "code",
   "execution_count": 1425,
   "id": "d6c9910e",
   "metadata": {},
   "outputs": [
    {
     "data": {
      "text/plain": [
       "Churn\n",
       "0    73.463013\n",
       "1    26.536987\n",
       "Name: proportion, dtype: float64"
      ]
     },
     "execution_count": 1425,
     "metadata": {},
     "output_type": "execute_result"
    }
   ],
   "source": [
    "datos_encoded['Churn'].value_counts(normalize=True)*100"
   ]
  },
  {
   "cell_type": "markdown",
   "id": "210728de",
   "metadata": {},
   "source": [
    "<p style='color: #E2E2E2; background-color: #1C0F13; padding: 24px'>A través del método anterior se puede observar que hay un gran desbalance en las clases analizadas. Se cree que esto podría impactar en los modelos predictivos</p>"
   ]
  },
  {
   "cell_type": "markdown",
   "id": "e762121c",
   "metadata": {},
   "source": [
    "# Análisis de correlación"
   ]
  },
  {
   "cell_type": "code",
   "execution_count": 1426,
   "id": "f86a3d63",
   "metadata": {},
   "outputs": [
    {
     "data": {
      "text/plain": [
       "Churn                                      100.000000\n",
       "Contract_Month-to-month                     40.510291\n",
       "OnlineSecurity_No                           34.263680\n",
       "TechSupport_No                              33.728073\n",
       "InternetService_Fiber optic                 30.801974\n",
       "PaymentMethod_Electronic check              30.191875\n",
       "OnlineBackup_No                             26.800518\n",
       "DeviceProtection_No                         25.248136\n",
       "Cuentas_Diarias                             19.341174\n",
       "Charges.Monthly                             19.335642\n",
       "PaperlessBilling                            19.182533\n",
       "SeniorCitizen                               15.088933\n",
       "StreamingMovies_No                          13.084503\n",
       "StreamingTV_No                              12.891588\n",
       "StreamingTV_Yes                              6.322775\n",
       "StreamingTV_bin                              6.322775\n",
       "StreamingMovies_bin                          6.138155\n",
       "StreamingMovies_Yes                          6.138155\n",
       "MultipleLines_bin                            4.010213\n",
       "MultipleLines_Yes                            4.010213\n",
       "PhoneService                                 1.194198\n",
       "gender_Female                                0.861210\n",
       "gender_encoded                               0.861210\n",
       "gender_Male                                 -0.861210\n",
       "MultipleLines_No phone service              -1.194198\n",
       "MultipleLines_No                            -3.256858\n",
       "DeviceProtection_Yes                        -6.615979\n",
       "DeviceProtection_bin                        -6.615979\n",
       "servicios_contratados                       -6.953291\n",
       "OnlineBackup_Yes                            -8.225487\n",
       "OnlineBackup_bin                            -8.225487\n",
       "PaymentMethod_Mailed check                  -9.168284\n",
       "PaymentMethod_Bank transfer (automatic)    -11.793667\n",
       "InternetService_DSL                        -12.421382\n",
       "PaymentMethod_Credit card (automatic)      -13.430175\n",
       "Partner                                    -15.044754\n",
       "Dependents                                 -16.422140\n",
       "TechSupport_Yes                            -16.467356\n",
       "TechSupport_bin                            -16.467356\n",
       "OnlineSecurity_bin                         -17.122629\n",
       "OnlineSecurity_Yes                         -17.122629\n",
       "Contract_One year                          -17.782002\n",
       "Charges.Total                              -19.832426\n",
       "OnlineBackup_No internet service           -22.789045\n",
       "StreamingMovies_No internet service        -22.789045\n",
       "StreamingTV_No internet service            -22.789045\n",
       "TechSupport_No internet service            -22.789045\n",
       "OnlineSecurity_No internet service         -22.789045\n",
       "DeviceProtection_No internet service       -22.789045\n",
       "InternetService_No                         -22.789045\n",
       "Contract_Two year                          -30.225347\n",
       "tenure                                     -35.222867\n",
       "PhoneService_bin                                  NaN\n",
       "InternetService_bin                               NaN\n",
       "Name: Churn, dtype: float64"
      ]
     },
     "execution_count": 1426,
     "metadata": {},
     "output_type": "execute_result"
    }
   ],
   "source": [
    "corr = datos_encoded.corr()\n",
    "corr['Churn'].sort_values(ascending=False)*100"
   ]
  },
  {
   "cell_type": "code",
   "execution_count": 1427,
   "id": "4acee6c6",
   "metadata": {},
   "outputs": [
    {
     "data": {
      "text/plain": [
       "tenure                                     -35.222867\n",
       "Contract_Two year                          -30.225347\n",
       "StreamingMovies_No internet service        -22.789045\n",
       "InternetService_No                         -22.789045\n",
       "OnlineSecurity_No internet service         -22.789045\n",
       "StreamingTV_No internet service            -22.789045\n",
       "OnlineBackup_No internet service           -22.789045\n",
       "TechSupport_No internet service            -22.789045\n",
       "DeviceProtection_No internet service       -22.789045\n",
       "Charges.Total                              -19.832426\n",
       "Contract_One year                          -17.782002\n",
       "OnlineSecurity_bin                         -17.122629\n",
       "OnlineSecurity_Yes                         -17.122629\n",
       "TechSupport_Yes                            -16.467356\n",
       "TechSupport_bin                            -16.467356\n",
       "Dependents                                 -16.422140\n",
       "Partner                                    -15.044754\n",
       "PaymentMethod_Credit card (automatic)      -13.430175\n",
       "InternetService_DSL                        -12.421382\n",
       "PaymentMethod_Bank transfer (automatic)    -11.793667\n",
       "PaymentMethod_Mailed check                  -9.168284\n",
       "OnlineBackup_bin                            -8.225487\n",
       "OnlineBackup_Yes                            -8.225487\n",
       "servicios_contratados                       -6.953291\n",
       "DeviceProtection_Yes                        -6.615979\n",
       "DeviceProtection_bin                        -6.615979\n",
       "MultipleLines_No                            -3.256858\n",
       "MultipleLines_No phone service              -1.194198\n",
       "gender_Male                                 -0.861210\n",
       "gender_Female                                0.861210\n",
       "gender_encoded                               0.861210\n",
       "PhoneService                                 1.194198\n",
       "MultipleLines_Yes                            4.010213\n",
       "MultipleLines_bin                            4.010213\n",
       "StreamingMovies_bin                          6.138155\n",
       "StreamingMovies_Yes                          6.138155\n",
       "StreamingTV_bin                              6.322775\n",
       "StreamingTV_Yes                              6.322775\n",
       "StreamingTV_No                              12.891588\n",
       "StreamingMovies_No                          13.084503\n",
       "SeniorCitizen                               15.088933\n",
       "PaperlessBilling                            19.182533\n",
       "Charges.Monthly                             19.335642\n",
       "Cuentas_Diarias                             19.341174\n",
       "DeviceProtection_No                         25.248136\n",
       "OnlineBackup_No                             26.800518\n",
       "PaymentMethod_Electronic check              30.191875\n",
       "InternetService_Fiber optic                 30.801974\n",
       "TechSupport_No                              33.728073\n",
       "OnlineSecurity_No                           34.263680\n",
       "Contract_Month-to-month                     40.510291\n",
       "Churn                                      100.000000\n",
       "PhoneService_bin                                  NaN\n",
       "InternetService_bin                               NaN\n",
       "Name: Churn, dtype: float64"
      ]
     },
     "execution_count": 1427,
     "metadata": {},
     "output_type": "execute_result"
    }
   ],
   "source": [
    "corr[\"Churn\"].sort_values(ascending=True) * 100"
   ]
  },
  {
   "cell_type": "code",
   "execution_count": 1428,
   "id": "786fab0a",
   "metadata": {},
   "outputs": [],
   "source": [
    "seleccionadas = [\n",
    "    'Churn',\n",
    "    \"Contract_Month-to-month\",\n",
    "    \"OnlineSecurity_No\",\n",
    "    \"TechSupport_No\",\n",
    "    \"InternetService_Fiber optic\",\n",
    "    \"PaymentMethod_Electronic check\",\n",
    "    \"OnlineBackup_No\",\n",
    "    \"DeviceProtection_No\",\n",
    "]"
   ]
  },
  {
   "cell_type": "markdown",
   "id": "36b7c0d3",
   "metadata": {},
   "source": [
    "Las siguientes variables son candidatas para ser usadas en el modelo predictivo por su fuerte correlación con la cancelación (Churn), todas mayores al 25%:\n",
    "- Contract_Month-to-month 40.51%\n",
    "- OnlineSecurity_No 34.26%\n",
    "- TechSupport_No 33.72%\n",
    "- InternetService_Fiber optic 30.80%\n",
    "- PaymentMethod_Electronic check 30.19\n",
    "- OnlineBackup_No 26.80%\n",
    "- DeviceProtection_No 25.24%"
   ]
  },
  {
   "cell_type": "markdown",
   "id": "4e36c9c1",
   "metadata": {},
   "source": [
    "# Análisis dirigido de correlación"
   ]
  },
  {
   "cell_type": "markdown",
   "id": "893a1162",
   "metadata": {},
   "source": [
    "### Tiempo de contrato: `tenure`"
   ]
  },
  {
   "cell_type": "code",
   "execution_count": 1429,
   "id": "73396663",
   "metadata": {},
   "outputs": [
    {
     "data": {
      "text/html": [
       "<div>\n",
       "<style scoped>\n",
       "    .dataframe tbody tr th:only-of-type {\n",
       "        vertical-align: middle;\n",
       "    }\n",
       "\n",
       "    .dataframe tbody tr th {\n",
       "        vertical-align: top;\n",
       "    }\n",
       "\n",
       "    .dataframe thead th {\n",
       "        text-align: right;\n",
       "    }\n",
       "</style>\n",
       "<table border=\"1\" class=\"dataframe\">\n",
       "  <thead>\n",
       "    <tr style=\"text-align: right;\">\n",
       "      <th></th>\n",
       "      <th>Churn</th>\n",
       "      <th>tenure</th>\n",
       "    </tr>\n",
       "  </thead>\n",
       "  <tbody>\n",
       "    <tr>\n",
       "      <th>Churn</th>\n",
       "      <td>1.000000</td>\n",
       "      <td>-0.352229</td>\n",
       "    </tr>\n",
       "    <tr>\n",
       "      <th>tenure</th>\n",
       "      <td>-0.352229</td>\n",
       "      <td>1.000000</td>\n",
       "    </tr>\n",
       "  </tbody>\n",
       "</table>\n",
       "</div>"
      ],
      "text/plain": [
       "           Churn    tenure\n",
       "Churn   1.000000 -0.352229\n",
       "tenure -0.352229  1.000000"
      ]
     },
     "execution_count": 1429,
     "metadata": {},
     "output_type": "execute_result"
    }
   ],
   "source": [
    "datos_encoded[['Churn', 'tenure']].corr()"
   ]
  },
  {
   "cell_type": "code",
   "execution_count": 1430,
   "id": "6263ef51",
   "metadata": {},
   "outputs": [],
   "source": [
    "import plotly.express as px\n",
    "import matplotlib.pyplot as plt"
   ]
  },
  {
   "cell_type": "code",
   "execution_count": 1431,
   "id": "bcee7584",
   "metadata": {},
   "outputs": [
    {
     "data": {
      "application/vnd.plotly.v1+json": {
       "config": {
        "plotlyServerURL": "https://plot.ly"
       },
       "data": [
        {
         "alignmentgroup": "True",
         "hovertemplate": "Churn=%{x}<br>tenure=%{y}<extra></extra>",
         "legendgroup": "",
         "marker": {
          "color": "#636efa"
         },
         "name": "",
         "notched": false,
         "offsetgroup": "",
         "orientation": "v",
         "showlegend": false,
         "type": "box",
         "x": {
          "bdata": "AAABAQEAAAAAAAAAAAAAAAAAAQEAAQAAAQEAAAAAAAAAAAAAAAAAAAEAAAAAAAAAAAAAAAABAQAAAAAAAAAAAQEAAAEAAAABAQAAAQABAAAAAAEAAQABAQAAAAABAQEAAAAAAAAAAAAAAAAAAAEBAAEAAAEBAAABAAAAAAAAAQEAAAABAAAAAAAAAAEAAAEBAAAAAAAAAAAAAAABAAEAAQEAAAEAAAABAAAAAAABAQAAAAAAAQAAAAAAAQAAAAEAAAABAAAAAQAAAQAAAAEBAQABAQAAAQEAAQEAAAABAAEAAAEAAQAAAAAAAQEAAAAAAAAAAAAAAQABAAABAQEAAAAAAAAAAQEAAAAAAAEAAAEAAAEBAQAAAAABAAEAAAAAAAEAAAABAAAAAAAAAAAAAAEAAAAAAAABAAAAAAAAAQEAAAAAAAAAAQAAAAABAAABAQABAAEAAAABAAABAAAAAQEAAQEAAQABAAAAAQAAAAAAAAAAAAAAAAAAAAEAAQAAAAEAAAABAAEAAAAAAAABAAABAAEAAAAAAQAAAQEAAQEBAQAAAAAAAAABAAABAAABAQABAQEBAAABAAABAAEAAAAAAAEAAAAAAAAAAAAAAAABAAEAAQEBAAEAAQEAAAEAAAABAAAAAAEAAQABAQAAAAEAAQAAAAABAAAAAQEAAAAAAQEAAAAAAQAAAQAAAAEAAAEAAQAAAAEAAAAAAAAAAAAAAQAAAAEAAAAAAQABAAEAAAAAAAAAAAEAAAAAAQABAAAAAAAAAAAAAAABAAEAAAEAAQAAAQEBAQABAQABAQABAAAAAQAAAAAAAAAAAAAAAAEAAQABAAEAAAAAAAAAAAABAQAAAAEAAQEBAAAAAAAAAAABAAEAAQAAAAAAAAEAAAAAAAEAAAABAAEBAAAAAAAAAAABAAEAAAABAQAAAAABAQAAAQAAAAAAAAAAAAAAAQAAAQABAAAAAQAAAAABAAEAAQAAAAAAAAABAAAAAQAAAAAAAAAAAAAAAAABAQEAAAEAAQAAAAAAAAAAAAAAAAAAAQEAAQAAAAEAAAAAAAAAAAAAAAAAAAAAAAABAAEAAAABAQAAAAEAAAEAAAABAAAAAAAAAQAAAAAAAAABAAEAAAAAAQAAAQAAAAAAAQABAAABAAEBAAAAAQAAAQAAAQAAAQABAAAAAAAAAAAAAAABAAAAAAEAAAAAAQABAQEAAAAAAQAAAAAAAAABAQAAAAAAAQAAAAAAAAAAAAAAAAEAAAAAAQEAAAEAAAABAAAAAAAAAQAAAAEAAAAAAAAAAAAAAQAAAAABAAAAAAABAAAAAAEBAQABAQEBAAAAAAABAAEAAAAAAQAAAAAAAAAAAAAAAQAAAAAAAAEAAQAAAQEAAAEAAQEAAQAAAAAAAAEAAAAAAAAAAQAAAAEAAAAAAAABAQEAAAEBAAAAAAEBAAEBAQEBAAEAAQABAQAAAAEAAQABAAAAAQEBAQEAAAAAAAAAAAAAAAEAAAEAAAEAAAAAAQABAAAAAAAAAAEAAAAAAAAAAQAAAAABAAAAAAAAAAEBAAEBAAAAAAABAAEAAAEAAAABAAAAAAAAAAEAAAAAAAAAAQABAAAAAAAAAAAAAQEAAAABAAAAAAAAAAAAAQAAAAAAAQAAAAAAAAABAAAAAQAAAAAAAAEAAAABAAAAAQABAAEAAQABAAEBAAAAAAEBAAABAAABAAEAAAAAAQAAAAAAAAAAAAEAAAAAAAAAAAAAAAAAAAABAQABAQAAAAABAQEBAAEAAAAAAQAAAAAAAAABAQEAAAEBAQAAAAAAAAEBAQAAAQEAAAEBAQEAAAAAAAAAAAAAAAAAAAABAAAAAQEAAAAAAQAAAAEAAAAAAAEAAAAAAAEBAAAAAAABAQAAAQAAAAAAAQEAAQEAAAAAAAAAAAAAAQAAAAEAAAAAAAEAAQEAAQAAAAABAAAAAAAAAAEAAAABAAABAQAAAAAAAAABAAABAAAAAQEBAAAAAAAAAAAAAAEAAAEBAAAAAAAAAQAAAAAAAAEAAQAAAQAAAAABAAAAAAAAAAAAAAEAAAEAAAAAAAABAAAAAAABAAAAAAAAAAAAAAAAAAEAAAAAAAEBAAABAAAAAQAAAAAAAAEAAQAAAAAAAQAAAAAAAAABAAEBAAAAAQAAAAABAAAAAQAAAAABAAABAAEAAAAAAQABAQAAAAEAAAABAQAAAAAAAAAAAQABAAAAAAEBAAAAAAAAAAEAAAEAAQAAAAAAAQEAAAAAAQAAAAABAAEBAAEAAAAAAAABAQAAAAABAQAAAQAAAAAAAAAAAQEAAQAAAAAAAAAAAAAAAAAAAQEBAAABAAAAAAAAAAAAAAAAAAEAAAAAAAAAAAEAAAEBAAEBAAAAAQAAAAEAAAABAQEBAAAAAAEBAAEAAAAAAQEBAAEBAAAAAAEAAAABAQAAAAAAAAAAAAAAAAAAAQABAQAAAQAAAAAAAQAAAAAAAAAAAAABAAEAAQEBAAABAAAAAAEBAAAAAAABAAAAAAEBAAEAAAAAAQABAQAAAAAAAAAAAAABAAAAAAAAAAAAAAAAAAAAAQAAAAABAAEAAAAAAAAAAAAAAAAAAQABAQEBAAEAAQEAAAAAAAEBAAEBAAAAAQABAAEBAQEAAAEAAAAAAAAAAQABAAABAAABAAABAAAAAAAAAAAAAQAAAQAAAAAAAAAAAAABAQEAAAAAAQAAAAEBAQABAQEAAQAAAAEAAAEAAQAAAAAAAAAAAQEBAQABAAAAAAAAAAABAAABAAAAAQAAAAEAAQABAAAAAAEAAAEAAAEAAQABAAAAAAEBAQAAAAAAAAEAAAAAAQEAAQAAAQAAAAEAAAAAAAAAAQAAAAEAAAEBAAABAQAAAAABAQAAAQEAAAAAAAAAAAAAAAABAAAAAAEBAQEAAAAAAQAAAAEAAAAAAAEAAQAAAAAAAAAAAQABAAAAAAEAAAEAAAEBAAAAAAEAAAAAAQEAAAEAAAABAAAAAQAAAAAAAQABAQAAAAEAAQABAAABAAAAAAABAAAAAAABAAAAAQAAAAAAAAABAAABAAAAAAAAAAAAAQABAAEAAAABAQAAAAEAAQEBAQAAAAAAAQABAAABAAAAAAAAAAAAAAEAAAEAAAEAAAABAAEAAAEAAAEAAQABAAAAAAAAAAAAAAABAAEAAAABAAABAQAAAQAAAQAAAQAAAAAAAAAAAAAAAAAAAAAAAAAAAAEAAAAAAAAAAQAAAQAAAAEAAQAAAAAAAAABAAABAAAAAQAAAQAAAAAAAAEAAAEBAAAAAAAAAQABAAAAAAEAAAAAAAAAAAABAAAAAAABAQAAAQAAAAAAAAAAAQAAAAAAAQAAAAAAAQAAAQEAAAAAAAAAAAAAAQAAAQAAAAEAAAAAAAEAAQAAAQABAQEAAQEAAAEBAAAAAAEBAAAAAAAAAAAAAAEAAQABAQAAAQAAAQAAAAAAAAAAAQAAAQAAAAAAAAABAAAAAAABAAAAAAEAAQABAAABAAEBAQABAAABAAEAAQAAAAABAAAAAAAAAAAAAQEAAAAAAAEAAQABAQEBAAAAAAAAAQAAAQEAAAABAAEAAAEAAAAAAAAAAQABAQAAAAAAAQEAAQAAAQEAAAEAAQAAAAABAAAAAAAAAQEAAAEAAAAAAAAAAAABAQABAAEAAAEAAAAAAQEAAQAAAQAAAAAAAAEAAAAAAAAAAAAAAQAAAAAAAAABAAABAQEAAAEAAAAAAAAAAAEAAAAAAAEBAAAAAAEAAAAAAQABAAAAAAAAAAAAAAAAAAAAAQAAAQABAAAAAAEBAAEAAAEBAAAAAQAAAAEAAQABAAEAAAAAAAEAAAAAAAEAAAAAAAAAAAAAAAABAQEBAQEAAQABAAAAAQAAAAAAAAEBAAABAAAAAQABAAEAAAAAAQAAAQABAQEAAAAAAAABAQAAAAABAAEAAAEBAQABAAEAAAAAAQABAAAAAAEBAAEBAQAAAAAAAAAAAAAAAAAAAQAAAAAAAQABAAABAAABAAABAAAAAAAAAAEAAAEAAQAAAQAAAAEAAQAAAAABAAEAAAAAAAAAAQAAAQABAAAAAAAAAQAAAQEBAAAAAAABAQAAAQAAAQEBAAEAAAABAAAAAAAAAAAAAAABAAAAAQAAAAAAAAAAAQEAAAABAQAAAQAAAQABAAEBAQABAAAAAAABAAAAAAABAAAAAAAAAAEAAAABAQEAAQEAAQABAAAAAAEAAQAAAAABAAEAAQABAAABAQEBAAEBAQEAAQEAAAAAAQEAAAAAAAABAAABAAABAQEBAAAAAAAAAAEAAQAAAAAAAAABAAAAAAAAAQEAAAEAAQAAAQAAAAAAAAEAAAAAAAAAAQAAAAABAQAAAAEAAQABAAEBAAAAAAEAAAABAAAAAAAAAAEAAAAAAQAAAQAAAAAAAAEAAAEAAQAAAAEAAQEBAAAAAAAAAAAAAAABAQEBAQAAAQABAQAAAQAAAAEBAAAAAAAAAAEBAAABAQEBAAAAAAEBAQAAAAAAAQAAAAABAAABAAAAAAAAAAEBAQAAAAABAAABAAAAAAABAAABAQAAAAAAAAEAAAAAAAEAAQABAAEAAQEAAAABAQEAAQAAAQEBAAABAAABAAAAAAAAAAAAAAABAAAAAAEBAAAAAAEBAQAAAQAAAAAAAAAAAAABAAAAAAAAAAAAAAAAAAEAAAEAAAAAAAABAAAAAQEAAQEAAAAAAAAAAAAAAQEAAQEAAAABAAAAAAAAAAAAAAABAAAAAQAAAQABAAAAAAEAAQEBAAAAAAAAAAAAAAAAAAAAAAEAAAAAAQAAAAEAAQAAAQEAAAAAAAAAAAAAAAAAAAEAAAABAAAAAQEAAAAAAAAAAAABAQAAAAAAAQEAAAAAAAEAAQAAAQAAAAAAAAAAAAABAAABAAAAAAEAAAAAAAEAAAAAAAABAAEAAAABAQAAAQAAAQAAAAAAAAABAAAAAAEAAAEBAQABAAABAAEBAAABAAAAAAEBAQAAAAEAAAAAAAAAAAAAAQAAAAAAAAAAAAAAAAAAAAAAAAAAAAAAAQAAAAABAQAAAQEAAQAAAAABAAEAAAEBAQAAAAEAAQAAAQAAAQABAAAAAAAAAAAAAQABAQAAAAAAAAEAAAAAAQEAAAEBAAAAAAEAAAAAAAABAAAAAQAAAAAAAQEAAAEBAAABAQEAAAABAAABAAABAAABAQABAAEBAAAAAAAAAAEBAAABAAAAAAAAAAEBAAABAAABAQAAAQAAAQEBAQAAAAEAAAEBAQAAAQAAAAAAAAAAAQAAAQAAAAEAAAAAAAAAAAAAAAEAAAEAAQEBAAAAAAAAAQAAAAAAAAEAAAEBAAAAAAABAAEBAQAAAAAAAQABAAAAAAAAAAEAAQAAAQAAAAAAAAEAAAAAAAAAAQEAAAAAAQAAAAAAAQEAAAAAAAAAAAAAAAAAAAAAAQAAAAAAAQAAAQAAAAAAAAAAAQAAAAABAQEAAAABAAAAAAAAAAAAAAAAAAAAAAAAAQABAAABAQAAAAABAAEAAAEBAAAAAQAAAQAAAAEAAQEAAQAAAAAAAAAAAQAAAQEAAAAAAQAAAAAAAAEBAAAAAAEAAQAAAAABAQABAAEAAAAAAAAAAAABAAABAQAAAAAAAAAAAAAAAAABAAAAAAAAAAEAAQABAAAAAAEAAAEAAQABAAABAAEBAAEAAAABAAABAAAAAAAAAQAAAAAAAAAAAAAAAAAAAAEBAAAAAAABAAEBAAAAAQEAAAAAAAAAAQAAAAEAAAEAAAAAAAAAAAAAAQEBAAAAAAABAAABAAABAAEAAAAAAQABAAAAAAEBAAAAAAAAAAAAAAAAAAAAAAEBAQAAAAEAAAAAAQAAAQAAAQAAAAABAQAAAAAAAAAAAAAAAAAAAAAAAAABAAAAAAEBAAAAAQAAAAAAAAEAAAAAAQABAAEBAAEBAQEAAAABAQEBAQEAAAEAAAAAAAAAAAAAAQEAAAAAAAEAAQABAAAAAQABAAAAAAABAAABAAABAAAAAQABAQABAQEAAAEAAAAAAQEAAQAAAAAAAQABAAABAAAAAAEBAAAAAAAAAQEAAAAAAAAAAQAAAAEAAAAAAAAAAAAAAQAAAAAAAAEAAAEAAQAAAAAAAAAAAQAAAQAAAAEAAAABAAAAAAEAAQAAAAAAAAAAAAEAAAAAAQAAAAAAAAAAAQAAAAEAAAAAAAABAQABAQABAAAAAQAAAAAAAQEAAAEAAAAAAAAAAAAAAQAAAAEAAAEAAQAAAQEAAAAAAQAAAQAAAAAAAQABAAAAAAEBAAEAAQAAAQEBAQAAAQAAAAAAAAAAAAEAAAAAAQEBAAEAAAAAAAAAAAAAAAAAAAAAAAAAAAAAAAAAAAAAAAAAAAAAAAAAAAEBAAEBAQAAAQEAAAAAAAAAAAEAAQAAAAAAAAAAAQEAAAEAAAABAAAAAAEAAAEAAAABAQAAAAAAAQAAAAEBAAAAAAAAAAAAAQEBAAAAAAAAAQEAAQAAAAAAAQEAAAABAQAAAAEAAQAAAAAAAAAAAAEAAAABAAAAAAABAAEAAAAAAQABAQABAAAAAAAAAAAAAAAAAQAAAAEBAAEAAQABAAEAAAAAAAEAAAEBAAAAAAAAAAAAAQAAAAAAAAABAAAAAQABAAAAAAAAAAAAAAAAAAAAAQAAAQEAAAABAQAAAQAAAAABAAABAAEAAAAAAAAAAAAAAAAAAAAAAAEAAAABAAEAAAAAAAABAAABAAAAAQABAAAAAQAAAAAAAQEAAAAAAAAAAAAAAAAAAAABAQAAAAAAAAAAAQAAAQABAAEBAAABAAAAAQAAAAABAAEBAQEAAAEAAAAAAAAAAQEBAAAAAQEAAAAAAAABAAABAAEAAAABAAAAAAAAAQEAAAAAAAAAAAAAAAEAAQAAAAABAAAAAAAAAAEAAAAAAAEAAAAAAAAAAAABAQAAAAAAAAEAAQABAAABAAEAAAAAAAAAAAAAAAAAAAEBAAEAAAAAAAAAAAEAAAAAAAAAAAEAAAEAAAAAAAEAAAAAAQEAAQABAQAAAQEAAAAAAAEBAAAAAQABAAAAAQAAAAAAAQAAAAEAAQAAAQEAAAEBAQABAQAAAAAAAAEAAQAAAAEAAAEAAAABAAABAQAAAAEAAQEAAQABAAAAAQEAAAAAAAABAAAAAAAAAAAAAQEBAAEAAAAAAAEBAQAAAQAAAAAAAAABAAABAQAAAAAAAAABAAEAAAEAAAABAAEAAAAAAAAAAQAAAQAAAAAAAQABAAAAAAEAAAAAAAAAAQAAAAABAAAAAAAAAQABAQAAAAEAAAAAAQAAAAEBAAEAAAABAAABAAEAAQABAAABAAEAAAAAAAAAAAAAAAEAAAABAAAAAAABAAAAAAABAQABAAAAAQABAQAAAQEAAQAAAQEBAAAAAAABAAAAAAAAAAAAAAAAAAABAQABAQABAAAAAAABAAABAAEAAAAAAAAAAAEAAAABAQEAAAEAAAABAAAAAAEBAAAAAAAAAAEAAAAAAAAAAAEAAAABAAABAAAAAAAAAAABAAAAAAEAAQAAAAABAAEBAAAAAAAAAAABAAAAAAABAAAAAAAAAAAAAQEAAQEAAAEBAQAAAAEBAAAAAAABAAABAQAAAQAAAQAAAAAAAAAAAQAAAAAAAAAAAAAAAQEBAAAAAAABAAAAAAAAAAAAAAABAAAAAQAAAAAAAAABAAEAAAAAAQAAAQEBAAEAAAAAAAAAAAEAAAAAAAAAAQAAAAAAAAAAAAAAAAAAAAAAAAABAAAAAQAAAAAAAAAAAAEAAAABAQAAAQAAAQAAAAAAAQAAAAEAAQAAAQAAAQAAAAEAAAAAAAAAAAAAAAAAAQAAAAEAAAAAAQEAAAAAAQAAAAEAAQEBAAEBAAAAAQEAAAEAAAAAAQAAAQABAAAAAAAAAAAAAAAAAQABAAEAAAEAAAEAAAEAAAEBAQABAAAAAAAAAAAAAAAAAAABAAABAQAAAAAAAQAAAQAAAAAAAQEBAAAAAAAAAAAAAAABAAAAAQAAAQAAAAAAAAAAAQEAAAAAAAAAAAEAAAABAQAAAAABAAABAAAAAQABAAEBAAABAAAAAAEAAAEBAQABAQEAAAAAAAABAQAAAAAAAAABAAAAAAAAAQABAAAAAQAAAAAAAQEAAAAAAAABAAAAAAABAAABAAEAAAAAAAAAAAAAAAAAAAEAAQEAAAAAAAAAAQAAAAAAAQAAAAAAAQAAAAEAAQABAAAAAQAAAQAAAAABAAEAAAAAAAABAAEAAAEBAAAAAQABAAAAAAEAAAEBAQABAQAAAAEAAAABAAAAAAEAAAEAAQAAAAAAAQAAAAAAAAEAAAAAAAAAAAEAAAAAAAAAAAAAAAEAAAABAAEAAAABAAEBAAEAAQEAAAEAAAAAAAAAAAAAAAAAAQAAAQAAAAAAAAABAAAAAQAAAAEAAQAAAAAAAAABAQEAAQAAAAAAAAEAAQAAAAABAAEAAAABAAABAQEAAAABAQAAAAAAAAAAAAAAAAEAAAAAAAEAAAAAAQAAAQABAAABAAAAAAAAAAAAAQAAAQAAAAAAAQAAAAEAAAAAAQAAAAAAAAAAAAABAAAAAAABAQEBAAEAAAABAQEBAAAAAQAAAAEAAAABAQAAAQAAAAEAAAEAAQAAAQEBAAABAAEAAAABAAEAAQAAAAAAAAABAQABAAAAAAAAAQEBAQAAAAAAAAEBAAAAAQAAAAAAAAAAAAAAAAAAAAAAAAEAAAAAAAAAAAEBAAAAAAABAQAAAAAAAAEAAAAAAAAAAQAAAAAAAQABAQEAAAAAAQAAAQAAAAABAAAAAQEAAAEAAQAAAQEAAAAAAAABAAAAAAAAAAAAAAEAAAABAQAAAAAAAQAAAAAAAAAAAAAAAQAAAAABAAEAAQAAAAEBAQABAAAAAAABAAAAAQAAAAAAAAAAAAABAAEAAQABAAABAAABAAEAAAABAAAAAAAAAAAAAAEBAQAAAAEAAAEBAAAAAAAAAAAAAQAAAAAAAAAAAAEAAAAAAAAAAAEAAAEBAAABAAEBAAAAAAAAAAABAQABAAEAAAAAAAAAAAAAAAAAAQAAAAAAAAABAQEAAAEAAQEAAAAAAAAAAAEAAAAAAAAAAAABAAAAAAAAAAABAAAAAAAAAAAAAQAAAAAAAAAAAAAAAAABAAAAAQABAAAAAAABAAEAAAAAAQAAAQAAAQABAQAAAAEAAAAAAAEAAAEBAQAAAAABAAEAAAAAAAEBAAAAAQAAAQABAAAAAQEAAAABAAABAAAAAAAAAAABAAAAAAAAAAAAAAAAAAEBAAABAAEBAAAAAAAAAQAAAQAAAAAAAAAAAAAAAAEBAAEAAAA=",
          "dtype": "i1"
         },
         "x0": " ",
         "xaxis": "x",
         "y": {
          "bdata": "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",
          "dtype": "i1"
         },
         "y0": " ",
         "yaxis": "y"
        }
       ],
       "layout": {
        "boxmode": "group",
        "legend": {
         "tracegroupgap": 0
        },
        "margin": {
         "t": 60
        },
        "template": {
         "data": {
          "bar": [
           {
            "error_x": {
             "color": "#2a3f5f"
            },
            "error_y": {
             "color": "#2a3f5f"
            },
            "marker": {
             "line": {
              "color": "#E5ECF6",
              "width": 0.5
             },
             "pattern": {
              "fillmode": "overlay",
              "size": 10,
              "solidity": 0.2
             }
            },
            "type": "bar"
           }
          ],
          "barpolar": [
           {
            "marker": {
             "line": {
              "color": "#E5ECF6",
              "width": 0.5
             },
             "pattern": {
              "fillmode": "overlay",
              "size": 10,
              "solidity": 0.2
             }
            },
            "type": "barpolar"
           }
          ],
          "carpet": [
           {
            "aaxis": {
             "endlinecolor": "#2a3f5f",
             "gridcolor": "white",
             "linecolor": "white",
             "minorgridcolor": "white",
             "startlinecolor": "#2a3f5f"
            },
            "baxis": {
             "endlinecolor": "#2a3f5f",
             "gridcolor": "white",
             "linecolor": "white",
             "minorgridcolor": "white",
             "startlinecolor": "#2a3f5f"
            },
            "type": "carpet"
           }
          ],
          "choropleth": [
           {
            "colorbar": {
             "outlinewidth": 0,
             "ticks": ""
            },
            "type": "choropleth"
           }
          ],
          "contour": [
           {
            "colorbar": {
             "outlinewidth": 0,
             "ticks": ""
            },
            "colorscale": [
             [
              0,
              "#0d0887"
             ],
             [
              0.1111111111111111,
              "#46039f"
             ],
             [
              0.2222222222222222,
              "#7201a8"
             ],
             [
              0.3333333333333333,
              "#9c179e"
             ],
             [
              0.4444444444444444,
              "#bd3786"
             ],
             [
              0.5555555555555556,
              "#d8576b"
             ],
             [
              0.6666666666666666,
              "#ed7953"
             ],
             [
              0.7777777777777778,
              "#fb9f3a"
             ],
             [
              0.8888888888888888,
              "#fdca26"
             ],
             [
              1,
              "#f0f921"
             ]
            ],
            "type": "contour"
           }
          ],
          "contourcarpet": [
           {
            "colorbar": {
             "outlinewidth": 0,
             "ticks": ""
            },
            "type": "contourcarpet"
           }
          ],
          "heatmap": [
           {
            "colorbar": {
             "outlinewidth": 0,
             "ticks": ""
            },
            "colorscale": [
             [
              0,
              "#0d0887"
             ],
             [
              0.1111111111111111,
              "#46039f"
             ],
             [
              0.2222222222222222,
              "#7201a8"
             ],
             [
              0.3333333333333333,
              "#9c179e"
             ],
             [
              0.4444444444444444,
              "#bd3786"
             ],
             [
              0.5555555555555556,
              "#d8576b"
             ],
             [
              0.6666666666666666,
              "#ed7953"
             ],
             [
              0.7777777777777778,
              "#fb9f3a"
             ],
             [
              0.8888888888888888,
              "#fdca26"
             ],
             [
              1,
              "#f0f921"
             ]
            ],
            "type": "heatmap"
           }
          ],
          "histogram": [
           {
            "marker": {
             "pattern": {
              "fillmode": "overlay",
              "size": 10,
              "solidity": 0.2
             }
            },
            "type": "histogram"
           }
          ],
          "histogram2d": [
           {
            "colorbar": {
             "outlinewidth": 0,
             "ticks": ""
            },
            "colorscale": [
             [
              0,
              "#0d0887"
             ],
             [
              0.1111111111111111,
              "#46039f"
             ],
             [
              0.2222222222222222,
              "#7201a8"
             ],
             [
              0.3333333333333333,
              "#9c179e"
             ],
             [
              0.4444444444444444,
              "#bd3786"
             ],
             [
              0.5555555555555556,
              "#d8576b"
             ],
             [
              0.6666666666666666,
              "#ed7953"
             ],
             [
              0.7777777777777778,
              "#fb9f3a"
             ],
             [
              0.8888888888888888,
              "#fdca26"
             ],
             [
              1,
              "#f0f921"
             ]
            ],
            "type": "histogram2d"
           }
          ],
          "histogram2dcontour": [
           {
            "colorbar": {
             "outlinewidth": 0,
             "ticks": ""
            },
            "colorscale": [
             [
              0,
              "#0d0887"
             ],
             [
              0.1111111111111111,
              "#46039f"
             ],
             [
              0.2222222222222222,
              "#7201a8"
             ],
             [
              0.3333333333333333,
              "#9c179e"
             ],
             [
              0.4444444444444444,
              "#bd3786"
             ],
             [
              0.5555555555555556,
              "#d8576b"
             ],
             [
              0.6666666666666666,
              "#ed7953"
             ],
             [
              0.7777777777777778,
              "#fb9f3a"
             ],
             [
              0.8888888888888888,
              "#fdca26"
             ],
             [
              1,
              "#f0f921"
             ]
            ],
            "type": "histogram2dcontour"
           }
          ],
          "mesh3d": [
           {
            "colorbar": {
             "outlinewidth": 0,
             "ticks": ""
            },
            "type": "mesh3d"
           }
          ],
          "parcoords": [
           {
            "line": {
             "colorbar": {
              "outlinewidth": 0,
              "ticks": ""
             }
            },
            "type": "parcoords"
           }
          ],
          "pie": [
           {
            "automargin": true,
            "type": "pie"
           }
          ],
          "scatter": [
           {
            "fillpattern": {
             "fillmode": "overlay",
             "size": 10,
             "solidity": 0.2
            },
            "type": "scatter"
           }
          ],
          "scatter3d": [
           {
            "line": {
             "colorbar": {
              "outlinewidth": 0,
              "ticks": ""
             }
            },
            "marker": {
             "colorbar": {
              "outlinewidth": 0,
              "ticks": ""
             }
            },
            "type": "scatter3d"
           }
          ],
          "scattercarpet": [
           {
            "marker": {
             "colorbar": {
              "outlinewidth": 0,
              "ticks": ""
             }
            },
            "type": "scattercarpet"
           }
          ],
          "scattergeo": [
           {
            "marker": {
             "colorbar": {
              "outlinewidth": 0,
              "ticks": ""
             }
            },
            "type": "scattergeo"
           }
          ],
          "scattergl": [
           {
            "marker": {
             "colorbar": {
              "outlinewidth": 0,
              "ticks": ""
             }
            },
            "type": "scattergl"
           }
          ],
          "scattermap": [
           {
            "marker": {
             "colorbar": {
              "outlinewidth": 0,
              "ticks": ""
             }
            },
            "type": "scattermap"
           }
          ],
          "scattermapbox": [
           {
            "marker": {
             "colorbar": {
              "outlinewidth": 0,
              "ticks": ""
             }
            },
            "type": "scattermapbox"
           }
          ],
          "scatterpolar": [
           {
            "marker": {
             "colorbar": {
              "outlinewidth": 0,
              "ticks": ""
             }
            },
            "type": "scatterpolar"
           }
          ],
          "scatterpolargl": [
           {
            "marker": {
             "colorbar": {
              "outlinewidth": 0,
              "ticks": ""
             }
            },
            "type": "scatterpolargl"
           }
          ],
          "scatterternary": [
           {
            "marker": {
             "colorbar": {
              "outlinewidth": 0,
              "ticks": ""
             }
            },
            "type": "scatterternary"
           }
          ],
          "surface": [
           {
            "colorbar": {
             "outlinewidth": 0,
             "ticks": ""
            },
            "colorscale": [
             [
              0,
              "#0d0887"
             ],
             [
              0.1111111111111111,
              "#46039f"
             ],
             [
              0.2222222222222222,
              "#7201a8"
             ],
             [
              0.3333333333333333,
              "#9c179e"
             ],
             [
              0.4444444444444444,
              "#bd3786"
             ],
             [
              0.5555555555555556,
              "#d8576b"
             ],
             [
              0.6666666666666666,
              "#ed7953"
             ],
             [
              0.7777777777777778,
              "#fb9f3a"
             ],
             [
              0.8888888888888888,
              "#fdca26"
             ],
             [
              1,
              "#f0f921"
             ]
            ],
            "type": "surface"
           }
          ],
          "table": [
           {
            "cells": {
             "fill": {
              "color": "#EBF0F8"
             },
             "line": {
              "color": "white"
             }
            },
            "header": {
             "fill": {
              "color": "#C8D4E3"
             },
             "line": {
              "color": "white"
             }
            },
            "type": "table"
           }
          ]
         },
         "layout": {
          "annotationdefaults": {
           "arrowcolor": "#2a3f5f",
           "arrowhead": 0,
           "arrowwidth": 1
          },
          "autotypenumbers": "strict",
          "coloraxis": {
           "colorbar": {
            "outlinewidth": 0,
            "ticks": ""
           }
          },
          "colorscale": {
           "diverging": [
            [
             0,
             "#8e0152"
            ],
            [
             0.1,
             "#c51b7d"
            ],
            [
             0.2,
             "#de77ae"
            ],
            [
             0.3,
             "#f1b6da"
            ],
            [
             0.4,
             "#fde0ef"
            ],
            [
             0.5,
             "#f7f7f7"
            ],
            [
             0.6,
             "#e6f5d0"
            ],
            [
             0.7,
             "#b8e186"
            ],
            [
             0.8,
             "#7fbc41"
            ],
            [
             0.9,
             "#4d9221"
            ],
            [
             1,
             "#276419"
            ]
           ],
           "sequential": [
            [
             0,
             "#0d0887"
            ],
            [
             0.1111111111111111,
             "#46039f"
            ],
            [
             0.2222222222222222,
             "#7201a8"
            ],
            [
             0.3333333333333333,
             "#9c179e"
            ],
            [
             0.4444444444444444,
             "#bd3786"
            ],
            [
             0.5555555555555556,
             "#d8576b"
            ],
            [
             0.6666666666666666,
             "#ed7953"
            ],
            [
             0.7777777777777778,
             "#fb9f3a"
            ],
            [
             0.8888888888888888,
             "#fdca26"
            ],
            [
             1,
             "#f0f921"
            ]
           ],
           "sequentialminus": [
            [
             0,
             "#0d0887"
            ],
            [
             0.1111111111111111,
             "#46039f"
            ],
            [
             0.2222222222222222,
             "#7201a8"
            ],
            [
             0.3333333333333333,
             "#9c179e"
            ],
            [
             0.4444444444444444,
             "#bd3786"
            ],
            [
             0.5555555555555556,
             "#d8576b"
            ],
            [
             0.6666666666666666,
             "#ed7953"
            ],
            [
             0.7777777777777778,
             "#fb9f3a"
            ],
            [
             0.8888888888888888,
             "#fdca26"
            ],
            [
             1,
             "#f0f921"
            ]
           ]
          },
          "colorway": [
           "#636efa",
           "#EF553B",
           "#00cc96",
           "#ab63fa",
           "#FFA15A",
           "#19d3f3",
           "#FF6692",
           "#B6E880",
           "#FF97FF",
           "#FECB52"
          ],
          "font": {
           "color": "#2a3f5f"
          },
          "geo": {
           "bgcolor": "white",
           "lakecolor": "white",
           "landcolor": "#E5ECF6",
           "showlakes": true,
           "showland": true,
           "subunitcolor": "white"
          },
          "hoverlabel": {
           "align": "left"
          },
          "hovermode": "closest",
          "mapbox": {
           "style": "light"
          },
          "paper_bgcolor": "white",
          "plot_bgcolor": "#E5ECF6",
          "polar": {
           "angularaxis": {
            "gridcolor": "white",
            "linecolor": "white",
            "ticks": ""
           },
           "bgcolor": "#E5ECF6",
           "radialaxis": {
            "gridcolor": "white",
            "linecolor": "white",
            "ticks": ""
           }
          },
          "scene": {
           "xaxis": {
            "backgroundcolor": "#E5ECF6",
            "gridcolor": "white",
            "gridwidth": 2,
            "linecolor": "white",
            "showbackground": true,
            "ticks": "",
            "zerolinecolor": "white"
           },
           "yaxis": {
            "backgroundcolor": "#E5ECF6",
            "gridcolor": "white",
            "gridwidth": 2,
            "linecolor": "white",
            "showbackground": true,
            "ticks": "",
            "zerolinecolor": "white"
           },
           "zaxis": {
            "backgroundcolor": "#E5ECF6",
            "gridcolor": "white",
            "gridwidth": 2,
            "linecolor": "white",
            "showbackground": true,
            "ticks": "",
            "zerolinecolor": "white"
           }
          },
          "shapedefaults": {
           "line": {
            "color": "#2a3f5f"
           }
          },
          "ternary": {
           "aaxis": {
            "gridcolor": "white",
            "linecolor": "white",
            "ticks": ""
           },
           "baxis": {
            "gridcolor": "white",
            "linecolor": "white",
            "ticks": ""
           },
           "bgcolor": "#E5ECF6",
           "caxis": {
            "gridcolor": "white",
            "linecolor": "white",
            "ticks": ""
           }
          },
          "title": {
           "x": 0.05
          },
          "xaxis": {
           "automargin": true,
           "gridcolor": "white",
           "linecolor": "white",
           "ticks": "",
           "title": {
            "standoff": 15
           },
           "zerolinecolor": "white",
           "zerolinewidth": 2
          },
          "yaxis": {
           "automargin": true,
           "gridcolor": "white",
           "linecolor": "white",
           "ticks": "",
           "title": {
            "standoff": 15
           },
           "zerolinecolor": "white",
           "zerolinewidth": 2
          }
         }
        },
        "xaxis": {
         "anchor": "y",
         "domain": [
          0,
          1
         ],
         "title": {
          "text": "Churn"
         }
        },
        "yaxis": {
         "anchor": "x",
         "domain": [
          0,
          1
         ],
         "title": {
          "text": "tenure"
         }
        }
       }
      }
     },
     "metadata": {},
     "output_type": "display_data"
    }
   ],
   "source": [
    "fig = px.box(datos_encoded, x='Churn', y='tenure')\n",
    "\n",
    "fig.show()"
   ]
  },
  {
   "cell_type": "markdown",
   "id": "e1c7d1b5",
   "metadata": {},
   "source": [
    "### Gasto total: `Charges.Total`"
   ]
  },
  {
   "cell_type": "code",
   "execution_count": 1432,
   "id": "53613487",
   "metadata": {},
   "outputs": [
    {
     "data": {
      "text/html": [
       "<div>\n",
       "<style scoped>\n",
       "    .dataframe tbody tr th:only-of-type {\n",
       "        vertical-align: middle;\n",
       "    }\n",
       "\n",
       "    .dataframe tbody tr th {\n",
       "        vertical-align: top;\n",
       "    }\n",
       "\n",
       "    .dataframe thead th {\n",
       "        text-align: right;\n",
       "    }\n",
       "</style>\n",
       "<table border=\"1\" class=\"dataframe\">\n",
       "  <thead>\n",
       "    <tr style=\"text-align: right;\">\n",
       "      <th></th>\n",
       "      <th>Churn</th>\n",
       "      <th>Charges.Total</th>\n",
       "    </tr>\n",
       "  </thead>\n",
       "  <tbody>\n",
       "    <tr>\n",
       "      <th>Churn</th>\n",
       "      <td>1.000000</td>\n",
       "      <td>-0.198324</td>\n",
       "    </tr>\n",
       "    <tr>\n",
       "      <th>Charges.Total</th>\n",
       "      <td>-0.198324</td>\n",
       "      <td>1.000000</td>\n",
       "    </tr>\n",
       "  </tbody>\n",
       "</table>\n",
       "</div>"
      ],
      "text/plain": [
       "                  Churn  Charges.Total\n",
       "Churn          1.000000      -0.198324\n",
       "Charges.Total -0.198324       1.000000"
      ]
     },
     "execution_count": 1432,
     "metadata": {},
     "output_type": "execute_result"
    }
   ],
   "source": [
    "datos_encoded[[\"Churn\", \"Charges.Total\"]].corr()"
   ]
  },
  {
   "cell_type": "code",
   "execution_count": 1433,
   "id": "a31d89cb",
   "metadata": {},
   "outputs": [
    {
     "data": {
      "application/vnd.plotly.v1+json": {
       "config": {
        "plotlyServerURL": "https://plot.ly"
       },
       "data": [
        {
         "alignmentgroup": "True",
         "hovertemplate": "Churn=%{x}<br>Charges.Total=%{y}<extra></extra>",
         "legendgroup": "",
         "marker": {
          "color": "#636efa"
         },
         "name": "",
         "notched": false,
         "offsetgroup": "",
         "orientation": "v",
         "showlegend": false,
         "type": "box",
         "x": {
          "bdata": "AAABAQEAAAAAAAAAAAAAAAAAAQEAAQAAAQEAAAAAAAAAAAAAAAAAAAEAAAAAAAAAAAAAAAABAQAAAAAAAAAAAQEAAAEAAAABAQAAAQABAAAAAAEAAQABAQAAAAABAQEAAAAAAAAAAAAAAAAAAAEBAAEAAAEBAAABAAAAAAAAAQEAAAABAAAAAAAAAAEAAAEBAAAAAAAAAAAAAAABAAEAAQEAAAEAAAABAAAAAAABAQAAAAAAAQAAAAAAAQAAAAEAAAABAAAAAQAAAQAAAAEBAQABAQAAAQEAAQEAAAABAAEAAAEAAQAAAAAAAQEAAAAAAAAAAAAAAQABAAABAQEAAAAAAAAAAQEAAAAAAAEAAAEAAAEBAQAAAAABAAEAAAAAAAEAAAABAAAAAAAAAAAAAAEAAAAAAAABAAAAAAAAAQEAAAAAAAAAAQAAAAABAAABAQABAAEAAAABAAABAAAAAQEAAQEAAQABAAAAAQAAAAAAAAAAAAAAAAAAAAEAAQAAAAEAAAABAAEAAAAAAAABAAABAAEAAAAAAQAAAQEAAQEBAQAAAAAAAAABAAABAAABAQABAQEBAAABAAABAAEAAAAAAAEAAAAAAAAAAAAAAAABAAEAAQEBAAEAAQEAAAEAAAABAAAAAAEAAQABAQAAAAEAAQAAAAABAAAAAQEAAAAAAQEAAAAAAQAAAQAAAAEAAAEAAQAAAAEAAAAAAAAAAAAAAQAAAAEAAAAAAQABAAEAAAAAAAAAAAEAAAAAAQABAAAAAAAAAAAAAAABAAEAAAEAAQAAAQEBAQABAQABAQABAAAAAQAAAAAAAAAAAAAAAAEAAQABAAEAAAAAAAAAAAABAQAAAAEAAQEBAAAAAAAAAAABAAEAAQAAAAAAAAEAAAAAAAEAAAABAAEBAAAAAAAAAAABAAEAAAABAQAAAAABAQAAAQAAAAAAAAAAAAAAAQAAAQABAAAAAQAAAAABAAEAAQAAAAAAAAABAAAAAQAAAAAAAAAAAAAAAAABAQEAAAEAAQAAAAAAAAAAAAAAAAAAAQEAAQAAAAEAAAAAAAAAAAAAAAAAAAAAAAABAAEAAAABAQAAAAEAAAEAAAABAAAAAAAAAQAAAAAAAAABAAEAAAAAAQAAAQAAAAAAAQABAAABAAEBAAAAAQAAAQAAAQAAAQABAAAAAAAAAAAAAAABAAAAAAEAAAAAAQABAQEAAAAAAQAAAAAAAAABAQAAAAAAAQAAAAAAAAAAAAAAAAEAAAAAAQEAAAEAAAABAAAAAAAAAQAAAAEAAAAAAAAAAAAAAQAAAAABAAAAAAABAAAAAAEBAQABAQEBAAAAAAABAAEAAAAAAQAAAAAAAAAAAAAAAQAAAAAAAAEAAQAAAQEAAAEAAQEAAQAAAAAAAAEAAAAAAAAAAQAAAAEAAAAAAAABAQEAAAEBAAAAAAEBAAEBAQEBAAEAAQABAQAAAAEAAQABAAAAAQEBAQEAAAAAAAAAAAAAAAEAAAEAAAEAAAAAAQABAAAAAAAAAAEAAAAAAAAAAQAAAAABAAAAAAAAAAEBAAEBAAAAAAABAAEAAAEAAAABAAAAAAAAAAEAAAAAAAAAAQABAAAAAAAAAAAAAQEAAAABAAAAAAAAAAAAAQAAAAAAAQAAAAAAAAABAAAAAQAAAAAAAAEAAAABAAAAAQABAAEAAQABAAEBAAAAAAEBAAABAAABAAEAAAAAAQAAAAAAAAAAAAEAAAAAAAAAAAAAAAAAAAABAQABAQAAAAABAQEBAAEAAAAAAQAAAAAAAAABAQEAAAEBAQAAAAAAAAEBAQAAAQEAAAEBAQEAAAAAAAAAAAAAAAAAAAABAAAAAQEAAAAAAQAAAAEAAAAAAAEAAAAAAAEBAAAAAAABAQAAAQAAAAAAAQEAAQEAAAAAAAAAAAAAAQAAAAEAAAAAAAEAAQEAAQAAAAABAAAAAAAAAAEAAAABAAABAQAAAAAAAAABAAABAAAAAQEBAAAAAAAAAAAAAAEAAAEBAAAAAAAAAQAAAAAAAAEAAQAAAQAAAAABAAAAAAAAAAAAAAEAAAEAAAAAAAABAAAAAAABAAAAAAAAAAAAAAAAAAEAAAAAAAEBAAABAAAAAQAAAAAAAAEAAQAAAAAAAQAAAAAAAAABAAEBAAAAAQAAAAABAAAAAQAAAAABAAABAAEAAAAAAQABAQAAAAEAAAABAQAAAAAAAAAAAQABAAAAAAEBAAAAAAAAAAEAAAEAAQAAAAAAAQEAAAAAAQAAAAABAAEBAAEAAAAAAAABAQAAAAABAQAAAQAAAAAAAAAAAQEAAQAAAAAAAAAAAAAAAAAAAQEBAAABAAAAAAAAAAAAAAAAAAEAAAAAAAAAAAEAAAEBAAEBAAAAAQAAAAEAAAABAQEBAAAAAAEBAAEAAAAAAQEBAAEBAAAAAAEAAAABAQAAAAAAAAAAAAAAAAAAAQABAQAAAQAAAAAAAQAAAAAAAAAAAAABAAEAAQEBAAABAAAAAAEBAAAAAAABAAAAAAEBAAEAAAAAAQABAQAAAAAAAAAAAAABAAAAAAAAAAAAAAAAAAAAAQAAAAABAAEAAAAAAAAAAAAAAAAAAQABAQEBAAEAAQEAAAAAAAEBAAEBAAAAAQABAAEBAQEAAAEAAAAAAAAAAQABAAABAAABAAABAAAAAAAAAAAAAQAAAQAAAAAAAAAAAAABAQEAAAAAAQAAAAEBAQABAQEAAQAAAAEAAAEAAQAAAAAAAAAAAQEBAQABAAAAAAAAAAABAAABAAAAAQAAAAEAAQABAAAAAAEAAAEAAAEAAQABAAAAAAEBAQAAAAAAAAEAAAAAAQEAAQAAAQAAAAEAAAAAAAAAAQAAAAEAAAEBAAABAQAAAAABAQAAAQEAAAAAAAAAAAAAAAABAAAAAAEBAQEAAAAAAQAAAAEAAAAAAAEAAQAAAAAAAAAAAQABAAAAAAEAAAEAAAEBAAAAAAEAAAAAAQEAAAEAAAABAAAAAQAAAAAAAQABAQAAAAEAAQABAAABAAAAAAABAAAAAAABAAAAAQAAAAAAAAABAAABAAAAAAAAAAAAAQABAAEAAAABAQAAAAEAAQEBAQAAAAAAAQABAAABAAAAAAAAAAAAAAEAAAEAAAEAAAABAAEAAAEAAAEAAQABAAAAAAAAAAAAAAABAAEAAAABAAABAQAAAQAAAQAAAQAAAAAAAAAAAAAAAAAAAAAAAAAAAAEAAAAAAAAAAQAAAQAAAAEAAQAAAAAAAAABAAABAAAAAQAAAQAAAAAAAAEAAAEBAAAAAAAAAQABAAAAAAEAAAAAAAAAAAABAAAAAAABAQAAAQAAAAAAAAAAAQAAAAAAAQAAAAAAAQAAAQEAAAAAAAAAAAAAAQAAAQAAAAEAAAAAAAEAAQAAAQABAQEAAQEAAAEBAAAAAAEBAAAAAAAAAAAAAAEAAQABAQAAAQAAAQAAAAAAAAAAAQAAAQAAAAAAAAABAAAAAAABAAAAAAEAAQABAAABAAEBAQABAAABAAEAAQAAAAABAAAAAAAAAAAAAQEAAAAAAAEAAQABAQEBAAAAAAAAAQAAAQEAAAABAAEAAAEAAAAAAAAAAQABAQAAAAAAAQEAAQAAAQEAAAEAAQAAAAABAAAAAAAAAQEAAAEAAAAAAAAAAAABAQABAAEAAAEAAAAAAQEAAQAAAQAAAAAAAAEAAAAAAAAAAAAAAQAAAAAAAAABAAABAQEAAAEAAAAAAAAAAAEAAAAAAAEBAAAAAAEAAAAAAQABAAAAAAAAAAAAAAAAAAAAAQAAAQABAAAAAAEBAAEAAAEBAAAAAQAAAAEAAQABAAEAAAAAAAEAAAAAAAEAAAAAAAAAAAAAAAABAQEBAQEAAQABAAAAAQAAAAAAAAEBAAABAAAAAQABAAEAAAAAAQAAAQABAQEAAAAAAAABAQAAAAABAAEAAAEBAQABAAEAAAAAAQABAAAAAAEBAAEBAQAAAAAAAAAAAAAAAAAAAQAAAAAAAQABAAABAAABAAABAAAAAAAAAAEAAAEAAQAAAQAAAAEAAQAAAAABAAEAAAAAAAAAAQAAAQABAAAAAAAAAQAAAQEBAAAAAAABAQAAAQAAAQEBAAEAAAABAAAAAAAAAAAAAAABAAAAAQAAAAAAAAAAAQEAAAABAQAAAQAAAQABAAEBAQABAAAAAAABAAAAAAABAAAAAAAAAAEAAAABAQEAAQEAAQABAAAAAAEAAQAAAAABAAEAAQABAAABAQEBAAEBAQEAAQEAAAAAAQEAAAAAAAABAAABAAABAQEBAAAAAAAAAAEAAQAAAAAAAAABAAAAAAAAAQEAAAEAAQAAAQAAAAAAAAEAAAAAAAAAAQAAAAABAQAAAAEAAQABAAEBAAAAAAEAAAABAAAAAAAAAAEAAAAAAQAAAQAAAAAAAAEAAAEAAQAAAAEAAQEBAAAAAAAAAAAAAAABAQEBAQAAAQABAQAAAQAAAAEBAAAAAAAAAAEBAAABAQEBAAAAAAEBAQAAAAAAAQAAAAABAAABAAAAAAAAAAEBAQAAAAABAAABAAAAAAABAAABAQAAAAAAAAEAAAAAAAEAAQABAAEAAQEAAAABAQEAAQAAAQEBAAABAAABAAAAAAAAAAAAAAABAAAAAAEBAAAAAAEBAQAAAQAAAAAAAAAAAAABAAAAAAAAAAAAAAAAAAEAAAEAAAAAAAABAAAAAQEAAQEAAAAAAAAAAAAAAQEAAQEAAAABAAAAAAAAAAAAAAABAAAAAQAAAQABAAAAAAEAAQEBAAAAAAAAAAAAAAAAAAAAAAEAAAAAAQAAAAEAAQAAAQEAAAAAAAAAAAAAAAAAAAEAAAABAAAAAQEAAAAAAAAAAAABAQAAAAAAAQEAAAAAAAEAAQAAAQAAAAAAAAAAAAABAAABAAAAAAEAAAAAAAEAAAAAAAABAAEAAAABAQAAAQAAAQAAAAAAAAABAAAAAAEAAAEBAQABAAABAAEBAAABAAAAAAEBAQAAAAEAAAAAAAAAAAAAAQAAAAAAAAAAAAAAAAAAAAAAAAAAAAAAAQAAAAABAQAAAQEAAQAAAAABAAEAAAEBAQAAAAEAAQAAAQAAAQABAAAAAAAAAAAAAQABAQAAAAAAAAEAAAAAAQEAAAEBAAAAAAEAAAAAAAABAAAAAQAAAAAAAQEAAAEBAAABAQEAAAABAAABAAABAAABAQABAAEBAAAAAAAAAAEBAAABAAAAAAAAAAEBAAABAAABAQAAAQAAAQEBAQAAAAEAAAEBAQAAAQAAAAAAAAAAAQAAAQAAAAEAAAAAAAAAAAAAAAEAAAEAAQEBAAAAAAAAAQAAAAAAAAEAAAEBAAAAAAABAAEBAQAAAAAAAQABAAAAAAAAAAEAAQAAAQAAAAAAAAEAAAAAAAAAAQEAAAAAAQAAAAAAAQEAAAAAAAAAAAAAAAAAAAAAAQAAAAAAAQAAAQAAAAAAAAAAAQAAAAABAQEAAAABAAAAAAAAAAAAAAAAAAAAAAAAAQABAAABAQAAAAABAAEAAAEBAAAAAQAAAQAAAAEAAQEAAQAAAAAAAAAAAQAAAQEAAAAAAQAAAAAAAAEBAAAAAAEAAQAAAAABAQABAAEAAAAAAAAAAAABAAABAQAAAAAAAAAAAAAAAAABAAAAAAAAAAEAAQABAAAAAAEAAAEAAQABAAABAAEBAAEAAAABAAABAAAAAAAAAQAAAAAAAAAAAAAAAAAAAAEBAAAAAAABAAEBAAAAAQEAAAAAAAAAAQAAAAEAAAEAAAAAAAAAAAAAAQEBAAAAAAABAAABAAABAAEAAAAAAQABAAAAAAEBAAAAAAAAAAAAAAAAAAAAAAEBAQAAAAEAAAAAAQAAAQAAAQAAAAABAQAAAAAAAAAAAAAAAAAAAAAAAAABAAAAAAEBAAAAAQAAAAAAAAEAAAAAAQABAAEBAAEBAQEAAAABAQEBAQEAAAEAAAAAAAAAAAAAAQEAAAAAAAEAAQABAAAAAQABAAAAAAABAAABAAABAAAAAQABAQABAQEAAAEAAAAAAQEAAQAAAAAAAQABAAABAAAAAAEBAAAAAAAAAQEAAAAAAAAAAQAAAAEAAAAAAAAAAAAAAQAAAAAAAAEAAAEAAQAAAAAAAAAAAQAAAQAAAAEAAAABAAAAAAEAAQAAAAAAAAAAAAEAAAAAAQAAAAAAAAAAAQAAAAEAAAAAAAABAQABAQABAAAAAQAAAAAAAQEAAAEAAAAAAAAAAAAAAQAAAAEAAAEAAQAAAQEAAAAAAQAAAQAAAAAAAQABAAAAAAEBAAEAAQAAAQEBAQAAAQAAAAAAAAAAAAEAAAAAAQEBAAEAAAAAAAAAAAAAAAAAAAAAAAAAAAAAAAAAAAAAAAAAAAAAAAAAAAEBAAEBAQAAAQEAAAAAAAAAAAEAAQAAAAAAAAAAAQEAAAEAAAABAAAAAAEAAAEAAAABAQAAAAAAAQAAAAEBAAAAAAAAAAAAAQEBAAAAAAAAAQEAAQAAAAAAAQEAAAABAQAAAAEAAQAAAAAAAAAAAAEAAAABAAAAAAABAAEAAAAAAQABAQABAAAAAAAAAAAAAAAAAQAAAAEBAAEAAQABAAEAAAAAAAEAAAEBAAAAAAAAAAAAAQAAAAAAAAABAAAAAQABAAAAAAAAAAAAAAAAAAAAAQAAAQEAAAABAQAAAQAAAAABAAABAAEAAAAAAAAAAAAAAAAAAAAAAAEAAAABAAEAAAAAAAABAAABAAAAAQABAAAAAQAAAAAAAQEAAAAAAAAAAAAAAAAAAAABAQAAAAAAAAAAAQAAAQABAAEBAAABAAAAAQAAAAABAAEBAQEAAAEAAAAAAAAAAQEBAAAAAQEAAAAAAAABAAABAAEAAAABAAAAAAAAAQEAAAAAAAAAAAAAAAEAAQAAAAABAAAAAAAAAAEAAAAAAAEAAAAAAAAAAAABAQAAAAAAAAEAAQABAAABAAEAAAAAAAAAAAAAAAAAAAEBAAEAAAAAAAAAAAEAAAAAAAAAAAEAAAEAAAAAAAEAAAAAAQEAAQABAQAAAQEAAAAAAAEBAAAAAQABAAAAAQAAAAAAAQAAAAEAAQAAAQEAAAEBAQABAQAAAAAAAAEAAQAAAAEAAAEAAAABAAABAQAAAAEAAQEAAQABAAAAAQEAAAAAAAABAAAAAAAAAAAAAQEBAAEAAAAAAAEBAQAAAQAAAAAAAAABAAABAQAAAAAAAAABAAEAAAEAAAABAAEAAAAAAAAAAQAAAQAAAAAAAQABAAAAAAEAAAAAAAAAAQAAAAABAAAAAAAAAQABAQAAAAEAAAAAAQAAAAEBAAEAAAABAAABAAEAAQABAAABAAEAAAAAAAAAAAAAAAEAAAABAAAAAAABAAAAAAABAQABAAAAAQABAQAAAQEAAQAAAQEBAAAAAAABAAAAAAAAAAAAAAAAAAABAQABAQABAAAAAAABAAABAAEAAAAAAAAAAAEAAAABAQEAAAEAAAABAAAAAAEBAAAAAAAAAAEAAAAAAAAAAAEAAAABAAABAAAAAAAAAAABAAAAAAEAAQAAAAABAAEBAAAAAAAAAAABAAAAAAABAAAAAAAAAAAAAQEAAQEAAAEBAQAAAAEBAAAAAAABAAABAQAAAQAAAQAAAAAAAAAAAQAAAAAAAAAAAAAAAQEBAAAAAAABAAAAAAAAAAAAAAABAAAAAQAAAAAAAAABAAEAAAAAAQAAAQEBAAEAAAAAAAAAAAEAAAAAAAAAAQAAAAAAAAAAAAAAAAAAAAAAAAABAAAAAQAAAAAAAAAAAAEAAAABAQAAAQAAAQAAAAAAAQAAAAEAAQAAAQAAAQAAAAEAAAAAAAAAAAAAAAAAAQAAAAEAAAAAAQEAAAAAAQAAAAEAAQEBAAEBAAAAAQEAAAEAAAAAAQAAAQABAAAAAAAAAAAAAAAAAQABAAEAAAEAAAEAAAEAAAEBAQABAAAAAAAAAAAAAAAAAAABAAABAQAAAAAAAQAAAQAAAAAAAQEBAAAAAAAAAAAAAAABAAAAAQAAAQAAAAAAAAAAAQEAAAAAAAAAAAEAAAABAQAAAAABAAABAAAAAQABAAEBAAABAAAAAAEAAAEBAQABAQEAAAAAAAABAQAAAAAAAAABAAAAAAAAAQABAAAAAQAAAAAAAQEAAAAAAAABAAAAAAABAAABAAEAAAAAAAAAAAAAAAAAAAEAAQEAAAAAAAAAAQAAAAAAAQAAAAAAAQAAAAEAAQABAAAAAQAAAQAAAAABAAEAAAAAAAABAAEAAAEBAAAAAQABAAAAAAEAAAEBAQABAQAAAAEAAAABAAAAAAEAAAEAAQAAAAAAAQAAAAAAAAEAAAAAAAAAAAEAAAAAAAAAAAAAAAEAAAABAAEAAAABAAEBAAEAAQEAAAEAAAAAAAAAAAAAAAAAAQAAAQAAAAAAAAABAAAAAQAAAAEAAQAAAAAAAAABAQEAAQAAAAAAAAEAAQAAAAABAAEAAAABAAABAQEAAAABAQAAAAAAAAAAAAAAAAEAAAAAAAEAAAAAAQAAAQABAAABAAAAAAAAAAAAAQAAAQAAAAAAAQAAAAEAAAAAAQAAAAAAAAAAAAABAAAAAAABAQEBAAEAAAABAQEBAAAAAQAAAAEAAAABAQAAAQAAAAEAAAEAAQAAAQEBAAABAAEAAAABAAEAAQAAAAAAAAABAQABAAAAAAAAAQEBAQAAAAAAAAEBAAAAAQAAAAAAAAAAAAAAAAAAAAAAAAEAAAAAAAAAAAEBAAAAAAABAQAAAAAAAAEAAAAAAAAAAQAAAAAAAQABAQEAAAAAAQAAAQAAAAABAAAAAQEAAAEAAQAAAQEAAAAAAAABAAAAAAAAAAAAAAEAAAABAQAAAAAAAQAAAAAAAAAAAAAAAQAAAAABAAEAAQAAAAEBAQABAAAAAAABAAAAAQAAAAAAAAAAAAABAAEAAQABAAABAAABAAEAAAABAAAAAAAAAAAAAAEBAQAAAAEAAAEBAAAAAAAAAAAAAQAAAAAAAAAAAAEAAAAAAAAAAAEAAAEBAAABAAEBAAAAAAAAAAABAQABAAEAAAAAAAAAAAAAAAAAAQAAAAAAAAABAQEAAAEAAQEAAAAAAAAAAAEAAAAAAAAAAAABAAAAAAAAAAABAAAAAAAAAAAAAQAAAAAAAAAAAAAAAAABAAAAAQABAAAAAAABAAEAAAAAAQAAAQAAAQABAQAAAAEAAAAAAAEAAAEBAQAAAAABAAEAAAAAAAEBAAAAAQAAAQABAAAAAQEAAAABAAABAAAAAAAAAAABAAAAAAAAAAAAAAAAAAEBAAABAAEBAAAAAAAAAQAAAQAAAAAAAAAAAAAAAAEBAAEAAAA=",
          "dtype": "i1"
         },
         "x0": " ",
         "xaxis": "x",
         "y": {
          "bdata": "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",
          "dtype": "f8"
         },
         "y0": " ",
         "yaxis": "y"
        }
       ],
       "layout": {
        "boxmode": "group",
        "legend": {
         "tracegroupgap": 0
        },
        "margin": {
         "t": 60
        },
        "template": {
         "data": {
          "bar": [
           {
            "error_x": {
             "color": "#2a3f5f"
            },
            "error_y": {
             "color": "#2a3f5f"
            },
            "marker": {
             "line": {
              "color": "#E5ECF6",
              "width": 0.5
             },
             "pattern": {
              "fillmode": "overlay",
              "size": 10,
              "solidity": 0.2
             }
            },
            "type": "bar"
           }
          ],
          "barpolar": [
           {
            "marker": {
             "line": {
              "color": "#E5ECF6",
              "width": 0.5
             },
             "pattern": {
              "fillmode": "overlay",
              "size": 10,
              "solidity": 0.2
             }
            },
            "type": "barpolar"
           }
          ],
          "carpet": [
           {
            "aaxis": {
             "endlinecolor": "#2a3f5f",
             "gridcolor": "white",
             "linecolor": "white",
             "minorgridcolor": "white",
             "startlinecolor": "#2a3f5f"
            },
            "baxis": {
             "endlinecolor": "#2a3f5f",
             "gridcolor": "white",
             "linecolor": "white",
             "minorgridcolor": "white",
             "startlinecolor": "#2a3f5f"
            },
            "type": "carpet"
           }
          ],
          "choropleth": [
           {
            "colorbar": {
             "outlinewidth": 0,
             "ticks": ""
            },
            "type": "choropleth"
           }
          ],
          "contour": [
           {
            "colorbar": {
             "outlinewidth": 0,
             "ticks": ""
            },
            "colorscale": [
             [
              0,
              "#0d0887"
             ],
             [
              0.1111111111111111,
              "#46039f"
             ],
             [
              0.2222222222222222,
              "#7201a8"
             ],
             [
              0.3333333333333333,
              "#9c179e"
             ],
             [
              0.4444444444444444,
              "#bd3786"
             ],
             [
              0.5555555555555556,
              "#d8576b"
             ],
             [
              0.6666666666666666,
              "#ed7953"
             ],
             [
              0.7777777777777778,
              "#fb9f3a"
             ],
             [
              0.8888888888888888,
              "#fdca26"
             ],
             [
              1,
              "#f0f921"
             ]
            ],
            "type": "contour"
           }
          ],
          "contourcarpet": [
           {
            "colorbar": {
             "outlinewidth": 0,
             "ticks": ""
            },
            "type": "contourcarpet"
           }
          ],
          "heatmap": [
           {
            "colorbar": {
             "outlinewidth": 0,
             "ticks": ""
            },
            "colorscale": [
             [
              0,
              "#0d0887"
             ],
             [
              0.1111111111111111,
              "#46039f"
             ],
             [
              0.2222222222222222,
              "#7201a8"
             ],
             [
              0.3333333333333333,
              "#9c179e"
             ],
             [
              0.4444444444444444,
              "#bd3786"
             ],
             [
              0.5555555555555556,
              "#d8576b"
             ],
             [
              0.6666666666666666,
              "#ed7953"
             ],
             [
              0.7777777777777778,
              "#fb9f3a"
             ],
             [
              0.8888888888888888,
              "#fdca26"
             ],
             [
              1,
              "#f0f921"
             ]
            ],
            "type": "heatmap"
           }
          ],
          "histogram": [
           {
            "marker": {
             "pattern": {
              "fillmode": "overlay",
              "size": 10,
              "solidity": 0.2
             }
            },
            "type": "histogram"
           }
          ],
          "histogram2d": [
           {
            "colorbar": {
             "outlinewidth": 0,
             "ticks": ""
            },
            "colorscale": [
             [
              0,
              "#0d0887"
             ],
             [
              0.1111111111111111,
              "#46039f"
             ],
             [
              0.2222222222222222,
              "#7201a8"
             ],
             [
              0.3333333333333333,
              "#9c179e"
             ],
             [
              0.4444444444444444,
              "#bd3786"
             ],
             [
              0.5555555555555556,
              "#d8576b"
             ],
             [
              0.6666666666666666,
              "#ed7953"
             ],
             [
              0.7777777777777778,
              "#fb9f3a"
             ],
             [
              0.8888888888888888,
              "#fdca26"
             ],
             [
              1,
              "#f0f921"
             ]
            ],
            "type": "histogram2d"
           }
          ],
          "histogram2dcontour": [
           {
            "colorbar": {
             "outlinewidth": 0,
             "ticks": ""
            },
            "colorscale": [
             [
              0,
              "#0d0887"
             ],
             [
              0.1111111111111111,
              "#46039f"
             ],
             [
              0.2222222222222222,
              "#7201a8"
             ],
             [
              0.3333333333333333,
              "#9c179e"
             ],
             [
              0.4444444444444444,
              "#bd3786"
             ],
             [
              0.5555555555555556,
              "#d8576b"
             ],
             [
              0.6666666666666666,
              "#ed7953"
             ],
             [
              0.7777777777777778,
              "#fb9f3a"
             ],
             [
              0.8888888888888888,
              "#fdca26"
             ],
             [
              1,
              "#f0f921"
             ]
            ],
            "type": "histogram2dcontour"
           }
          ],
          "mesh3d": [
           {
            "colorbar": {
             "outlinewidth": 0,
             "ticks": ""
            },
            "type": "mesh3d"
           }
          ],
          "parcoords": [
           {
            "line": {
             "colorbar": {
              "outlinewidth": 0,
              "ticks": ""
             }
            },
            "type": "parcoords"
           }
          ],
          "pie": [
           {
            "automargin": true,
            "type": "pie"
           }
          ],
          "scatter": [
           {
            "fillpattern": {
             "fillmode": "overlay",
             "size": 10,
             "solidity": 0.2
            },
            "type": "scatter"
           }
          ],
          "scatter3d": [
           {
            "line": {
             "colorbar": {
              "outlinewidth": 0,
              "ticks": ""
             }
            },
            "marker": {
             "colorbar": {
              "outlinewidth": 0,
              "ticks": ""
             }
            },
            "type": "scatter3d"
           }
          ],
          "scattercarpet": [
           {
            "marker": {
             "colorbar": {
              "outlinewidth": 0,
              "ticks": ""
             }
            },
            "type": "scattercarpet"
           }
          ],
          "scattergeo": [
           {
            "marker": {
             "colorbar": {
              "outlinewidth": 0,
              "ticks": ""
             }
            },
            "type": "scattergeo"
           }
          ],
          "scattergl": [
           {
            "marker": {
             "colorbar": {
              "outlinewidth": 0,
              "ticks": ""
             }
            },
            "type": "scattergl"
           }
          ],
          "scattermap": [
           {
            "marker": {
             "colorbar": {
              "outlinewidth": 0,
              "ticks": ""
             }
            },
            "type": "scattermap"
           }
          ],
          "scattermapbox": [
           {
            "marker": {
             "colorbar": {
              "outlinewidth": 0,
              "ticks": ""
             }
            },
            "type": "scattermapbox"
           }
          ],
          "scatterpolar": [
           {
            "marker": {
             "colorbar": {
              "outlinewidth": 0,
              "ticks": ""
             }
            },
            "type": "scatterpolar"
           }
          ],
          "scatterpolargl": [
           {
            "marker": {
             "colorbar": {
              "outlinewidth": 0,
              "ticks": ""
             }
            },
            "type": "scatterpolargl"
           }
          ],
          "scatterternary": [
           {
            "marker": {
             "colorbar": {
              "outlinewidth": 0,
              "ticks": ""
             }
            },
            "type": "scatterternary"
           }
          ],
          "surface": [
           {
            "colorbar": {
             "outlinewidth": 0,
             "ticks": ""
            },
            "colorscale": [
             [
              0,
              "#0d0887"
             ],
             [
              0.1111111111111111,
              "#46039f"
             ],
             [
              0.2222222222222222,
              "#7201a8"
             ],
             [
              0.3333333333333333,
              "#9c179e"
             ],
             [
              0.4444444444444444,
              "#bd3786"
             ],
             [
              0.5555555555555556,
              "#d8576b"
             ],
             [
              0.6666666666666666,
              "#ed7953"
             ],
             [
              0.7777777777777778,
              "#fb9f3a"
             ],
             [
              0.8888888888888888,
              "#fdca26"
             ],
             [
              1,
              "#f0f921"
             ]
            ],
            "type": "surface"
           }
          ],
          "table": [
           {
            "cells": {
             "fill": {
              "color": "#EBF0F8"
             },
             "line": {
              "color": "white"
             }
            },
            "header": {
             "fill": {
              "color": "#C8D4E3"
             },
             "line": {
              "color": "white"
             }
            },
            "type": "table"
           }
          ]
         },
         "layout": {
          "annotationdefaults": {
           "arrowcolor": "#2a3f5f",
           "arrowhead": 0,
           "arrowwidth": 1
          },
          "autotypenumbers": "strict",
          "coloraxis": {
           "colorbar": {
            "outlinewidth": 0,
            "ticks": ""
           }
          },
          "colorscale": {
           "diverging": [
            [
             0,
             "#8e0152"
            ],
            [
             0.1,
             "#c51b7d"
            ],
            [
             0.2,
             "#de77ae"
            ],
            [
             0.3,
             "#f1b6da"
            ],
            [
             0.4,
             "#fde0ef"
            ],
            [
             0.5,
             "#f7f7f7"
            ],
            [
             0.6,
             "#e6f5d0"
            ],
            [
             0.7,
             "#b8e186"
            ],
            [
             0.8,
             "#7fbc41"
            ],
            [
             0.9,
             "#4d9221"
            ],
            [
             1,
             "#276419"
            ]
           ],
           "sequential": [
            [
             0,
             "#0d0887"
            ],
            [
             0.1111111111111111,
             "#46039f"
            ],
            [
             0.2222222222222222,
             "#7201a8"
            ],
            [
             0.3333333333333333,
             "#9c179e"
            ],
            [
             0.4444444444444444,
             "#bd3786"
            ],
            [
             0.5555555555555556,
             "#d8576b"
            ],
            [
             0.6666666666666666,
             "#ed7953"
            ],
            [
             0.7777777777777778,
             "#fb9f3a"
            ],
            [
             0.8888888888888888,
             "#fdca26"
            ],
            [
             1,
             "#f0f921"
            ]
           ],
           "sequentialminus": [
            [
             0,
             "#0d0887"
            ],
            [
             0.1111111111111111,
             "#46039f"
            ],
            [
             0.2222222222222222,
             "#7201a8"
            ],
            [
             0.3333333333333333,
             "#9c179e"
            ],
            [
             0.4444444444444444,
             "#bd3786"
            ],
            [
             0.5555555555555556,
             "#d8576b"
            ],
            [
             0.6666666666666666,
             "#ed7953"
            ],
            [
             0.7777777777777778,
             "#fb9f3a"
            ],
            [
             0.8888888888888888,
             "#fdca26"
            ],
            [
             1,
             "#f0f921"
            ]
           ]
          },
          "colorway": [
           "#636efa",
           "#EF553B",
           "#00cc96",
           "#ab63fa",
           "#FFA15A",
           "#19d3f3",
           "#FF6692",
           "#B6E880",
           "#FF97FF",
           "#FECB52"
          ],
          "font": {
           "color": "#2a3f5f"
          },
          "geo": {
           "bgcolor": "white",
           "lakecolor": "white",
           "landcolor": "#E5ECF6",
           "showlakes": true,
           "showland": true,
           "subunitcolor": "white"
          },
          "hoverlabel": {
           "align": "left"
          },
          "hovermode": "closest",
          "mapbox": {
           "style": "light"
          },
          "paper_bgcolor": "white",
          "plot_bgcolor": "#E5ECF6",
          "polar": {
           "angularaxis": {
            "gridcolor": "white",
            "linecolor": "white",
            "ticks": ""
           },
           "bgcolor": "#E5ECF6",
           "radialaxis": {
            "gridcolor": "white",
            "linecolor": "white",
            "ticks": ""
           }
          },
          "scene": {
           "xaxis": {
            "backgroundcolor": "#E5ECF6",
            "gridcolor": "white",
            "gridwidth": 2,
            "linecolor": "white",
            "showbackground": true,
            "ticks": "",
            "zerolinecolor": "white"
           },
           "yaxis": {
            "backgroundcolor": "#E5ECF6",
            "gridcolor": "white",
            "gridwidth": 2,
            "linecolor": "white",
            "showbackground": true,
            "ticks": "",
            "zerolinecolor": "white"
           },
           "zaxis": {
            "backgroundcolor": "#E5ECF6",
            "gridcolor": "white",
            "gridwidth": 2,
            "linecolor": "white",
            "showbackground": true,
            "ticks": "",
            "zerolinecolor": "white"
           }
          },
          "shapedefaults": {
           "line": {
            "color": "#2a3f5f"
           }
          },
          "ternary": {
           "aaxis": {
            "gridcolor": "white",
            "linecolor": "white",
            "ticks": ""
           },
           "baxis": {
            "gridcolor": "white",
            "linecolor": "white",
            "ticks": ""
           },
           "bgcolor": "#E5ECF6",
           "caxis": {
            "gridcolor": "white",
            "linecolor": "white",
            "ticks": ""
           }
          },
          "title": {
           "x": 0.05
          },
          "xaxis": {
           "automargin": true,
           "gridcolor": "white",
           "linecolor": "white",
           "ticks": "",
           "title": {
            "standoff": 15
           },
           "zerolinecolor": "white",
           "zerolinewidth": 2
          },
          "yaxis": {
           "automargin": true,
           "gridcolor": "white",
           "linecolor": "white",
           "ticks": "",
           "title": {
            "standoff": 15
           },
           "zerolinecolor": "white",
           "zerolinewidth": 2
          }
         }
        },
        "xaxis": {
         "anchor": "y",
         "domain": [
          0,
          1
         ],
         "title": {
          "text": "Churn"
         }
        },
        "yaxis": {
         "anchor": "x",
         "domain": [
          0,
          1
         ],
         "title": {
          "text": "Charges.Total"
         }
        }
       }
      }
     },
     "metadata": {},
     "output_type": "display_data"
    }
   ],
   "source": [
    "fig = px.box(datos_encoded, x=\"Churn\", y=\"Charges.Total\")\n",
    "\n",
    "fig.show()"
   ]
  },
  {
   "cell_type": "markdown",
   "id": "c351ab5a",
   "metadata": {},
   "source": [
    "En ambos casos se observa que hay una correlación negativa, más fuerte en la variable de tiempo de contratación.\n",
    "\n",
    "Esto podría llegar a tener un sentido lógico."
   ]
  },
  {
   "cell_type": "markdown",
   "id": "1d5e80d1",
   "metadata": {},
   "source": [
    "# Separación de datos"
   ]
  },
  {
   "cell_type": "code",
   "execution_count": 1434,
   "id": "6db73960",
   "metadata": {},
   "outputs": [
    {
     "data": {
      "text/html": [
       "<div>\n",
       "<style scoped>\n",
       "    .dataframe tbody tr th:only-of-type {\n",
       "        vertical-align: middle;\n",
       "    }\n",
       "\n",
       "    .dataframe tbody tr th {\n",
       "        vertical-align: top;\n",
       "    }\n",
       "\n",
       "    .dataframe thead th {\n",
       "        text-align: right;\n",
       "    }\n",
       "</style>\n",
       "<table border=\"1\" class=\"dataframe\">\n",
       "  <thead>\n",
       "    <tr style=\"text-align: right;\">\n",
       "      <th></th>\n",
       "      <th>Churn</th>\n",
       "      <th>Contract_Month-to-month</th>\n",
       "      <th>OnlineSecurity_No</th>\n",
       "      <th>TechSupport_No</th>\n",
       "      <th>InternetService_Fiber optic</th>\n",
       "      <th>PaymentMethod_Electronic check</th>\n",
       "      <th>OnlineBackup_No</th>\n",
       "      <th>DeviceProtection_No</th>\n",
       "    </tr>\n",
       "  </thead>\n",
       "  <tbody>\n",
       "    <tr>\n",
       "      <th>0</th>\n",
       "      <td>0</td>\n",
       "      <td>0</td>\n",
       "      <td>1</td>\n",
       "      <td>0</td>\n",
       "      <td>0</td>\n",
       "      <td>0</td>\n",
       "      <td>0</td>\n",
       "      <td>1</td>\n",
       "    </tr>\n",
       "    <tr>\n",
       "      <th>1</th>\n",
       "      <td>0</td>\n",
       "      <td>1</td>\n",
       "      <td>1</td>\n",
       "      <td>1</td>\n",
       "      <td>0</td>\n",
       "      <td>0</td>\n",
       "      <td>1</td>\n",
       "      <td>1</td>\n",
       "    </tr>\n",
       "    <tr>\n",
       "      <th>2</th>\n",
       "      <td>1</td>\n",
       "      <td>1</td>\n",
       "      <td>1</td>\n",
       "      <td>1</td>\n",
       "      <td>1</td>\n",
       "      <td>1</td>\n",
       "      <td>1</td>\n",
       "      <td>0</td>\n",
       "    </tr>\n",
       "    <tr>\n",
       "      <th>3</th>\n",
       "      <td>1</td>\n",
       "      <td>1</td>\n",
       "      <td>1</td>\n",
       "      <td>1</td>\n",
       "      <td>1</td>\n",
       "      <td>1</td>\n",
       "      <td>0</td>\n",
       "      <td>0</td>\n",
       "    </tr>\n",
       "    <tr>\n",
       "      <th>4</th>\n",
       "      <td>1</td>\n",
       "      <td>1</td>\n",
       "      <td>1</td>\n",
       "      <td>0</td>\n",
       "      <td>1</td>\n",
       "      <td>0</td>\n",
       "      <td>1</td>\n",
       "      <td>1</td>\n",
       "    </tr>\n",
       "  </tbody>\n",
       "</table>\n",
       "</div>"
      ],
      "text/plain": [
       "   Churn  Contract_Month-to-month  OnlineSecurity_No  TechSupport_No  \\\n",
       "0      0                        0                  1               0   \n",
       "1      0                        1                  1               1   \n",
       "2      1                        1                  1               1   \n",
       "3      1                        1                  1               1   \n",
       "4      1                        1                  1               0   \n",
       "\n",
       "   InternetService_Fiber optic  PaymentMethod_Electronic check  \\\n",
       "0                            0                               0   \n",
       "1                            0                               0   \n",
       "2                            1                               1   \n",
       "3                            1                               1   \n",
       "4                            1                               0   \n",
       "\n",
       "   OnlineBackup_No  DeviceProtection_No  \n",
       "0                0                    1  \n",
       "1                1                    1  \n",
       "2                1                    0  \n",
       "3                0                    0  \n",
       "4                1                    1  "
      ]
     },
     "execution_count": 1434,
     "metadata": {},
     "output_type": "execute_result"
    }
   ],
   "source": [
    "# Selección de columnas con fuerte correlación\n",
    "df = datos_encoded[seleccionadas]\n",
    "df.head()"
   ]
  },
  {
   "cell_type": "code",
   "execution_count": 1435,
   "id": "0a16e0b6",
   "metadata": {},
   "outputs": [],
   "source": [
    "y = df['Churn'] # variable respuesta\n",
    "X = df.drop(columns='Churn') # variables explicativas"
   ]
  },
  {
   "cell_type": "code",
   "execution_count": 1436,
   "id": "62bf64d5",
   "metadata": {},
   "outputs": [],
   "source": [
    "from sklearn.model_selection import train_test_split\n",
    "\n",
    "# Creando variables de entrenamiento y prueba\n",
    "X_train, X_test, y_train, y_test = train_test_split(X, y, test_size=0.3, random_state=16)"
   ]
  },
  {
   "cell_type": "markdown",
   "id": "977ec5e2",
   "metadata": {},
   "source": [
    "> Separamos los datos en conjuntos de entrenamiento y prueba para evaluar el desempeño de los modelos de manera objetiva."
   ]
  },
  {
   "cell_type": "markdown",
   "id": "e5a8f6a6",
   "metadata": {},
   "source": [
    "# Creación de modelos"
   ]
  },
  {
   "cell_type": "markdown",
   "id": "6bef3416",
   "metadata": {},
   "source": [
    "### Baseline model"
   ]
  },
  {
   "cell_type": "code",
   "execution_count": 1437,
   "id": "d3bf3761",
   "metadata": {},
   "outputs": [
    {
     "data": {
      "text/html": [
       "<style>#sk-container-id-66 {\n",
       "  /* Definition of color scheme common for light and dark mode */\n",
       "  --sklearn-color-text: #000;\n",
       "  --sklearn-color-text-muted: #666;\n",
       "  --sklearn-color-line: gray;\n",
       "  /* Definition of color scheme for unfitted estimators */\n",
       "  --sklearn-color-unfitted-level-0: #fff5e6;\n",
       "  --sklearn-color-unfitted-level-1: #f6e4d2;\n",
       "  --sklearn-color-unfitted-level-2: #ffe0b3;\n",
       "  --sklearn-color-unfitted-level-3: chocolate;\n",
       "  /* Definition of color scheme for fitted estimators */\n",
       "  --sklearn-color-fitted-level-0: #f0f8ff;\n",
       "  --sklearn-color-fitted-level-1: #d4ebff;\n",
       "  --sklearn-color-fitted-level-2: #b3dbfd;\n",
       "  --sklearn-color-fitted-level-3: cornflowerblue;\n",
       "\n",
       "  /* Specific color for light theme */\n",
       "  --sklearn-color-text-on-default-background: var(--sg-text-color, var(--theme-code-foreground, var(--jp-content-font-color1, black)));\n",
       "  --sklearn-color-background: var(--sg-background-color, var(--theme-background, var(--jp-layout-color0, white)));\n",
       "  --sklearn-color-border-box: var(--sg-text-color, var(--theme-code-foreground, var(--jp-content-font-color1, black)));\n",
       "  --sklearn-color-icon: #696969;\n",
       "\n",
       "  @media (prefers-color-scheme: dark) {\n",
       "    /* Redefinition of color scheme for dark theme */\n",
       "    --sklearn-color-text-on-default-background: var(--sg-text-color, var(--theme-code-foreground, var(--jp-content-font-color1, white)));\n",
       "    --sklearn-color-background: var(--sg-background-color, var(--theme-background, var(--jp-layout-color0, #111)));\n",
       "    --sklearn-color-border-box: var(--sg-text-color, var(--theme-code-foreground, var(--jp-content-font-color1, white)));\n",
       "    --sklearn-color-icon: #878787;\n",
       "  }\n",
       "}\n",
       "\n",
       "#sk-container-id-66 {\n",
       "  color: var(--sklearn-color-text);\n",
       "}\n",
       "\n",
       "#sk-container-id-66 pre {\n",
       "  padding: 0;\n",
       "}\n",
       "\n",
       "#sk-container-id-66 input.sk-hidden--visually {\n",
       "  border: 0;\n",
       "  clip: rect(1px 1px 1px 1px);\n",
       "  clip: rect(1px, 1px, 1px, 1px);\n",
       "  height: 1px;\n",
       "  margin: -1px;\n",
       "  overflow: hidden;\n",
       "  padding: 0;\n",
       "  position: absolute;\n",
       "  width: 1px;\n",
       "}\n",
       "\n",
       "#sk-container-id-66 div.sk-dashed-wrapped {\n",
       "  border: 1px dashed var(--sklearn-color-line);\n",
       "  margin: 0 0.4em 0.5em 0.4em;\n",
       "  box-sizing: border-box;\n",
       "  padding-bottom: 0.4em;\n",
       "  background-color: var(--sklearn-color-background);\n",
       "}\n",
       "\n",
       "#sk-container-id-66 div.sk-container {\n",
       "  /* jupyter's `normalize.less` sets `[hidden] { display: none; }`\n",
       "     but bootstrap.min.css set `[hidden] { display: none !important; }`\n",
       "     so we also need the `!important` here to be able to override the\n",
       "     default hidden behavior on the sphinx rendered scikit-learn.org.\n",
       "     See: https://github.com/scikit-learn/scikit-learn/issues/21755 */\n",
       "  display: inline-block !important;\n",
       "  position: relative;\n",
       "}\n",
       "\n",
       "#sk-container-id-66 div.sk-text-repr-fallback {\n",
       "  display: none;\n",
       "}\n",
       "\n",
       "div.sk-parallel-item,\n",
       "div.sk-serial,\n",
       "div.sk-item {\n",
       "  /* draw centered vertical line to link estimators */\n",
       "  background-image: linear-gradient(var(--sklearn-color-text-on-default-background), var(--sklearn-color-text-on-default-background));\n",
       "  background-size: 2px 100%;\n",
       "  background-repeat: no-repeat;\n",
       "  background-position: center center;\n",
       "}\n",
       "\n",
       "/* Parallel-specific style estimator block */\n",
       "\n",
       "#sk-container-id-66 div.sk-parallel-item::after {\n",
       "  content: \"\";\n",
       "  width: 100%;\n",
       "  border-bottom: 2px solid var(--sklearn-color-text-on-default-background);\n",
       "  flex-grow: 1;\n",
       "}\n",
       "\n",
       "#sk-container-id-66 div.sk-parallel {\n",
       "  display: flex;\n",
       "  align-items: stretch;\n",
       "  justify-content: center;\n",
       "  background-color: var(--sklearn-color-background);\n",
       "  position: relative;\n",
       "}\n",
       "\n",
       "#sk-container-id-66 div.sk-parallel-item {\n",
       "  display: flex;\n",
       "  flex-direction: column;\n",
       "}\n",
       "\n",
       "#sk-container-id-66 div.sk-parallel-item:first-child::after {\n",
       "  align-self: flex-end;\n",
       "  width: 50%;\n",
       "}\n",
       "\n",
       "#sk-container-id-66 div.sk-parallel-item:last-child::after {\n",
       "  align-self: flex-start;\n",
       "  width: 50%;\n",
       "}\n",
       "\n",
       "#sk-container-id-66 div.sk-parallel-item:only-child::after {\n",
       "  width: 0;\n",
       "}\n",
       "\n",
       "/* Serial-specific style estimator block */\n",
       "\n",
       "#sk-container-id-66 div.sk-serial {\n",
       "  display: flex;\n",
       "  flex-direction: column;\n",
       "  align-items: center;\n",
       "  background-color: var(--sklearn-color-background);\n",
       "  padding-right: 1em;\n",
       "  padding-left: 1em;\n",
       "}\n",
       "\n",
       "\n",
       "/* Toggleable style: style used for estimator/Pipeline/ColumnTransformer box that is\n",
       "clickable and can be expanded/collapsed.\n",
       "- Pipeline and ColumnTransformer use this feature and define the default style\n",
       "- Estimators will overwrite some part of the style using the `sk-estimator` class\n",
       "*/\n",
       "\n",
       "/* Pipeline and ColumnTransformer style (default) */\n",
       "\n",
       "#sk-container-id-66 div.sk-toggleable {\n",
       "  /* Default theme specific background. It is overwritten whether we have a\n",
       "  specific estimator or a Pipeline/ColumnTransformer */\n",
       "  background-color: var(--sklearn-color-background);\n",
       "}\n",
       "\n",
       "/* Toggleable label */\n",
       "#sk-container-id-66 label.sk-toggleable__label {\n",
       "  cursor: pointer;\n",
       "  display: flex;\n",
       "  width: 100%;\n",
       "  margin-bottom: 0;\n",
       "  padding: 0.5em;\n",
       "  box-sizing: border-box;\n",
       "  text-align: center;\n",
       "  align-items: start;\n",
       "  justify-content: space-between;\n",
       "  gap: 0.5em;\n",
       "}\n",
       "\n",
       "#sk-container-id-66 label.sk-toggleable__label .caption {\n",
       "  font-size: 0.6rem;\n",
       "  font-weight: lighter;\n",
       "  color: var(--sklearn-color-text-muted);\n",
       "}\n",
       "\n",
       "#sk-container-id-66 label.sk-toggleable__label-arrow:before {\n",
       "  /* Arrow on the left of the label */\n",
       "  content: \"▸\";\n",
       "  float: left;\n",
       "  margin-right: 0.25em;\n",
       "  color: var(--sklearn-color-icon);\n",
       "}\n",
       "\n",
       "#sk-container-id-66 label.sk-toggleable__label-arrow:hover:before {\n",
       "  color: var(--sklearn-color-text);\n",
       "}\n",
       "\n",
       "/* Toggleable content - dropdown */\n",
       "\n",
       "#sk-container-id-66 div.sk-toggleable__content {\n",
       "  max-height: 0;\n",
       "  max-width: 0;\n",
       "  overflow: hidden;\n",
       "  text-align: left;\n",
       "  /* unfitted */\n",
       "  background-color: var(--sklearn-color-unfitted-level-0);\n",
       "}\n",
       "\n",
       "#sk-container-id-66 div.sk-toggleable__content.fitted {\n",
       "  /* fitted */\n",
       "  background-color: var(--sklearn-color-fitted-level-0);\n",
       "}\n",
       "\n",
       "#sk-container-id-66 div.sk-toggleable__content pre {\n",
       "  margin: 0.2em;\n",
       "  border-radius: 0.25em;\n",
       "  color: var(--sklearn-color-text);\n",
       "  /* unfitted */\n",
       "  background-color: var(--sklearn-color-unfitted-level-0);\n",
       "}\n",
       "\n",
       "#sk-container-id-66 div.sk-toggleable__content.fitted pre {\n",
       "  /* unfitted */\n",
       "  background-color: var(--sklearn-color-fitted-level-0);\n",
       "}\n",
       "\n",
       "#sk-container-id-66 input.sk-toggleable__control:checked~div.sk-toggleable__content {\n",
       "  /* Expand drop-down */\n",
       "  max-height: 200px;\n",
       "  max-width: 100%;\n",
       "  overflow: auto;\n",
       "}\n",
       "\n",
       "#sk-container-id-66 input.sk-toggleable__control:checked~label.sk-toggleable__label-arrow:before {\n",
       "  content: \"▾\";\n",
       "}\n",
       "\n",
       "/* Pipeline/ColumnTransformer-specific style */\n",
       "\n",
       "#sk-container-id-66 div.sk-label input.sk-toggleable__control:checked~label.sk-toggleable__label {\n",
       "  color: var(--sklearn-color-text);\n",
       "  background-color: var(--sklearn-color-unfitted-level-2);\n",
       "}\n",
       "\n",
       "#sk-container-id-66 div.sk-label.fitted input.sk-toggleable__control:checked~label.sk-toggleable__label {\n",
       "  background-color: var(--sklearn-color-fitted-level-2);\n",
       "}\n",
       "\n",
       "/* Estimator-specific style */\n",
       "\n",
       "/* Colorize estimator box */\n",
       "#sk-container-id-66 div.sk-estimator input.sk-toggleable__control:checked~label.sk-toggleable__label {\n",
       "  /* unfitted */\n",
       "  background-color: var(--sklearn-color-unfitted-level-2);\n",
       "}\n",
       "\n",
       "#sk-container-id-66 div.sk-estimator.fitted input.sk-toggleable__control:checked~label.sk-toggleable__label {\n",
       "  /* fitted */\n",
       "  background-color: var(--sklearn-color-fitted-level-2);\n",
       "}\n",
       "\n",
       "#sk-container-id-66 div.sk-label label.sk-toggleable__label,\n",
       "#sk-container-id-66 div.sk-label label {\n",
       "  /* The background is the default theme color */\n",
       "  color: var(--sklearn-color-text-on-default-background);\n",
       "}\n",
       "\n",
       "/* On hover, darken the color of the background */\n",
       "#sk-container-id-66 div.sk-label:hover label.sk-toggleable__label {\n",
       "  color: var(--sklearn-color-text);\n",
       "  background-color: var(--sklearn-color-unfitted-level-2);\n",
       "}\n",
       "\n",
       "/* Label box, darken color on hover, fitted */\n",
       "#sk-container-id-66 div.sk-label.fitted:hover label.sk-toggleable__label.fitted {\n",
       "  color: var(--sklearn-color-text);\n",
       "  background-color: var(--sklearn-color-fitted-level-2);\n",
       "}\n",
       "\n",
       "/* Estimator label */\n",
       "\n",
       "#sk-container-id-66 div.sk-label label {\n",
       "  font-family: monospace;\n",
       "  font-weight: bold;\n",
       "  display: inline-block;\n",
       "  line-height: 1.2em;\n",
       "}\n",
       "\n",
       "#sk-container-id-66 div.sk-label-container {\n",
       "  text-align: center;\n",
       "}\n",
       "\n",
       "/* Estimator-specific */\n",
       "#sk-container-id-66 div.sk-estimator {\n",
       "  font-family: monospace;\n",
       "  border: 1px dotted var(--sklearn-color-border-box);\n",
       "  border-radius: 0.25em;\n",
       "  box-sizing: border-box;\n",
       "  margin-bottom: 0.5em;\n",
       "  /* unfitted */\n",
       "  background-color: var(--sklearn-color-unfitted-level-0);\n",
       "}\n",
       "\n",
       "#sk-container-id-66 div.sk-estimator.fitted {\n",
       "  /* fitted */\n",
       "  background-color: var(--sklearn-color-fitted-level-0);\n",
       "}\n",
       "\n",
       "/* on hover */\n",
       "#sk-container-id-66 div.sk-estimator:hover {\n",
       "  /* unfitted */\n",
       "  background-color: var(--sklearn-color-unfitted-level-2);\n",
       "}\n",
       "\n",
       "#sk-container-id-66 div.sk-estimator.fitted:hover {\n",
       "  /* fitted */\n",
       "  background-color: var(--sklearn-color-fitted-level-2);\n",
       "}\n",
       "\n",
       "/* Specification for estimator info (e.g. \"i\" and \"?\") */\n",
       "\n",
       "/* Common style for \"i\" and \"?\" */\n",
       "\n",
       ".sk-estimator-doc-link,\n",
       "a:link.sk-estimator-doc-link,\n",
       "a:visited.sk-estimator-doc-link {\n",
       "  float: right;\n",
       "  font-size: smaller;\n",
       "  line-height: 1em;\n",
       "  font-family: monospace;\n",
       "  background-color: var(--sklearn-color-background);\n",
       "  border-radius: 1em;\n",
       "  height: 1em;\n",
       "  width: 1em;\n",
       "  text-decoration: none !important;\n",
       "  margin-left: 0.5em;\n",
       "  text-align: center;\n",
       "  /* unfitted */\n",
       "  border: var(--sklearn-color-unfitted-level-1) 1pt solid;\n",
       "  color: var(--sklearn-color-unfitted-level-1);\n",
       "}\n",
       "\n",
       ".sk-estimator-doc-link.fitted,\n",
       "a:link.sk-estimator-doc-link.fitted,\n",
       "a:visited.sk-estimator-doc-link.fitted {\n",
       "  /* fitted */\n",
       "  border: var(--sklearn-color-fitted-level-1) 1pt solid;\n",
       "  color: var(--sklearn-color-fitted-level-1);\n",
       "}\n",
       "\n",
       "/* On hover */\n",
       "div.sk-estimator:hover .sk-estimator-doc-link:hover,\n",
       ".sk-estimator-doc-link:hover,\n",
       "div.sk-label-container:hover .sk-estimator-doc-link:hover,\n",
       ".sk-estimator-doc-link:hover {\n",
       "  /* unfitted */\n",
       "  background-color: var(--sklearn-color-unfitted-level-3);\n",
       "  color: var(--sklearn-color-background);\n",
       "  text-decoration: none;\n",
       "}\n",
       "\n",
       "div.sk-estimator.fitted:hover .sk-estimator-doc-link.fitted:hover,\n",
       ".sk-estimator-doc-link.fitted:hover,\n",
       "div.sk-label-container:hover .sk-estimator-doc-link.fitted:hover,\n",
       ".sk-estimator-doc-link.fitted:hover {\n",
       "  /* fitted */\n",
       "  background-color: var(--sklearn-color-fitted-level-3);\n",
       "  color: var(--sklearn-color-background);\n",
       "  text-decoration: none;\n",
       "}\n",
       "\n",
       "/* Span, style for the box shown on hovering the info icon */\n",
       ".sk-estimator-doc-link span {\n",
       "  display: none;\n",
       "  z-index: 9999;\n",
       "  position: relative;\n",
       "  font-weight: normal;\n",
       "  right: .2ex;\n",
       "  padding: .5ex;\n",
       "  margin: .5ex;\n",
       "  width: min-content;\n",
       "  min-width: 20ex;\n",
       "  max-width: 50ex;\n",
       "  color: var(--sklearn-color-text);\n",
       "  box-shadow: 2pt 2pt 4pt #999;\n",
       "  /* unfitted */\n",
       "  background: var(--sklearn-color-unfitted-level-0);\n",
       "  border: .5pt solid var(--sklearn-color-unfitted-level-3);\n",
       "}\n",
       "\n",
       ".sk-estimator-doc-link.fitted span {\n",
       "  /* fitted */\n",
       "  background: var(--sklearn-color-fitted-level-0);\n",
       "  border: var(--sklearn-color-fitted-level-3);\n",
       "}\n",
       "\n",
       ".sk-estimator-doc-link:hover span {\n",
       "  display: block;\n",
       "}\n",
       "\n",
       "/* \"?\"-specific style due to the `<a>` HTML tag */\n",
       "\n",
       "#sk-container-id-66 a.estimator_doc_link {\n",
       "  float: right;\n",
       "  font-size: 1rem;\n",
       "  line-height: 1em;\n",
       "  font-family: monospace;\n",
       "  background-color: var(--sklearn-color-background);\n",
       "  border-radius: 1rem;\n",
       "  height: 1rem;\n",
       "  width: 1rem;\n",
       "  text-decoration: none;\n",
       "  /* unfitted */\n",
       "  color: var(--sklearn-color-unfitted-level-1);\n",
       "  border: var(--sklearn-color-unfitted-level-1) 1pt solid;\n",
       "}\n",
       "\n",
       "#sk-container-id-66 a.estimator_doc_link.fitted {\n",
       "  /* fitted */\n",
       "  border: var(--sklearn-color-fitted-level-1) 1pt solid;\n",
       "  color: var(--sklearn-color-fitted-level-1);\n",
       "}\n",
       "\n",
       "/* On hover */\n",
       "#sk-container-id-66 a.estimator_doc_link:hover {\n",
       "  /* unfitted */\n",
       "  background-color: var(--sklearn-color-unfitted-level-3);\n",
       "  color: var(--sklearn-color-background);\n",
       "  text-decoration: none;\n",
       "}\n",
       "\n",
       "#sk-container-id-66 a.estimator_doc_link.fitted:hover {\n",
       "  /* fitted */\n",
       "  background-color: var(--sklearn-color-fitted-level-3);\n",
       "}\n",
       "</style><div id=\"sk-container-id-66\" class=\"sk-top-container\"><div class=\"sk-text-repr-fallback\"><pre>DummyClassifier()</pre><b>In a Jupyter environment, please rerun this cell to show the HTML representation or trust the notebook. <br />On GitHub, the HTML representation is unable to render, please try loading this page with nbviewer.org.</b></div><div class=\"sk-container\" hidden><div class=\"sk-item\"><div class=\"sk-estimator fitted sk-toggleable\"><input class=\"sk-toggleable__control sk-hidden--visually\" id=\"sk-estimator-id-66\" type=\"checkbox\" checked><label for=\"sk-estimator-id-66\" class=\"sk-toggleable__label fitted sk-toggleable__label-arrow\"><div><div>DummyClassifier</div></div><div><a class=\"sk-estimator-doc-link fitted\" rel=\"noreferrer\" target=\"_blank\" href=\"https://scikit-learn.org/1.6/modules/generated/sklearn.dummy.DummyClassifier.html\">?<span>Documentation for DummyClassifier</span></a><span class=\"sk-estimator-doc-link fitted\">i<span>Fitted</span></span></div></label><div class=\"sk-toggleable__content fitted\"><pre>DummyClassifier()</pre></div> </div></div></div></div>"
      ],
      "text/plain": [
       "DummyClassifier()"
      ]
     },
     "execution_count": 1437,
     "metadata": {},
     "output_type": "execute_result"
    }
   ],
   "source": [
    "from sklearn.dummy import DummyClassifier\n",
    "\n",
    "baseline = DummyClassifier()\n",
    "\n",
    "baseline.fit(X_train, y_train)"
   ]
  },
  {
   "cell_type": "code",
   "execution_count": 1438,
   "id": "f0b3ec8e",
   "metadata": {},
   "outputs": [],
   "source": [
    "from sklearn.metrics import mean_squared_error, mean_absolute_error, r2_score, accuracy_score, precision_score, recall_score, f1_score"
   ]
  },
  {
   "cell_type": "code",
   "execution_count": 1439,
   "id": "e5f0fadf",
   "metadata": {},
   "outputs": [],
   "source": [
    "# Función que muestra puntaje en diferentes métricas\n",
    "def calcular_regresion(y_test, y_pred):\n",
    "    rmse = mean_squared_error(y_test, y_pred)\n",
    "    mae = mean_absolute_error(y_test, y_pred)\n",
    "    r2 = r2_score(y_test, y_pred)\n",
    "    metricas = {\n",
    "        \"RMSE\": round(rmse ** (1 / 2), 4),\n",
    "        \"MAE\": round(mae, 4),\n",
    "        \"R2\": round(r2, 4),\n",
    "    }\n",
    "    return metricas"
   ]
  },
  {
   "cell_type": "code",
   "execution_count": 1440,
   "id": "bae50171",
   "metadata": {},
   "outputs": [
    {
     "data": {
      "text/plain": [
       "0.7420728821580691"
      ]
     },
     "execution_count": 1440,
     "metadata": {},
     "output_type": "execute_result"
    }
   ],
   "source": [
    "baseline.score(X_test, y_test)"
   ]
  },
  {
   "cell_type": "code",
   "execution_count": 1441,
   "id": "c072bd74",
   "metadata": {},
   "outputs": [
    {
     "data": {
      "text/plain": [
       "{'RMSE': 0.5079, 'MAE': 0.2579, 'R2': -0.3476}"
      ]
     },
     "execution_count": 1441,
     "metadata": {},
     "output_type": "execute_result"
    }
   ],
   "source": [
    "y_pred_dummy = baseline.predict(X_test)\n",
    "baseline_score = calcular_regresion(y_test, y_pred_dummy)\n",
    "baseline_score"
   ]
  },
  {
   "cell_type": "markdown",
   "id": "913cecf7",
   "metadata": {},
   "source": [
    "### DecisionTree Model"
   ]
  },
  {
   "cell_type": "code",
   "execution_count": 1442,
   "id": "1b95194a",
   "metadata": {},
   "outputs": [
    {
     "data": {
      "text/html": [
       "<style>#sk-container-id-67 {\n",
       "  /* Definition of color scheme common for light and dark mode */\n",
       "  --sklearn-color-text: #000;\n",
       "  --sklearn-color-text-muted: #666;\n",
       "  --sklearn-color-line: gray;\n",
       "  /* Definition of color scheme for unfitted estimators */\n",
       "  --sklearn-color-unfitted-level-0: #fff5e6;\n",
       "  --sklearn-color-unfitted-level-1: #f6e4d2;\n",
       "  --sklearn-color-unfitted-level-2: #ffe0b3;\n",
       "  --sklearn-color-unfitted-level-3: chocolate;\n",
       "  /* Definition of color scheme for fitted estimators */\n",
       "  --sklearn-color-fitted-level-0: #f0f8ff;\n",
       "  --sklearn-color-fitted-level-1: #d4ebff;\n",
       "  --sklearn-color-fitted-level-2: #b3dbfd;\n",
       "  --sklearn-color-fitted-level-3: cornflowerblue;\n",
       "\n",
       "  /* Specific color for light theme */\n",
       "  --sklearn-color-text-on-default-background: var(--sg-text-color, var(--theme-code-foreground, var(--jp-content-font-color1, black)));\n",
       "  --sklearn-color-background: var(--sg-background-color, var(--theme-background, var(--jp-layout-color0, white)));\n",
       "  --sklearn-color-border-box: var(--sg-text-color, var(--theme-code-foreground, var(--jp-content-font-color1, black)));\n",
       "  --sklearn-color-icon: #696969;\n",
       "\n",
       "  @media (prefers-color-scheme: dark) {\n",
       "    /* Redefinition of color scheme for dark theme */\n",
       "    --sklearn-color-text-on-default-background: var(--sg-text-color, var(--theme-code-foreground, var(--jp-content-font-color1, white)));\n",
       "    --sklearn-color-background: var(--sg-background-color, var(--theme-background, var(--jp-layout-color0, #111)));\n",
       "    --sklearn-color-border-box: var(--sg-text-color, var(--theme-code-foreground, var(--jp-content-font-color1, white)));\n",
       "    --sklearn-color-icon: #878787;\n",
       "  }\n",
       "}\n",
       "\n",
       "#sk-container-id-67 {\n",
       "  color: var(--sklearn-color-text);\n",
       "}\n",
       "\n",
       "#sk-container-id-67 pre {\n",
       "  padding: 0;\n",
       "}\n",
       "\n",
       "#sk-container-id-67 input.sk-hidden--visually {\n",
       "  border: 0;\n",
       "  clip: rect(1px 1px 1px 1px);\n",
       "  clip: rect(1px, 1px, 1px, 1px);\n",
       "  height: 1px;\n",
       "  margin: -1px;\n",
       "  overflow: hidden;\n",
       "  padding: 0;\n",
       "  position: absolute;\n",
       "  width: 1px;\n",
       "}\n",
       "\n",
       "#sk-container-id-67 div.sk-dashed-wrapped {\n",
       "  border: 1px dashed var(--sklearn-color-line);\n",
       "  margin: 0 0.4em 0.5em 0.4em;\n",
       "  box-sizing: border-box;\n",
       "  padding-bottom: 0.4em;\n",
       "  background-color: var(--sklearn-color-background);\n",
       "}\n",
       "\n",
       "#sk-container-id-67 div.sk-container {\n",
       "  /* jupyter's `normalize.less` sets `[hidden] { display: none; }`\n",
       "     but bootstrap.min.css set `[hidden] { display: none !important; }`\n",
       "     so we also need the `!important` here to be able to override the\n",
       "     default hidden behavior on the sphinx rendered scikit-learn.org.\n",
       "     See: https://github.com/scikit-learn/scikit-learn/issues/21755 */\n",
       "  display: inline-block !important;\n",
       "  position: relative;\n",
       "}\n",
       "\n",
       "#sk-container-id-67 div.sk-text-repr-fallback {\n",
       "  display: none;\n",
       "}\n",
       "\n",
       "div.sk-parallel-item,\n",
       "div.sk-serial,\n",
       "div.sk-item {\n",
       "  /* draw centered vertical line to link estimators */\n",
       "  background-image: linear-gradient(var(--sklearn-color-text-on-default-background), var(--sklearn-color-text-on-default-background));\n",
       "  background-size: 2px 100%;\n",
       "  background-repeat: no-repeat;\n",
       "  background-position: center center;\n",
       "}\n",
       "\n",
       "/* Parallel-specific style estimator block */\n",
       "\n",
       "#sk-container-id-67 div.sk-parallel-item::after {\n",
       "  content: \"\";\n",
       "  width: 100%;\n",
       "  border-bottom: 2px solid var(--sklearn-color-text-on-default-background);\n",
       "  flex-grow: 1;\n",
       "}\n",
       "\n",
       "#sk-container-id-67 div.sk-parallel {\n",
       "  display: flex;\n",
       "  align-items: stretch;\n",
       "  justify-content: center;\n",
       "  background-color: var(--sklearn-color-background);\n",
       "  position: relative;\n",
       "}\n",
       "\n",
       "#sk-container-id-67 div.sk-parallel-item {\n",
       "  display: flex;\n",
       "  flex-direction: column;\n",
       "}\n",
       "\n",
       "#sk-container-id-67 div.sk-parallel-item:first-child::after {\n",
       "  align-self: flex-end;\n",
       "  width: 50%;\n",
       "}\n",
       "\n",
       "#sk-container-id-67 div.sk-parallel-item:last-child::after {\n",
       "  align-self: flex-start;\n",
       "  width: 50%;\n",
       "}\n",
       "\n",
       "#sk-container-id-67 div.sk-parallel-item:only-child::after {\n",
       "  width: 0;\n",
       "}\n",
       "\n",
       "/* Serial-specific style estimator block */\n",
       "\n",
       "#sk-container-id-67 div.sk-serial {\n",
       "  display: flex;\n",
       "  flex-direction: column;\n",
       "  align-items: center;\n",
       "  background-color: var(--sklearn-color-background);\n",
       "  padding-right: 1em;\n",
       "  padding-left: 1em;\n",
       "}\n",
       "\n",
       "\n",
       "/* Toggleable style: style used for estimator/Pipeline/ColumnTransformer box that is\n",
       "clickable and can be expanded/collapsed.\n",
       "- Pipeline and ColumnTransformer use this feature and define the default style\n",
       "- Estimators will overwrite some part of the style using the `sk-estimator` class\n",
       "*/\n",
       "\n",
       "/* Pipeline and ColumnTransformer style (default) */\n",
       "\n",
       "#sk-container-id-67 div.sk-toggleable {\n",
       "  /* Default theme specific background. It is overwritten whether we have a\n",
       "  specific estimator or a Pipeline/ColumnTransformer */\n",
       "  background-color: var(--sklearn-color-background);\n",
       "}\n",
       "\n",
       "/* Toggleable label */\n",
       "#sk-container-id-67 label.sk-toggleable__label {\n",
       "  cursor: pointer;\n",
       "  display: flex;\n",
       "  width: 100%;\n",
       "  margin-bottom: 0;\n",
       "  padding: 0.5em;\n",
       "  box-sizing: border-box;\n",
       "  text-align: center;\n",
       "  align-items: start;\n",
       "  justify-content: space-between;\n",
       "  gap: 0.5em;\n",
       "}\n",
       "\n",
       "#sk-container-id-67 label.sk-toggleable__label .caption {\n",
       "  font-size: 0.6rem;\n",
       "  font-weight: lighter;\n",
       "  color: var(--sklearn-color-text-muted);\n",
       "}\n",
       "\n",
       "#sk-container-id-67 label.sk-toggleable__label-arrow:before {\n",
       "  /* Arrow on the left of the label */\n",
       "  content: \"▸\";\n",
       "  float: left;\n",
       "  margin-right: 0.25em;\n",
       "  color: var(--sklearn-color-icon);\n",
       "}\n",
       "\n",
       "#sk-container-id-67 label.sk-toggleable__label-arrow:hover:before {\n",
       "  color: var(--sklearn-color-text);\n",
       "}\n",
       "\n",
       "/* Toggleable content - dropdown */\n",
       "\n",
       "#sk-container-id-67 div.sk-toggleable__content {\n",
       "  max-height: 0;\n",
       "  max-width: 0;\n",
       "  overflow: hidden;\n",
       "  text-align: left;\n",
       "  /* unfitted */\n",
       "  background-color: var(--sklearn-color-unfitted-level-0);\n",
       "}\n",
       "\n",
       "#sk-container-id-67 div.sk-toggleable__content.fitted {\n",
       "  /* fitted */\n",
       "  background-color: var(--sklearn-color-fitted-level-0);\n",
       "}\n",
       "\n",
       "#sk-container-id-67 div.sk-toggleable__content pre {\n",
       "  margin: 0.2em;\n",
       "  border-radius: 0.25em;\n",
       "  color: var(--sklearn-color-text);\n",
       "  /* unfitted */\n",
       "  background-color: var(--sklearn-color-unfitted-level-0);\n",
       "}\n",
       "\n",
       "#sk-container-id-67 div.sk-toggleable__content.fitted pre {\n",
       "  /* unfitted */\n",
       "  background-color: var(--sklearn-color-fitted-level-0);\n",
       "}\n",
       "\n",
       "#sk-container-id-67 input.sk-toggleable__control:checked~div.sk-toggleable__content {\n",
       "  /* Expand drop-down */\n",
       "  max-height: 200px;\n",
       "  max-width: 100%;\n",
       "  overflow: auto;\n",
       "}\n",
       "\n",
       "#sk-container-id-67 input.sk-toggleable__control:checked~label.sk-toggleable__label-arrow:before {\n",
       "  content: \"▾\";\n",
       "}\n",
       "\n",
       "/* Pipeline/ColumnTransformer-specific style */\n",
       "\n",
       "#sk-container-id-67 div.sk-label input.sk-toggleable__control:checked~label.sk-toggleable__label {\n",
       "  color: var(--sklearn-color-text);\n",
       "  background-color: var(--sklearn-color-unfitted-level-2);\n",
       "}\n",
       "\n",
       "#sk-container-id-67 div.sk-label.fitted input.sk-toggleable__control:checked~label.sk-toggleable__label {\n",
       "  background-color: var(--sklearn-color-fitted-level-2);\n",
       "}\n",
       "\n",
       "/* Estimator-specific style */\n",
       "\n",
       "/* Colorize estimator box */\n",
       "#sk-container-id-67 div.sk-estimator input.sk-toggleable__control:checked~label.sk-toggleable__label {\n",
       "  /* unfitted */\n",
       "  background-color: var(--sklearn-color-unfitted-level-2);\n",
       "}\n",
       "\n",
       "#sk-container-id-67 div.sk-estimator.fitted input.sk-toggleable__control:checked~label.sk-toggleable__label {\n",
       "  /* fitted */\n",
       "  background-color: var(--sklearn-color-fitted-level-2);\n",
       "}\n",
       "\n",
       "#sk-container-id-67 div.sk-label label.sk-toggleable__label,\n",
       "#sk-container-id-67 div.sk-label label {\n",
       "  /* The background is the default theme color */\n",
       "  color: var(--sklearn-color-text-on-default-background);\n",
       "}\n",
       "\n",
       "/* On hover, darken the color of the background */\n",
       "#sk-container-id-67 div.sk-label:hover label.sk-toggleable__label {\n",
       "  color: var(--sklearn-color-text);\n",
       "  background-color: var(--sklearn-color-unfitted-level-2);\n",
       "}\n",
       "\n",
       "/* Label box, darken color on hover, fitted */\n",
       "#sk-container-id-67 div.sk-label.fitted:hover label.sk-toggleable__label.fitted {\n",
       "  color: var(--sklearn-color-text);\n",
       "  background-color: var(--sklearn-color-fitted-level-2);\n",
       "}\n",
       "\n",
       "/* Estimator label */\n",
       "\n",
       "#sk-container-id-67 div.sk-label label {\n",
       "  font-family: monospace;\n",
       "  font-weight: bold;\n",
       "  display: inline-block;\n",
       "  line-height: 1.2em;\n",
       "}\n",
       "\n",
       "#sk-container-id-67 div.sk-label-container {\n",
       "  text-align: center;\n",
       "}\n",
       "\n",
       "/* Estimator-specific */\n",
       "#sk-container-id-67 div.sk-estimator {\n",
       "  font-family: monospace;\n",
       "  border: 1px dotted var(--sklearn-color-border-box);\n",
       "  border-radius: 0.25em;\n",
       "  box-sizing: border-box;\n",
       "  margin-bottom: 0.5em;\n",
       "  /* unfitted */\n",
       "  background-color: var(--sklearn-color-unfitted-level-0);\n",
       "}\n",
       "\n",
       "#sk-container-id-67 div.sk-estimator.fitted {\n",
       "  /* fitted */\n",
       "  background-color: var(--sklearn-color-fitted-level-0);\n",
       "}\n",
       "\n",
       "/* on hover */\n",
       "#sk-container-id-67 div.sk-estimator:hover {\n",
       "  /* unfitted */\n",
       "  background-color: var(--sklearn-color-unfitted-level-2);\n",
       "}\n",
       "\n",
       "#sk-container-id-67 div.sk-estimator.fitted:hover {\n",
       "  /* fitted */\n",
       "  background-color: var(--sklearn-color-fitted-level-2);\n",
       "}\n",
       "\n",
       "/* Specification for estimator info (e.g. \"i\" and \"?\") */\n",
       "\n",
       "/* Common style for \"i\" and \"?\" */\n",
       "\n",
       ".sk-estimator-doc-link,\n",
       "a:link.sk-estimator-doc-link,\n",
       "a:visited.sk-estimator-doc-link {\n",
       "  float: right;\n",
       "  font-size: smaller;\n",
       "  line-height: 1em;\n",
       "  font-family: monospace;\n",
       "  background-color: var(--sklearn-color-background);\n",
       "  border-radius: 1em;\n",
       "  height: 1em;\n",
       "  width: 1em;\n",
       "  text-decoration: none !important;\n",
       "  margin-left: 0.5em;\n",
       "  text-align: center;\n",
       "  /* unfitted */\n",
       "  border: var(--sklearn-color-unfitted-level-1) 1pt solid;\n",
       "  color: var(--sklearn-color-unfitted-level-1);\n",
       "}\n",
       "\n",
       ".sk-estimator-doc-link.fitted,\n",
       "a:link.sk-estimator-doc-link.fitted,\n",
       "a:visited.sk-estimator-doc-link.fitted {\n",
       "  /* fitted */\n",
       "  border: var(--sklearn-color-fitted-level-1) 1pt solid;\n",
       "  color: var(--sklearn-color-fitted-level-1);\n",
       "}\n",
       "\n",
       "/* On hover */\n",
       "div.sk-estimator:hover .sk-estimator-doc-link:hover,\n",
       ".sk-estimator-doc-link:hover,\n",
       "div.sk-label-container:hover .sk-estimator-doc-link:hover,\n",
       ".sk-estimator-doc-link:hover {\n",
       "  /* unfitted */\n",
       "  background-color: var(--sklearn-color-unfitted-level-3);\n",
       "  color: var(--sklearn-color-background);\n",
       "  text-decoration: none;\n",
       "}\n",
       "\n",
       "div.sk-estimator.fitted:hover .sk-estimator-doc-link.fitted:hover,\n",
       ".sk-estimator-doc-link.fitted:hover,\n",
       "div.sk-label-container:hover .sk-estimator-doc-link.fitted:hover,\n",
       ".sk-estimator-doc-link.fitted:hover {\n",
       "  /* fitted */\n",
       "  background-color: var(--sklearn-color-fitted-level-3);\n",
       "  color: var(--sklearn-color-background);\n",
       "  text-decoration: none;\n",
       "}\n",
       "\n",
       "/* Span, style for the box shown on hovering the info icon */\n",
       ".sk-estimator-doc-link span {\n",
       "  display: none;\n",
       "  z-index: 9999;\n",
       "  position: relative;\n",
       "  font-weight: normal;\n",
       "  right: .2ex;\n",
       "  padding: .5ex;\n",
       "  margin: .5ex;\n",
       "  width: min-content;\n",
       "  min-width: 20ex;\n",
       "  max-width: 50ex;\n",
       "  color: var(--sklearn-color-text);\n",
       "  box-shadow: 2pt 2pt 4pt #999;\n",
       "  /* unfitted */\n",
       "  background: var(--sklearn-color-unfitted-level-0);\n",
       "  border: .5pt solid var(--sklearn-color-unfitted-level-3);\n",
       "}\n",
       "\n",
       ".sk-estimator-doc-link.fitted span {\n",
       "  /* fitted */\n",
       "  background: var(--sklearn-color-fitted-level-0);\n",
       "  border: var(--sklearn-color-fitted-level-3);\n",
       "}\n",
       "\n",
       ".sk-estimator-doc-link:hover span {\n",
       "  display: block;\n",
       "}\n",
       "\n",
       "/* \"?\"-specific style due to the `<a>` HTML tag */\n",
       "\n",
       "#sk-container-id-67 a.estimator_doc_link {\n",
       "  float: right;\n",
       "  font-size: 1rem;\n",
       "  line-height: 1em;\n",
       "  font-family: monospace;\n",
       "  background-color: var(--sklearn-color-background);\n",
       "  border-radius: 1rem;\n",
       "  height: 1rem;\n",
       "  width: 1rem;\n",
       "  text-decoration: none;\n",
       "  /* unfitted */\n",
       "  color: var(--sklearn-color-unfitted-level-1);\n",
       "  border: var(--sklearn-color-unfitted-level-1) 1pt solid;\n",
       "}\n",
       "\n",
       "#sk-container-id-67 a.estimator_doc_link.fitted {\n",
       "  /* fitted */\n",
       "  border: var(--sklearn-color-fitted-level-1) 1pt solid;\n",
       "  color: var(--sklearn-color-fitted-level-1);\n",
       "}\n",
       "\n",
       "/* On hover */\n",
       "#sk-container-id-67 a.estimator_doc_link:hover {\n",
       "  /* unfitted */\n",
       "  background-color: var(--sklearn-color-unfitted-level-3);\n",
       "  color: var(--sklearn-color-background);\n",
       "  text-decoration: none;\n",
       "}\n",
       "\n",
       "#sk-container-id-67 a.estimator_doc_link.fitted:hover {\n",
       "  /* fitted */\n",
       "  background-color: var(--sklearn-color-fitted-level-3);\n",
       "}\n",
       "</style><div id=\"sk-container-id-67\" class=\"sk-top-container\"><div class=\"sk-text-repr-fallback\"><pre>DecisionTreeClassifier(max_depth=5, random_state=16)</pre><b>In a Jupyter environment, please rerun this cell to show the HTML representation or trust the notebook. <br />On GitHub, the HTML representation is unable to render, please try loading this page with nbviewer.org.</b></div><div class=\"sk-container\" hidden><div class=\"sk-item\"><div class=\"sk-estimator fitted sk-toggleable\"><input class=\"sk-toggleable__control sk-hidden--visually\" id=\"sk-estimator-id-67\" type=\"checkbox\" checked><label for=\"sk-estimator-id-67\" class=\"sk-toggleable__label fitted sk-toggleable__label-arrow\"><div><div>DecisionTreeClassifier</div></div><div><a class=\"sk-estimator-doc-link fitted\" rel=\"noreferrer\" target=\"_blank\" href=\"https://scikit-learn.org/1.6/modules/generated/sklearn.tree.DecisionTreeClassifier.html\">?<span>Documentation for DecisionTreeClassifier</span></a><span class=\"sk-estimator-doc-link fitted\">i<span>Fitted</span></span></div></label><div class=\"sk-toggleable__content fitted\"><pre>DecisionTreeClassifier(max_depth=5, random_state=16)</pre></div> </div></div></div></div>"
      ],
      "text/plain": [
       "DecisionTreeClassifier(max_depth=5, random_state=16)"
      ]
     },
     "execution_count": 1442,
     "metadata": {},
     "output_type": "execute_result"
    }
   ],
   "source": [
    "from sklearn.tree import DecisionTreeClassifier\n",
    "\n",
    "tree = DecisionTreeClassifier(max_depth=5, random_state=16)\n",
    "tree.fit(X_train, y_train)"
   ]
  },
  {
   "cell_type": "markdown",
   "id": "ed054f53",
   "metadata": {},
   "source": [
    "> Entrenamos y evaluamos diferentes modelos de clasificación para predecir la cancelación de clientes."
   ]
  },
  {
   "cell_type": "code",
   "execution_count": 1443,
   "id": "11fa3414",
   "metadata": {},
   "outputs": [
    {
     "data": {
      "text/plain": [
       "0.7709417889256981"
      ]
     },
     "execution_count": 1443,
     "metadata": {},
     "output_type": "execute_result"
    }
   ],
   "source": [
    "tree.score(X_test, y_test)"
   ]
  },
  {
   "cell_type": "code",
   "execution_count": 1444,
   "id": "862a14db",
   "metadata": {},
   "outputs": [
    {
     "data": {
      "text/plain": [
       "{'RMSE': 0.4786, 'MAE': 0.2291, 'R2': -0.1967}"
      ]
     },
     "execution_count": 1444,
     "metadata": {},
     "output_type": "execute_result"
    }
   ],
   "source": [
    "y_pred_tree = tree.predict(X_test)\n",
    "tree_score = calcular_regresion(y_test, y_pred_tree)\n",
    "tree_score"
   ]
  },
  {
   "cell_type": "markdown",
   "id": "f787f0f7",
   "metadata": {},
   "source": [
    "### RandomForest Model"
   ]
  },
  {
   "cell_type": "code",
   "execution_count": 1445,
   "id": "0268e0e2",
   "metadata": {},
   "outputs": [
    {
     "data": {
      "text/plain": [
       "{'RMSE': 0.463, 'MAE': 0.2144, 'R2': -0.1201}"
      ]
     },
     "execution_count": 1445,
     "metadata": {},
     "output_type": "execute_result"
    }
   ],
   "source": [
    "from sklearn.ensemble import RandomForestClassifier\n",
    "\n",
    "forest = RandomForestClassifier(max_depth=5, random_state=16)\n",
    "forest.fit(X_train, y_train)\n",
    "y_pred_forest = forest.predict(X_test)\n",
    "\n",
    "forest_score = calcular_regresion(y_test, y_pred_forest)\n",
    "forest_score"
   ]
  },
  {
   "cell_type": "markdown",
   "id": "3770b17e",
   "metadata": {},
   "source": [
    "# Evaluando Modelos"
   ]
  },
  {
   "cell_type": "code",
   "execution_count": 1446,
   "id": "c86f3da0",
   "metadata": {},
   "outputs": [],
   "source": [
    "from sklearn.model_selection import train_test_split\n",
    "\n",
    "# Separando entrenamiento + validación de prueba\n",
    "X, X_test, y, y_test = train_test_split(\n",
    "    X, y, test_size=0.3, stratify=y, random_state=16\n",
    ")\n",
    "\n",
    "# Validacion, size default 25%\n",
    "X_train, X_val, y_train, y_val = train_test_split(\n",
    "    X, y, stratify=y, random_state=16\n",
    ")"
   ]
  },
  {
   "cell_type": "code",
   "execution_count": 1447,
   "id": "044ea571",
   "metadata": {},
   "outputs": [
    {
     "name": "stdout",
     "output_type": "stream",
     "text": [
      "La precisión del modelo es: 0.5743801652892562\n",
      "La sensibilidad (Recall) del modelo es: 0.5\n",
      "La exactitud (Accuracy) del modelo es: 0.7690839694656488\n",
      "El F1-score del modelo es: 0.5346153846153846\n"
     ]
    },
    {
     "data": {
      "image/png": "[encoded data removed]",
      "text/plain": [
       "<Figure size 640x480 with 2 Axes>"
      ]
     },
     "metadata": {},
     "output_type": "display_data"
    }
   ],
   "source": [
    "from sklearn.tree import DecisionTreeClassifier\n",
    "from sklearn.metrics import confusion_matrix, ConfusionMatrixDisplay\n",
    "\n",
    "# Tree Model\n",
    "X, X_test, y, y_test = train_test_split(\n",
    "    X, y, test_size=0.15, stratify=y, random_state=16\n",
    ")\n",
    "\n",
    "# validacion\n",
    "# ** test size por defecto es 0.25\n",
    "X_train, X_val, y_train, y_val = train_test_split(X, y, stratify=y, random_state=16)\n",
    "\n",
    "modelo = DecisionTreeClassifier(max_depth=5, random_state=16)\n",
    "modelo.fit(X_train, y_train)\n",
    "y_previsto = modelo.predict(X_val)\n",
    "\n",
    "matriz_confusion = confusion_matrix(y_val, y_previsto)\n",
    "\n",
    "print(f\"La precisión del modelo es: {precision_score(y_val, y_previsto)}\")\n",
    "print(f\"La sensibilidad (Recall) del modelo es: {recall_score(y_val, y_previsto)}\")\n",
    "print(f\"La exactitud (Accuracy) del modelo es: {accuracy_score(y_val, y_previsto)}\")\n",
    "print(f\"El F1-score del modelo es: {f1_score(y_val, y_previsto)}\")\n",
    "\n",
    "visualizacion = ConfusionMatrixDisplay(\n",
    "    matriz_confusion, display_labels=[\"No Churn\", \"Churn\"]\n",
    ")\n",
    "\n",
    "visualizacion.plot();"
   ]
  },
  {
   "cell_type": "code",
   "execution_count": 1448,
   "id": "d939c895",
   "metadata": {},
   "outputs": [
    {
     "name": "stdout",
     "output_type": "stream",
     "text": [
      "La precisión del modelo es: 0.6057142857142858\n",
      "La sensibilidad (Recall) del modelo es: 0.4491525423728814\n",
      "La exactitud (Accuracy) del modelo es: 0.77665544332211\n",
      "El F1-score del modelo es: 0.5158150851581509\n"
     ]
    },
    {
     "data": {
      "text/plain": [
       "<sklearn.metrics._plot.confusion_matrix.ConfusionMatrixDisplay at 0x30224ee50>"
      ]
     },
     "execution_count": 1448,
     "metadata": {},
     "output_type": "execute_result"
    },
    {
     "data": {
      "image/png": "[encoded data removed]",
      "text/plain": [
       "<Figure size 640x480 with 2 Axes>"
      ]
     },
     "metadata": {},
     "output_type": "display_data"
    }
   ],
   "source": [
    "from sklearn.ensemble import RandomForestClassifier\n",
    "\n",
    "# FOREST Model\n",
    "X, X_test, y, y_test = train_test_split(\n",
    "    X, y, test_size=0.15, stratify=y, random_state=16\n",
    ")\n",
    "\n",
    "# validacion\n",
    "# ** test size por defecto es 0.25\n",
    "X_train, X_val, y_train, y_val = train_test_split(X, y, stratify=y, random_state=16)\n",
    "\n",
    "modelo = RandomForestClassifier(max_depth=5, random_state=16)\n",
    "modelo.fit(X_train, y_train)\n",
    "y_previsto = modelo.predict(X_val)\n",
    "\n",
    "matriz_confusion = confusion_matrix(y_val, y_previsto)\n",
    "\n",
    "print(f\"La precisión del modelo es: {precision_score(y_val, y_previsto)}\")\n",
    "print(f\"La sensibilidad (Recall) del modelo es: {recall_score(y_val, y_previsto)}\")\n",
    "print(f\"La exactitud (Accuracy) del modelo es: {accuracy_score(y_val, y_previsto)}\")\n",
    "print(f\"El F1-score del modelo es: {f1_score(y_val, y_previsto)}\")\n",
    "\n",
    "visualizacion = ConfusionMatrixDisplay(matriz_confusion, display_labels=['No Churn', 'Churn'])\n",
    "visualizacion.plot()"
   ]
  },
  {
   "cell_type": "markdown",
   "id": "4f398354",
   "metadata": {},
   "source": [
    "#### Resultados modelo Árbol de decisiones\n",
    "- La precisión del modelo es: 0.5743801652892562\n",
    "- La sensibilidad (Recall) del modelo es: 0.5\n",
    "- La exactitud (Accuracy) del modelo es: 0.7690839694656488\n",
    "- El F1-score del modelo es: 0.5346153846153846\n",
    "\n",
    "#### Resultado modelo Random Forest\n",
    "- La precisión del modelo es: 0.6057142857142858\n",
    "- La sensibilidad (Recall) del modelo es: 0.4491525423728814\n",
    "- La exactitud (Accuracy) del modelo es: 0.77665544332211\n",
    "- El F1-score del modelo es: 0.5158150851581509\n",
    "\n",
    "El desempeño de ambos modelo pareciera no ser muy distinto. Random Forest tiene mejores resultados con las métricas de precisión y exactitud, mientras que el árbol de decisiones lo supera en las restantes sensibilidad y F1.\n",
    "\n",
    "Es importante notar que para evaluar estos modelos se usó la clase Churn desbalanceada, por lo que será mejor evaluarlos teniendo esto en cuenta.\n",
    "\n",
    "Bajo este criterio, quizás sea práctico utilizar la métrica F1-score, que proporciona un equilibrio entre recall y precisión para casos en que las clases de la variable objetivo están desbalanceadas."
   ]
  },
  {
   "cell_type": "markdown",
   "id": "eecb4f78",
   "metadata": {},
   "source": [
    "# Validación cruzada: comprobando overfitting o underfitting"
   ]
  },
  {
   "cell_type": "code",
   "execution_count": 1449,
   "id": "cf35b7e3",
   "metadata": {},
   "outputs": [
    {
     "data": {
      "text/plain": [
       "{'fit_time': array([0.07028913, 0.07086515, 0.07023883, 0.07324386, 0.07388401]),\n",
       " 'score_time': array([0.00504494, 0.00455713, 0.00499582, 0.00511003, 0.0050571 ]),\n",
       " 'test_score': array([0.75736325, 0.78511236, 0.78370787, 0.76685393, 0.78089888])}"
      ]
     },
     "execution_count": 1449,
     "metadata": {},
     "output_type": "execute_result"
    }
   ],
   "source": [
    "from sklearn.model_selection import KFold, cross_validate\n",
    "\n",
    "kf = KFold(n_splits=5, shuffle=True, random_state=16)\n",
    "\n",
    "cv_resultados_tree = cross_validate(tree, X, y, cv=kf)\n",
    "\n",
    "cv_resultados_forest = cross_validate(forest, X, y, cv=kf)\n",
    "cv_resultados_forest"
   ]
  },
  {
   "cell_type": "code",
   "execution_count": 1450,
   "id": "3495c708",
   "metadata": {},
   "outputs": [],
   "source": [
    "def show_cv_metrics(test_score):\n",
    "    promedio = test_score.mean()\n",
    "    desvio_std = test_score.std()\n",
    "\n",
    "    return f\"El intervalo de confianza es: [{promedio - 2*desvio_std}, {min(promedio+2*desvio_std,1)}]\""
   ]
  },
  {
   "cell_type": "markdown",
   "id": "3ba76f84",
   "metadata": {},
   "source": [
    "### Resultados Decision Tree Desbalanceado"
   ]
  },
  {
   "cell_type": "code",
   "execution_count": 1451,
   "id": "0a8d91bd",
   "metadata": {},
   "outputs": [
    {
     "name": "stdout",
     "output_type": "stream",
     "text": [
      "Puntaje: accuracy\n",
      "El intervalo de confianza es: [0.7425668468519457, 0.7929674519645757]\n",
      "Puntaje: recall\n",
      "El intervalo de confianza es: [0.4853637635669126, 0.565970301371685]\n",
      "Puntaje: precision\n",
      "El intervalo de confianza es: [0.5039094546989125, 0.6285179075417777]\n",
      "Puntaje: f1\n",
      "El intervalo de confianza es: [0.4989520264353487, 0.590950257097617]\n"
     ]
    }
   ],
   "source": [
    "metricas = [\"accuracy\", \"recall\", \"precision\", \"f1\"]\n",
    "# Puntaje TREE DESBALANCEADO\n",
    "for metrica in metricas:\n",
    "    print(f\"Puntaje: {metrica}\")\n",
    "    cv_resultados = cross_validate(tree, X, y, cv=kf, scoring=metrica)\n",
    "    print(show_cv_metrics(cv_resultados[\"test_score\"]))"
   ]
  },
  {
   "cell_type": "markdown",
   "id": "3be6f6a8",
   "metadata": {},
   "source": [
    "### Resultados Random Forest Desbalanceado"
   ]
  },
  {
   "cell_type": "code",
   "execution_count": 1452,
   "id": "0580088b",
   "metadata": {},
   "outputs": [
    {
     "name": "stdout",
     "output_type": "stream",
     "text": [
      "Puntaje: accuracy\n",
      "El intervalo de confianza es: [0.7530604002835117, 0.7965141147424113]\n",
      "Puntaje: recall\n",
      "El intervalo de confianza es: [0.35484701577747574, 0.5708104812703965]\n",
      "Puntaje: precision\n",
      "El intervalo de confianza es: [0.5077887883593006, 0.6944675865489511]\n",
      "Puntaje: f1\n",
      "El intervalo de confianza es: [0.4596974254301789, 0.5789119736728585]\n"
     ]
    }
   ],
   "source": [
    "# Puntaje FOREST DESBALANCEADO\n",
    "for metrica in metricas:\n",
    "    print(f\"Puntaje: {metrica}\")\n",
    "    cv_resultados = cross_validate(forest, X, y, cv=kf, scoring=metrica)\n",
    "    print(show_cv_metrics(cv_resultados[\"test_score\"]))"
   ]
  },
  {
   "cell_type": "code",
   "execution_count": 1453,
   "id": "1a1e49d0",
   "metadata": {},
   "outputs": [],
   "source": [
    "from sklearn.model_selection import StratifiedKFold"
   ]
  },
  {
   "cell_type": "code",
   "execution_count": 1454,
   "id": "4972b22f",
   "metadata": {},
   "outputs": [
    {
     "data": {
      "text/plain": [
       "'El intervalo de confianza es: [0.33992659885218135, 0.5277982688726863]'"
      ]
     },
     "execution_count": 1454,
     "metadata": {},
     "output_type": "execute_result"
    }
   ],
   "source": [
    "skf = StratifiedKFold(n_splits=5, shuffle=True, random_state=16)\n",
    "cv_resultados_forest = cross_validate(forest, X, y, cv=skf, scoring=\"recall\")\n",
    "\n",
    "show_cv_metrics(cv_resultados_forest[\"test_score\"])"
   ]
  },
  {
   "cell_type": "markdown",
   "id": "318f3d14",
   "metadata": {},
   "source": [
    "# Balanceando clases con oversampling"
   ]
  },
  {
   "cell_type": "code",
   "execution_count": 1455,
   "id": "123646c6",
   "metadata": {},
   "outputs": [],
   "source": [
    "from imblearn.over_sampling import SMOTE\n",
    "\n",
    "oversampling = SMOTE()\n",
    "\n",
    "x_bal, y_bal = oversampling.fit_resample(X, y)"
   ]
  },
  {
   "cell_type": "markdown",
   "id": "f443150e",
   "metadata": {},
   "source": [
    "> Aplicamos técnicas de oversampling (SMOTE) para balancear las clases y mejorar la capacidad predictiva en la clase minoritaria."
   ]
  },
  {
   "cell_type": "code",
   "execution_count": 1456,
   "id": "bd8ab936",
   "metadata": {},
   "outputs": [
    {
     "data": {
      "text/plain": [
       "'El intervalo de confianza es: [0.7825378842792309, 0.8283169899782094]'"
      ]
     },
     "execution_count": 1456,
     "metadata": {},
     "output_type": "execute_result"
    }
   ],
   "source": [
    "tree_bal = DecisionTreeClassifier(max_depth=5, random_state=16)\n",
    "cv_resultados_tree_bal = cross_validate(tree_bal, x_bal, y_bal, cv=skf, scoring='recall')\n",
    "show_cv_metrics(cv_resultados_tree_bal['test_score'])"
   ]
  },
  {
   "cell_type": "code",
   "execution_count": 1457,
   "id": "837d0796",
   "metadata": {},
   "outputs": [
    {
     "data": {
      "text/plain": [
       "'El intervalo de confianza es: [0.7750130194050677, 0.826671332469759]'"
      ]
     },
     "execution_count": 1457,
     "metadata": {},
     "output_type": "execute_result"
    }
   ],
   "source": [
    "forest_bal = RandomForestClassifier(max_depth=5, random_state=16)\n",
    "cv_resultados_forest_bal = cross_validate(\n",
    "    forest_bal, x_bal, y_bal, cv=skf, scoring=\"recall\"\n",
    ")\n",
    "show_cv_metrics(cv_resultados_forest_bal[\"test_score\"])"
   ]
  },
  {
   "cell_type": "markdown",
   "id": "bfab1979",
   "metadata": {},
   "source": [
    "### Resultados Decision Tree"
   ]
  },
  {
   "cell_type": "code",
   "execution_count": 1458,
   "id": "097448d6",
   "metadata": {},
   "outputs": [
    {
     "name": "stdout",
     "output_type": "stream",
     "text": [
      "Puntaje: accuracy\n",
      "El intervalo de confianza es: [0.7306591985070693, 0.7857827525467472]\n",
      "Puntaje: recall\n",
      "El intervalo de confianza es: [0.7825378842792309, 0.8283169899782094]\n",
      "Puntaje: precision\n",
      "El intervalo de confianza es: [0.7026022585768537, 0.7700153199689619]\n",
      "Puntaje: f1\n",
      "El intervalo de confianza es: [0.7466804228870277, 0.7917114444993948]\n"
     ]
    }
   ],
   "source": [
    "# RESULTADO TREE BALANCEADO\n",
    "for metrica in metricas:\n",
    "    print(f\"Puntaje: {metrica}\")\n",
    "    cv_resultados = cross_validate(tree_bal, x_bal, y_bal, cv=skf, scoring=metrica)\n",
    "    print(show_cv_metrics(cv_resultados[\"test_score\"]))"
   ]
  },
  {
   "cell_type": "markdown",
   "id": "4fa94c6d",
   "metadata": {},
   "source": [
    "### Resultados Random Forest"
   ]
  },
  {
   "cell_type": "code",
   "execution_count": 1459,
   "id": "dfe4bbd7",
   "metadata": {},
   "outputs": [
    {
     "name": "stdout",
     "output_type": "stream",
     "text": [
      "Puntaje: accuracy\n",
      "El intervalo de confianza es: [0.7332536549587346, 0.785862238397682]\n",
      "Puntaje: recall\n",
      "El intervalo de confianza es: [0.7750130194050677, 0.826671332469759]\n",
      "Puntaje: precision\n",
      "El intervalo de confianza es: [0.7045916856085375, 0.7759199462708162]\n",
      "Puntaje: f1\n",
      "El intervalo de confianza es: [0.7484515398329996, 0.7898842760244764]\n"
     ]
    }
   ],
   "source": [
    "# RESULTADO FOREST BALANCEADO\n",
    "for metrica in metricas:\n",
    "    print(f\"Puntaje: {metrica}\")\n",
    "    cv_resultados = cross_validate(forest_bal, x_bal, y_bal, cv=skf, scoring=metrica)\n",
    "    print(show_cv_metrics(cv_resultados[\"test_score\"]))"
   ]
  },
  {
   "cell_type": "code",
   "execution_count": 1460,
   "id": "c95714ab",
   "metadata": {},
   "outputs": [
    {
     "data": {
      "image/png": "[encoded data removed]",
      "text/plain": [
       "<Figure size 640x480 with 2 Axes>"
      ]
     },
     "metadata": {},
     "output_type": "display_data"
    },
    {
     "data": {
      "image/png": "[encoded data removed]",
      "text/plain": [
       "<Figure size 600x400 with 1 Axes>"
      ]
     },
     "metadata": {},
     "output_type": "display_data"
    }
   ],
   "source": [
    "# Matriz de confusión y curva ROC/AUC para el modelo Random Forest balanceado\n",
    "from sklearn.metrics import confusion_matrix, ConfusionMatrixDisplay, roc_curve, auc\n",
    "import matplotlib.pyplot as plt\n",
    "import numpy as np\n",
    "\n",
    "# Predicción en validación cruzada (usando el último fold como ejemplo)\n",
    "from sklearn.model_selection import StratifiedKFold\n",
    "skf = StratifiedKFold(n_splits=5, shuffle=True, random_state=16)\n",
    "for train_idx, test_idx in skf.split(x_bal, y_bal):\n",
    "    X_train_fold, X_test_fold = x_bal.iloc[train_idx], x_bal.iloc[test_idx]\n",
    "    y_train_fold, y_test_fold = y_bal.iloc[train_idx], y_bal.iloc[test_idx]\n",
    "    modelo = RandomForestClassifier(max_depth=5, random_state=16)\n",
    "    modelo.fit(X_train_fold, y_train_fold)\n",
    "    y_pred_fold = modelo.predict(X_test_fold)\n",
    "    y_proba_fold = modelo.predict_proba(X_test_fold)[:,1]\n",
    "    break  # Solo el primer fold para visualización\n",
    "# Matriz de confusión\n",
    "cm = confusion_matrix(y_test_fold, y_pred_fold)\n",
    "disp = ConfusionMatrixDisplay(confusion_matrix=cm, display_labels=['No Churn', 'Churn'])\n",
    "disp.plot()\n",
    "plt.title('Matriz de confusión (Random Forest balanceado)')\n",
    "plt.show()\n",
    "\n",
    "# Curva ROC/AUC\n",
    "fpr, tpr, thresholds = roc_curve(y_test_fold, y_proba_fold)\n",
    "roc_auc = auc(fpr, tpr)\n",
    "plt.figure(figsize=(6,4))\n",
    "plt.plot(fpr, tpr, label=f'AUC = {roc_auc:.2f}')\n",
    "plt.plot([0,1],[0,1],'k--')\n",
    "plt.xlabel('Tasa de Falsos Positivos')\n",
    "plt.ylabel('Tasa de Verdaderos Positivos')\n",
    "plt.title('Curva ROC - Random Forest balanceado')\n",
    "plt.legend()\n",
    "plt.show()"
   ]
  },
  {
   "cell_type": "markdown",
   "id": "1962afa7",
   "metadata": {},
   "source": [
    "### Comparando los resultados:\n",
    "\n",
    "#### Clase Desbalanceada\n",
    "\n",
    "| Modelo              | Accuracy        | Recall          | Precision       | F1-Score        |\n",
    "|:-------------------:|:--------------:|:---------------:|:---------------:|:---------------:|\n",
    "| Decision Tree       | 0.74 - 0.79    | 0.48 - 0.56     | 0.50 - 0.62     | 0.49 - 0.59     |\n",
    "| Random Forest       | 0.75 - 0.79    | 0.35 - 0.57     | 0.50 - 0.69     | 0.50 - 0.69     |\n",
    "\n",
    "#### Clase Balanceada\n",
    "\n",
    "| Modelo              | Accuracy        | Recall          | Precision       | F1-Score        |\n",
    "|:-------------------:|:--------------:|:---------------:|:---------------:|:---------------:|\n",
    "| Decision Tree       | 0.73 - 0.78    | 0.78 - 0.82     | 0.70 - 0.77     | 0.74 - 0.79     |\n",
    "| Random Forest       | 0.73 - 0.78    | 0.77 - 0.82     | 0.70 - 0.77     | 0.74 - 0.78     |\n",
    "\n",
    "*Los valores corresponden al intervalo de confianza de las métricas obtenidas en validación cruzada (ver celdas de resultados para detalles).*\n"
   ]
  },
  {
   "cell_type": "markdown",
   "id": "13c33111",
   "metadata": {},
   "source": [
    "### Validando con Pipeline"
   ]
  },
  {
   "cell_type": "code",
   "execution_count": 1461,
   "id": "c1731c87",
   "metadata": {},
   "outputs": [
    {
     "name": "stdout",
     "output_type": "stream",
     "text": [
      "Puntaje: accuracy\n",
      "El intervalo de confianza es: [0.7677302672721357, 0.8195713200294518]\n",
      "Puntaje: recall\n",
      "El intervalo de confianza es: [0.7560879222617638, 0.8417956756218341]\n",
      "Puntaje: precision\n",
      "El intervalo de confianza es: [0.7634961337369905, 0.832271062030205]\n",
      "Puntaje: f1\n",
      "El intervalo de confianza es: [0.7642664577212165, 0.8188023253475664]\n"
     ]
    }
   ],
   "source": [
    "from imblearn.pipeline import Pipeline as imbpipeline\n",
    "\n",
    "pipeline = imbpipeline([(\"oversample\", SMOTE()), (\"arbol\", tree)])\n",
    "cv_resultados = cross_validate(pipeline, X, y, cv=skf, scoring=\"recall\")\n",
    "\n",
    "for metrica in metricas:\n",
    "    print(f\"Puntaje: {metrica}\")\n",
    "    cv_resultados = cross_validate(pipeline, X, y, cv=skf, scoring=\"recall\")\n",
    "    print(show_cv_metrics(cv_resultados[\"test_score\"]))"
   ]
  },
  {
   "cell_type": "code",
   "execution_count": 1462,
   "id": "227f2fdb",
   "metadata": {},
   "outputs": [
    {
     "name": "stdout",
     "output_type": "stream",
     "text": [
      "Puntaje: accuracy\n",
      "El intervalo de confianza es: [0.7425408641701378, 0.8278295062002327]\n",
      "Puntaje: recall\n",
      "El intervalo de confianza es: [0.7425408641701378, 0.8278295062002324]\n",
      "Puntaje: precision\n",
      "El intervalo de confianza es: [0.7372451348030042, 0.8352416376837681]\n",
      "Puntaje: f1\n",
      "El intervalo de confianza es: [0.7571482566901251, 0.808989309447441]\n"
     ]
    }
   ],
   "source": [
    "pipeline = imbpipeline([(\"oversample\", SMOTE()), (\"arbol\", forest)])\n",
    "cv_resultados = cross_validate(pipeline, X, y, cv=skf, scoring=\"recall\")\n",
    "\n",
    "for metrica in metricas:\n",
    "    print(f\"Puntaje: {metrica}\")\n",
    "    cv_resultados = cross_validate(pipeline, X, y, cv=skf, scoring=\"recall\")\n",
    "    print(show_cv_metrics(cv_resultados[\"test_score\"]))"
   ]
  },
  {
   "cell_type": "markdown",
   "id": "7cea2bd3",
   "metadata": {},
   "source": [
    "# Importancia de las variables"
   ]
  },
  {
   "cell_type": "markdown",
   "id": "4901476d",
   "metadata": {},
   "source": [
    "> Analizamos la importancia de las variables para identificar los factores que más influyen en la cancelación de clientes."
   ]
  },
  {
   "cell_type": "code",
   "execution_count": 1463,
   "id": "c76b17c9",
   "metadata": {},
   "outputs": [
    {
     "data": {
      "text/html": [
       "<div>\n",
       "<style scoped>\n",
       "    .dataframe tbody tr th:only-of-type {\n",
       "        vertical-align: middle;\n",
       "    }\n",
       "\n",
       "    .dataframe tbody tr th {\n",
       "        vertical-align: top;\n",
       "    }\n",
       "\n",
       "    .dataframe thead th {\n",
       "        text-align: right;\n",
       "    }\n",
       "</style>\n",
       "<table border=\"1\" class=\"dataframe\">\n",
       "  <thead>\n",
       "    <tr style=\"text-align: right;\">\n",
       "      <th></th>\n",
       "      <th>Features</th>\n",
       "      <th>Importances</th>\n",
       "    </tr>\n",
       "  </thead>\n",
       "  <tbody>\n",
       "    <tr>\n",
       "      <th>0</th>\n",
       "      <td>Contract_Month-to-month</td>\n",
       "      <td>32.38</td>\n",
       "    </tr>\n",
       "    <tr>\n",
       "      <th>2</th>\n",
       "      <td>TechSupport_No</td>\n",
       "      <td>21.22</td>\n",
       "    </tr>\n",
       "    <tr>\n",
       "      <th>1</th>\n",
       "      <td>OnlineSecurity_No</td>\n",
       "      <td>18.16</td>\n",
       "    </tr>\n",
       "    <tr>\n",
       "      <th>3</th>\n",
       "      <td>InternetService_Fiber optic</td>\n",
       "      <td>11.29</td>\n",
       "    </tr>\n",
       "    <tr>\n",
       "      <th>4</th>\n",
       "      <td>PaymentMethod_Electronic check</td>\n",
       "      <td>9.59</td>\n",
       "    </tr>\n",
       "    <tr>\n",
       "      <th>5</th>\n",
       "      <td>OnlineBackup_No</td>\n",
       "      <td>5.04</td>\n",
       "    </tr>\n",
       "    <tr>\n",
       "      <th>6</th>\n",
       "      <td>DeviceProtection_No</td>\n",
       "      <td>2.32</td>\n",
       "    </tr>\n",
       "  </tbody>\n",
       "</table>\n",
       "</div>"
      ],
      "text/plain": [
       "                         Features  Importances\n",
       "0         Contract_Month-to-month        32.38\n",
       "2                  TechSupport_No        21.22\n",
       "1               OnlineSecurity_No        18.16\n",
       "3     InternetService_Fiber optic        11.29\n",
       "4  PaymentMethod_Electronic check         9.59\n",
       "5                 OnlineBackup_No         5.04\n",
       "6             DeviceProtection_No         2.32"
      ]
     },
     "execution_count": 1463,
     "metadata": {},
     "output_type": "execute_result"
    }
   ],
   "source": [
    "importances = forest.feature_importances_\n",
    "\n",
    "feature_importances = pd.DataFrame(\n",
    "    {\"Features\": X.columns, \"Importances\": (importances * 100).round(2)}\n",
    ").sort_values(\"Importances\", ascending=False)\n",
    "feature_importances"
   ]
  },
  {
   "cell_type": "code",
   "execution_count": 1464,
   "id": "386e79ab",
   "metadata": {},
   "outputs": [
    {
     "data": {
      "image/png": "[encoded data removed]",
      "text/plain": [
       "<Figure size 800x500 with 1 Axes>"
      ]
     },
     "metadata": {},
     "output_type": "display_data"
    }
   ],
   "source": [
    "# Visualización de la importancia de variables (barplot)\n",
    "import matplotlib.pyplot as plt\n",
    "plt.figure(figsize=(8,5))\n",
    "plt.barh(feature_importances['Features'], feature_importances['Importances'])\n",
    "plt.xlabel('Importancia (%)')\n",
    "plt.title('Importancia de las variables (Random Forest)')\n",
    "plt.gca().invert_yaxis()\n",
    "plt.show()"
   ]
  },
  {
   "cell_type": "code",
   "execution_count": 1465,
   "id": "a1155d61",
   "metadata": {},
   "outputs": [
    {
     "data": {
      "text/html": [
       "<div>\n",
       "<style scoped>\n",
       "    .dataframe tbody tr th:only-of-type {\n",
       "        vertical-align: middle;\n",
       "    }\n",
       "\n",
       "    .dataframe tbody tr th {\n",
       "        vertical-align: top;\n",
       "    }\n",
       "\n",
       "    .dataframe thead th {\n",
       "        text-align: right;\n",
       "    }\n",
       "</style>\n",
       "<table border=\"1\" class=\"dataframe\">\n",
       "  <thead>\n",
       "    <tr style=\"text-align: right;\">\n",
       "      <th></th>\n",
       "      <th>1</th>\n",
       "      <th>5</th>\n",
       "      <th>10</th>\n",
       "      <th>15</th>\n",
       "      <th>20</th>\n",
       "      <th>25</th>\n",
       "      <th>30</th>\n",
       "    </tr>\n",
       "  </thead>\n",
       "  <tbody>\n",
       "    <tr>\n",
       "      <th>RMSE</th>\n",
       "      <td>0.4153</td>\n",
       "      <td>0.3912</td>\n",
       "      <td>0.3910</td>\n",
       "      <td>0.3910</td>\n",
       "      <td>0.3910</td>\n",
       "      <td>0.3910</td>\n",
       "      <td>0.3910</td>\n",
       "    </tr>\n",
       "    <tr>\n",
       "      <th>MAE</th>\n",
       "      <td>0.3377</td>\n",
       "      <td>0.3029</td>\n",
       "      <td>0.3019</td>\n",
       "      <td>0.3019</td>\n",
       "      <td>0.3019</td>\n",
       "      <td>0.3019</td>\n",
       "      <td>0.3019</td>\n",
       "    </tr>\n",
       "    <tr>\n",
       "      <th>R2</th>\n",
       "      <td>0.1156</td>\n",
       "      <td>0.2154</td>\n",
       "      <td>0.2160</td>\n",
       "      <td>0.2160</td>\n",
       "      <td>0.2160</td>\n",
       "      <td>0.2160</td>\n",
       "      <td>0.2160</td>\n",
       "    </tr>\n",
       "  </tbody>\n",
       "</table>\n",
       "</div>"
      ],
      "text/plain": [
       "          1       5       10      15      20      25      30\n",
       "RMSE  0.4153  0.3912  0.3910  0.3910  0.3910  0.3910  0.3910\n",
       "MAE   0.3377  0.3029  0.3019  0.3019  0.3019  0.3019  0.3019\n",
       "R2    0.1156  0.2154  0.2160  0.2160  0.2160  0.2160  0.2160"
      ]
     },
     "execution_count": 1465,
     "metadata": {},
     "output_type": "execute_result"
    }
   ],
   "source": [
    "from sklearn.ensemble import RandomForestRegressor\n",
    "\n",
    "resultados = pd.DataFrame(index=[\"RMSE\", \"MAE\", \"R2\"])\n",
    "model_features = RandomForestRegressor(max_depth=5, random_state=16)\n",
    "\n",
    "ct_features = [i if i != 0 else 1 for i in range(0, 35, 5)]\n",
    "for i in ct_features:\n",
    "    selected_features = feature_importances[\"Features\"].values[:i]\n",
    "    X_train_sel = X_train[selected_features]\n",
    "    X_test_sel = X_test[selected_features]\n",
    "    model_features.fit(X_train_sel, y_train)\n",
    "    y_pred = model_features.predict(X_test_sel)\n",
    "\n",
    "    metricas = calcular_regresion(y_test, y_pred)\n",
    "\n",
    "    resultados[i] = list(metricas.values())\n",
    "\n",
    "resultados"
   ]
  },
  {
   "cell_type": "markdown",
   "id": "f3fe67d4",
   "metadata": {},
   "source": [
    "Se puede ver que luego de las 10 features los resultados dejan de cambiar, se podría concluir que no vale la pena utilizar más que esa cantidad.\n",
    "\n",
    "Se puede profundizar un poco más para encontrar el punto ideal:"
   ]
  },
  {
   "cell_type": "code",
   "execution_count": 1466,
   "id": "38e45784",
   "metadata": {},
   "outputs": [
    {
     "data": {
      "text/html": [
       "<div>\n",
       "<style scoped>\n",
       "    .dataframe tbody tr th:only-of-type {\n",
       "        vertical-align: middle;\n",
       "    }\n",
       "\n",
       "    .dataframe tbody tr th {\n",
       "        vertical-align: top;\n",
       "    }\n",
       "\n",
       "    .dataframe thead th {\n",
       "        text-align: right;\n",
       "    }\n",
       "</style>\n",
       "<table border=\"1\" class=\"dataframe\">\n",
       "  <thead>\n",
       "    <tr style=\"text-align: right;\">\n",
       "      <th></th>\n",
       "      <th>5</th>\n",
       "      <th>6</th>\n",
       "      <th>7</th>\n",
       "      <th>8</th>\n",
       "      <th>9</th>\n",
       "      <th>10</th>\n",
       "    </tr>\n",
       "  </thead>\n",
       "  <tbody>\n",
       "    <tr>\n",
       "      <th>RMSE</th>\n",
       "      <td>0.3912</td>\n",
       "      <td>0.3911</td>\n",
       "      <td>0.3910</td>\n",
       "      <td>0.3910</td>\n",
       "      <td>0.3910</td>\n",
       "      <td>0.3910</td>\n",
       "    </tr>\n",
       "    <tr>\n",
       "      <th>MAE</th>\n",
       "      <td>0.3029</td>\n",
       "      <td>0.3021</td>\n",
       "      <td>0.3019</td>\n",
       "      <td>0.3019</td>\n",
       "      <td>0.3019</td>\n",
       "      <td>0.3019</td>\n",
       "    </tr>\n",
       "    <tr>\n",
       "      <th>R2</th>\n",
       "      <td>0.2154</td>\n",
       "      <td>0.2156</td>\n",
       "      <td>0.2160</td>\n",
       "      <td>0.2160</td>\n",
       "      <td>0.2160</td>\n",
       "      <td>0.2160</td>\n",
       "    </tr>\n",
       "  </tbody>\n",
       "</table>\n",
       "</div>"
      ],
      "text/plain": [
       "          5       6       7       8       9       10\n",
       "RMSE  0.3912  0.3911  0.3910  0.3910  0.3910  0.3910\n",
       "MAE   0.3029  0.3021  0.3019  0.3019  0.3019  0.3019\n",
       "R2    0.2154  0.2156  0.2160  0.2160  0.2160  0.2160"
      ]
     },
     "execution_count": 1466,
     "metadata": {},
     "output_type": "execute_result"
    }
   ],
   "source": [
    "resultados = pd.DataFrame(index=[\"RMSE\", \"MAE\", \"R2\"])\n",
    "model_features = RandomForestRegressor(max_depth=5, random_state=16)\n",
    "\n",
    "ct_features = range(5, 11)\n",
    "\n",
    "for i in ct_features:\n",
    "    selected_features = feature_importances[\"Features\"].values[:i]\n",
    "    X_train_sel = X_train[selected_features]\n",
    "    X_test_sel = X_test[selected_features]\n",
    "    model_features.fit(X_train_sel, y_train)\n",
    "    y_pred = model_features.predict(X_test_sel)\n",
    "\n",
    "    metricas = calcular_regresion(y_test, y_pred)\n",
    "\n",
    "    resultados[i] = list(metricas.values())\n",
    "\n",
    "resultados"
   ]
  },
  {
   "cell_type": "markdown",
   "id": "ca11f273",
   "metadata": {},
   "source": [
    "- RMSE: hay una mejora yendo de 5 a 7 features, estancándose en esta última cantidad.\n",
    "- MAE: también se estanca en 7 features\n",
    "- R2: Mismo comportamiento, se estanca en 7 features\n",
    "\n",
    "Podría concluir que la cantidad ideal de features sería de 7 (ordenadas de mayor a menor importancia)."
   ]
  },
  {
   "cell_type": "markdown",
   "id": "f3f3abee",
   "metadata": {},
   "source": [
    "# Conjunto de datos optimizado"
   ]
  },
  {
   "cell_type": "code",
   "execution_count": 1467,
   "id": "9571f834",
   "metadata": {},
   "outputs": [
    {
     "data": {
      "text/html": [
       "<div>\n",
       "<style scoped>\n",
       "    .dataframe tbody tr th:only-of-type {\n",
       "        vertical-align: middle;\n",
       "    }\n",
       "\n",
       "    .dataframe tbody tr th {\n",
       "        vertical-align: top;\n",
       "    }\n",
       "\n",
       "    .dataframe thead th {\n",
       "        text-align: right;\n",
       "    }\n",
       "</style>\n",
       "<table border=\"1\" class=\"dataframe\">\n",
       "  <thead>\n",
       "    <tr style=\"text-align: right;\">\n",
       "      <th></th>\n",
       "      <th>Contract_Month-to-month</th>\n",
       "      <th>TechSupport_No</th>\n",
       "      <th>OnlineSecurity_No</th>\n",
       "      <th>InternetService_Fiber optic</th>\n",
       "      <th>PaymentMethod_Electronic check</th>\n",
       "      <th>OnlineBackup_No</th>\n",
       "      <th>DeviceProtection_No</th>\n",
       "    </tr>\n",
       "  </thead>\n",
       "  <tbody>\n",
       "    <tr>\n",
       "      <th>1354</th>\n",
       "      <td>0</td>\n",
       "      <td>1</td>\n",
       "      <td>1</td>\n",
       "      <td>1</td>\n",
       "      <td>1</td>\n",
       "      <td>1</td>\n",
       "      <td>0</td>\n",
       "    </tr>\n",
       "    <tr>\n",
       "      <th>6528</th>\n",
       "      <td>1</td>\n",
       "      <td>1</td>\n",
       "      <td>1</td>\n",
       "      <td>0</td>\n",
       "      <td>0</td>\n",
       "      <td>1</td>\n",
       "      <td>1</td>\n",
       "    </tr>\n",
       "    <tr>\n",
       "      <th>6490</th>\n",
       "      <td>0</td>\n",
       "      <td>1</td>\n",
       "      <td>0</td>\n",
       "      <td>0</td>\n",
       "      <td>0</td>\n",
       "      <td>0</td>\n",
       "      <td>1</td>\n",
       "    </tr>\n",
       "    <tr>\n",
       "      <th>331</th>\n",
       "      <td>1</td>\n",
       "      <td>0</td>\n",
       "      <td>0</td>\n",
       "      <td>0</td>\n",
       "      <td>0</td>\n",
       "      <td>0</td>\n",
       "      <td>0</td>\n",
       "    </tr>\n",
       "    <tr>\n",
       "      <th>65</th>\n",
       "      <td>1</td>\n",
       "      <td>1</td>\n",
       "      <td>1</td>\n",
       "      <td>1</td>\n",
       "      <td>0</td>\n",
       "      <td>0</td>\n",
       "      <td>1</td>\n",
       "    </tr>\n",
       "    <tr>\n",
       "      <th>...</th>\n",
       "      <td>...</td>\n",
       "      <td>...</td>\n",
       "      <td>...</td>\n",
       "      <td>...</td>\n",
       "      <td>...</td>\n",
       "      <td>...</td>\n",
       "      <td>...</td>\n",
       "    </tr>\n",
       "    <tr>\n",
       "      <th>197</th>\n",
       "      <td>1</td>\n",
       "      <td>1</td>\n",
       "      <td>0</td>\n",
       "      <td>0</td>\n",
       "      <td>1</td>\n",
       "      <td>1</td>\n",
       "      <td>1</td>\n",
       "    </tr>\n",
       "    <tr>\n",
       "      <th>3538</th>\n",
       "      <td>1</td>\n",
       "      <td>1</td>\n",
       "      <td>1</td>\n",
       "      <td>1</td>\n",
       "      <td>0</td>\n",
       "      <td>1</td>\n",
       "      <td>1</td>\n",
       "    </tr>\n",
       "    <tr>\n",
       "      <th>3177</th>\n",
       "      <td>1</td>\n",
       "      <td>1</td>\n",
       "      <td>1</td>\n",
       "      <td>1</td>\n",
       "      <td>0</td>\n",
       "      <td>0</td>\n",
       "      <td>1</td>\n",
       "    </tr>\n",
       "    <tr>\n",
       "      <th>1251</th>\n",
       "      <td>1</td>\n",
       "      <td>0</td>\n",
       "      <td>0</td>\n",
       "      <td>0</td>\n",
       "      <td>0</td>\n",
       "      <td>0</td>\n",
       "      <td>0</td>\n",
       "    </tr>\n",
       "    <tr>\n",
       "      <th>896</th>\n",
       "      <td>1</td>\n",
       "      <td>1</td>\n",
       "      <td>1</td>\n",
       "      <td>1</td>\n",
       "      <td>1</td>\n",
       "      <td>1</td>\n",
       "      <td>0</td>\n",
       "    </tr>\n",
       "  </tbody>\n",
       "</table>\n",
       "<p>3561 rows × 7 columns</p>\n",
       "</div>"
      ],
      "text/plain": [
       "      Contract_Month-to-month  TechSupport_No  OnlineSecurity_No  \\\n",
       "1354                        0               1                  1   \n",
       "6528                        1               1                  1   \n",
       "6490                        0               1                  0   \n",
       "331                         1               0                  0   \n",
       "65                          1               1                  1   \n",
       "...                       ...             ...                ...   \n",
       "197                         1               1                  0   \n",
       "3538                        1               1                  1   \n",
       "3177                        1               1                  1   \n",
       "1251                        1               0                  0   \n",
       "896                         1               1                  1   \n",
       "\n",
       "      InternetService_Fiber optic  PaymentMethod_Electronic check  \\\n",
       "1354                            1                               1   \n",
       "6528                            0                               0   \n",
       "6490                            0                               0   \n",
       "331                             0                               0   \n",
       "65                              1                               0   \n",
       "...                           ...                             ...   \n",
       "197                             0                               1   \n",
       "3538                            1                               0   \n",
       "3177                            1                               0   \n",
       "1251                            0                               0   \n",
       "896                             1                               1   \n",
       "\n",
       "      OnlineBackup_No  DeviceProtection_No  \n",
       "1354                1                    0  \n",
       "6528                1                    1  \n",
       "6490                0                    1  \n",
       "331                 0                    0  \n",
       "65                  0                    1  \n",
       "...               ...                  ...  \n",
       "197                 1                    1  \n",
       "3538                1                    1  \n",
       "3177                0                    1  \n",
       "1251                0                    0  \n",
       "896                 1                    0  \n",
       "\n",
       "[3561 rows x 7 columns]"
      ]
     },
     "execution_count": 1467,
     "metadata": {},
     "output_type": "execute_result"
    }
   ],
   "source": [
    "selected_features = feature_importances['Features'].values[:7]\n",
    "X_selected_features = X[selected_features]\n",
    "X_selected_features"
   ]
  },
  {
   "cell_type": "code",
   "execution_count": 1468,
   "id": "67257968",
   "metadata": {},
   "outputs": [],
   "source": [
    "X_train, X_test, y_train, y_test = train_test_split(X_selected_features, y, random_state=16)"
   ]
  },
  {
   "cell_type": "markdown",
   "id": "179ed9ab",
   "metadata": {},
   "source": [
    "# Optimizando el modelo"
   ]
  },
  {
   "cell_type": "code",
   "execution_count": 1469,
   "id": "9d52010e",
   "metadata": {},
   "outputs": [
    {
     "data": {
      "text/plain": [
       "{'max_depth': 5,\n",
       " 'min_samples_leaf': 2,\n",
       " 'min_samples_split': 2,\n",
       " 'n_estimators': 150}"
      ]
     },
     "execution_count": 1469,
     "metadata": {},
     "output_type": "execute_result"
    }
   ],
   "source": [
    "param_grid = {\n",
    "    \"max_depth\": [5, 10, 15],\n",
    "    \"min_samples_leaf\": [1, 2, 3],\n",
    "    \"min_samples_split\": [2, 4, 6],\n",
    "    \"n_estimators\": [100, 150, 200],\n",
    "}\n",
    "\n",
    "from sklearn.model_selection import GridSearchCV\n",
    "\n",
    "cv = KFold(n_splits=5, shuffle=True, random_state=16)\n",
    "model_grid = GridSearchCV(\n",
    "    RandomForestRegressor(random_state=16), param_grid=param_grid, scoring=\"r2\", cv=cv\n",
    ")\n",
    "\n",
    "model_grid.fit(X_train, y_train)\n",
    "\n",
    "model_grid.best_params_"
   ]
  },
  {
   "cell_type": "code",
   "execution_count": 1470,
   "id": "1fff4d20",
   "metadata": {},
   "outputs": [
    {
     "data": {
      "text/plain": [
       "{'RMSE': 0.4026, 'MAE': 0.3053, 'R2': 0.2387}"
      ]
     },
     "execution_count": 1470,
     "metadata": {},
     "output_type": "execute_result"
    }
   ],
   "source": [
    "y_pred = model_grid.predict(X_test)\n",
    "metricas_model_grid = calcular_regresion(y_test, y_pred)\n",
    "metricas_model_grid"
   ]
  },
  {
   "cell_type": "code",
   "execution_count": 1471,
   "id": "5fb3e661",
   "metadata": {},
   "outputs": [
    {
     "data": {
      "text/html": [
       "<div>\n",
       "<style scoped>\n",
       "    .dataframe tbody tr th:only-of-type {\n",
       "        vertical-align: middle;\n",
       "    }\n",
       "\n",
       "    .dataframe tbody tr th {\n",
       "        vertical-align: top;\n",
       "    }\n",
       "\n",
       "    .dataframe thead th {\n",
       "        text-align: right;\n",
       "    }\n",
       "</style>\n",
       "<table border=\"1\" class=\"dataframe\">\n",
       "  <thead>\n",
       "    <tr style=\"text-align: right;\">\n",
       "      <th></th>\n",
       "      <th>5</th>\n",
       "      <th>6</th>\n",
       "      <th>7</th>\n",
       "      <th>8</th>\n",
       "      <th>9</th>\n",
       "      <th>10</th>\n",
       "      <th>modelo_grid</th>\n",
       "    </tr>\n",
       "  </thead>\n",
       "  <tbody>\n",
       "    <tr>\n",
       "      <th>RMSE</th>\n",
       "      <td>0.3912</td>\n",
       "      <td>0.3911</td>\n",
       "      <td>0.3910</td>\n",
       "      <td>0.3910</td>\n",
       "      <td>0.3910</td>\n",
       "      <td>0.3910</td>\n",
       "      <td>0.4026</td>\n",
       "    </tr>\n",
       "    <tr>\n",
       "      <th>MAE</th>\n",
       "      <td>0.3029</td>\n",
       "      <td>0.3021</td>\n",
       "      <td>0.3019</td>\n",
       "      <td>0.3019</td>\n",
       "      <td>0.3019</td>\n",
       "      <td>0.3019</td>\n",
       "      <td>0.3053</td>\n",
       "    </tr>\n",
       "    <tr>\n",
       "      <th>R2</th>\n",
       "      <td>0.2154</td>\n",
       "      <td>0.2156</td>\n",
       "      <td>0.2160</td>\n",
       "      <td>0.2160</td>\n",
       "      <td>0.2160</td>\n",
       "      <td>0.2160</td>\n",
       "      <td>0.2387</td>\n",
       "    </tr>\n",
       "  </tbody>\n",
       "</table>\n",
       "</div>"
      ],
      "text/plain": [
       "           5       6       7       8       9      10  modelo_grid\n",
       "RMSE  0.3912  0.3911  0.3910  0.3910  0.3910  0.3910       0.4026\n",
       "MAE   0.3029  0.3021  0.3019  0.3019  0.3019  0.3019       0.3053\n",
       "R2    0.2154  0.2156  0.2160  0.2160  0.2160  0.2160       0.2387"
      ]
     },
     "execution_count": 1471,
     "metadata": {},
     "output_type": "execute_result"
    }
   ],
   "source": [
    "resultados['modelo_grid'] = list(metricas_model_grid.values())\n",
    "resultados"
   ]
  },
  {
   "cell_type": "markdown",
   "id": "019b40df",
   "metadata": {},
   "source": [
    "# Resumen y hallazgos principales\n",
    "- Las variables más influyentes en la cancelación de clientes son el tipo de contrato, servicios de seguridad y soporte, y el método de pago electrónico.\n",
    "- El desbalance de clases afecta la capacidad predictiva, por lo que el uso de técnicas de balanceo como SMOTE mejora el recall y el F1-score.\n",
    "- Los modelos Random Forest y Decision Tree balanceados presentan un desempeño similar, siendo el Random Forest ligeramente superior en precisión y exactitud.\n",
    "- La métrica F1-score es la más adecuada para evaluar el modelo en este contexto de desbalance."
   ]
  },
  {
   "cell_type": "markdown",
   "id": "4b88ebc0",
   "metadata": {},
   "source": [
    "# Propuestas de Estrategias para Mejorar la Retención de Clientes\n",
    "\n",
    "A partir de los resultados obtenidos y el análisis de los principales factores que influyen en la cancelación de clientes, se proponen las siguientes estrategias para mejorar la retención:\n",
    "\n",
    "\n",
    "### 1. Incentivar contratos de mayor duración\n",
    "\n",
    "- El tipo de contrato \"Month-to-month\" es el principal predictor de cancelación. Se recomienda ofrecer incentivos (descuentos, beneficios exclusivos, meses gratis) para que los clientes migren a contratos anuales o de mayor plazo.\n",
    "\n",
    "\n",
    "### 2. Mejorar los servicios de seguridad y soporte\n",
    "\n",
    "- La falta de servicios como Online Security y Tech Support está fuertemente asociada a la cancelación. Se sugiere comunicar mejor el valor de estos servicios, ofrecer pruebas gratuitas o paquetes promocionales, y facilitar su contratación.\n",
    "\n",
    "\n",
    "### 3. Optimizar la experiencia de clientes con Internet de fibra óptica\n",
    "\n",
    "- Los usuarios de fibra óptica presentan mayor propensión a cancelar. Es clave monitorear la calidad del servicio, resolver incidencias rápidamente y ofrecer atención personalizada a este segmento o incluso considerar mejorar la infraestructura subyacente.\n",
    "\n",
    "\n",
    "### 4. Revisar y mejorar el método de pago electrónico\n",
    "\n",
    "- El pago mediante Electronic Check se asocia a mayor churn. Se recomienda promover métodos de pago automáticos (tarjeta, débito automático, Paypal) y simplificar el proceso de pago para reducir fricciones.\n",
    "\n",
    "\n",
    "### 5. Programas de fidelización y retención proactiva\n",
    "\n",
    "- Implementar alertas tempranas para clientes con alto riesgo de cancelación (por ejemplo, quienes cumplen ciertas condiciones detectadas por el modelo). Ofrecerles atención personalizada, encuestas de satisfacción y beneficios exclusivos.\n",
    "\n",
    "\n",
    "### 6. Educación y comunicación\n",
    "\n",
    "- Informar a los clientes sobre los beneficios de los servicios adicionales y las ventajas de contratos de mayor duración. Utilizar campañas de email, llamadas o mensajes personalizados."
   ]
  }
 ],
 "metadata": {
  "kernelspec": {
   "display_name": "condaenv",
   "language": "python",
   "name": "python3"
  },
  "language_info": {
   "codemirror_mode": {
    "name": "ipython",
    "version": 3
   },
   "file_extension": ".py",
   "mimetype": "text/x-python",
   "name": "python",
   "nbconvert_exporter": "python",
   "pygments_lexer": "ipython3",
   "version": "3.13.2"
  }
 },
 "nbformat": 4,
 "nbformat_minor": 5
}
