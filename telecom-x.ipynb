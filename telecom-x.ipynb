{
 "cells": [
  {
   "cell_type": "markdown",
   "id": "0a66f0d1",
   "metadata": {},
   "source": [
    "# Desafío Telecom X parte 2\n",
    "\n"
   ]
  }
 ],
 "metadata": {
  "kernelspec": {
   "display_name": "condaenv",
   "language": "python",
   "name": "python3"
  },
  "language_info": {
   "name": "python",
   "version": "3.13.2"
  }
 },
 "nbformat": 4,
 "nbformat_minor": 5
}
